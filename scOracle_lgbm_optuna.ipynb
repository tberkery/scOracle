{
 "cells": [
  {
   "cell_type": "code",
   "execution_count": 1,
   "id": "8d9fc739-0f30-45d7-b8fe-5d822d434499",
   "metadata": {},
   "outputs": [],
   "source": [
    "import pandas as pd\n",
    "import optuna.integration.lightgbm as lgb\n",
    "import optuna"
   ]
  },
  {
   "cell_type": "code",
   "execution_count": 2,
   "id": "4eaee65b-d857-4a5f-9bdc-f4aa46deb41b",
   "metadata": {},
   "outputs": [
    {
     "data": {
      "text/html": [
       "<div>\n",
       "<style scoped>\n",
       "    .dataframe tbody tr th:only-of-type {\n",
       "        vertical-align: middle;\n",
       "    }\n",
       "\n",
       "    .dataframe tbody tr th {\n",
       "        vertical-align: top;\n",
       "    }\n",
       "\n",
       "    .dataframe thead th {\n",
       "        text-align: right;\n",
       "    }\n",
       "</style>\n",
       "<table border=\"1\" class=\"dataframe\">\n",
       "  <thead>\n",
       "    <tr style=\"text-align: right;\">\n",
       "      <th></th>\n",
       "      <th>cell_type</th>\n",
       "      <th>sm_name</th>\n",
       "      <th>sm_lincs_id</th>\n",
       "      <th>SMILES</th>\n",
       "      <th>control</th>\n",
       "      <th>A1BG</th>\n",
       "      <th>A1BG-AS1</th>\n",
       "      <th>A2M</th>\n",
       "      <th>A2M-AS1</th>\n",
       "      <th>A2MP1</th>\n",
       "      <th>...</th>\n",
       "      <th>ZUP1</th>\n",
       "      <th>ZW10</th>\n",
       "      <th>ZWILCH</th>\n",
       "      <th>ZWINT</th>\n",
       "      <th>ZXDA</th>\n",
       "      <th>ZXDB</th>\n",
       "      <th>ZXDC</th>\n",
       "      <th>ZYG11B</th>\n",
       "      <th>ZYX</th>\n",
       "      <th>ZZEF1</th>\n",
       "    </tr>\n",
       "  </thead>\n",
       "  <tbody>\n",
       "    <tr>\n",
       "      <th>0</th>\n",
       "      <td>NK cells</td>\n",
       "      <td>Clotrimazole</td>\n",
       "      <td>LSM-5341</td>\n",
       "      <td>Clc1ccccc1C(c1ccccc1)(c1ccccc1)n1ccnc1</td>\n",
       "      <td>False</td>\n",
       "      <td>0.104720</td>\n",
       "      <td>-0.077524</td>\n",
       "      <td>-1.625596</td>\n",
       "      <td>-0.144545</td>\n",
       "      <td>0.143555</td>\n",
       "      <td>...</td>\n",
       "      <td>-0.227781</td>\n",
       "      <td>-0.010752</td>\n",
       "      <td>-0.023881</td>\n",
       "      <td>0.674536</td>\n",
       "      <td>-0.453068</td>\n",
       "      <td>0.005164</td>\n",
       "      <td>-0.094959</td>\n",
       "      <td>0.034127</td>\n",
       "      <td>0.221377</td>\n",
       "      <td>0.368755</td>\n",
       "    </tr>\n",
       "    <tr>\n",
       "      <th>1</th>\n",
       "      <td>T cells CD4+</td>\n",
       "      <td>Clotrimazole</td>\n",
       "      <td>LSM-5341</td>\n",
       "      <td>Clc1ccccc1C(c1ccccc1)(c1ccccc1)n1ccnc1</td>\n",
       "      <td>False</td>\n",
       "      <td>0.915953</td>\n",
       "      <td>-0.884380</td>\n",
       "      <td>0.371834</td>\n",
       "      <td>-0.081677</td>\n",
       "      <td>-0.498266</td>\n",
       "      <td>...</td>\n",
       "      <td>-0.494985</td>\n",
       "      <td>-0.303419</td>\n",
       "      <td>0.304955</td>\n",
       "      <td>-0.333905</td>\n",
       "      <td>-0.315516</td>\n",
       "      <td>-0.369626</td>\n",
       "      <td>-0.095079</td>\n",
       "      <td>0.704780</td>\n",
       "      <td>1.096702</td>\n",
       "      <td>-0.869887</td>\n",
       "    </tr>\n",
       "    <tr>\n",
       "      <th>2</th>\n",
       "      <td>T cells CD8+</td>\n",
       "      <td>Clotrimazole</td>\n",
       "      <td>LSM-5341</td>\n",
       "      <td>Clc1ccccc1C(c1ccccc1)(c1ccccc1)n1ccnc1</td>\n",
       "      <td>False</td>\n",
       "      <td>-0.387721</td>\n",
       "      <td>-0.305378</td>\n",
       "      <td>0.567777</td>\n",
       "      <td>0.303895</td>\n",
       "      <td>-0.022653</td>\n",
       "      <td>...</td>\n",
       "      <td>-0.119422</td>\n",
       "      <td>-0.033608</td>\n",
       "      <td>-0.153123</td>\n",
       "      <td>0.183597</td>\n",
       "      <td>-0.555678</td>\n",
       "      <td>-1.494789</td>\n",
       "      <td>-0.213550</td>\n",
       "      <td>0.415768</td>\n",
       "      <td>0.078439</td>\n",
       "      <td>-0.259365</td>\n",
       "    </tr>\n",
       "    <tr>\n",
       "      <th>3</th>\n",
       "      <td>T regulatory cells</td>\n",
       "      <td>Clotrimazole</td>\n",
       "      <td>LSM-5341</td>\n",
       "      <td>Clc1ccccc1C(c1ccccc1)(c1ccccc1)n1ccnc1</td>\n",
       "      <td>False</td>\n",
       "      <td>0.232893</td>\n",
       "      <td>0.129029</td>\n",
       "      <td>0.336897</td>\n",
       "      <td>0.486946</td>\n",
       "      <td>0.767661</td>\n",
       "      <td>...</td>\n",
       "      <td>0.451679</td>\n",
       "      <td>0.704643</td>\n",
       "      <td>0.015468</td>\n",
       "      <td>-0.103868</td>\n",
       "      <td>0.865027</td>\n",
       "      <td>0.189114</td>\n",
       "      <td>0.224700</td>\n",
       "      <td>-0.048233</td>\n",
       "      <td>0.216139</td>\n",
       "      <td>-0.085024</td>\n",
       "    </tr>\n",
       "    <tr>\n",
       "      <th>4</th>\n",
       "      <td>NK cells</td>\n",
       "      <td>Mometasone Furoate</td>\n",
       "      <td>LSM-3349</td>\n",
       "      <td>C[C@@H]1C[C@H]2[C@@H]3CCC4=CC(=O)C=C[C@]4(C)[C...</td>\n",
       "      <td>False</td>\n",
       "      <td>4.290652</td>\n",
       "      <td>-0.063864</td>\n",
       "      <td>-0.017443</td>\n",
       "      <td>-0.541154</td>\n",
       "      <td>0.570982</td>\n",
       "      <td>...</td>\n",
       "      <td>0.758474</td>\n",
       "      <td>0.510762</td>\n",
       "      <td>0.607401</td>\n",
       "      <td>-0.123059</td>\n",
       "      <td>0.214366</td>\n",
       "      <td>0.487838</td>\n",
       "      <td>-0.819775</td>\n",
       "      <td>0.112365</td>\n",
       "      <td>-0.122193</td>\n",
       "      <td>0.676629</td>\n",
       "    </tr>\n",
       "  </tbody>\n",
       "</table>\n",
       "<p>5 rows × 18216 columns</p>\n",
       "</div>"
      ],
      "text/plain": [
       "            cell_type             sm_name sm_lincs_id  \\\n",
       "0            NK cells        Clotrimazole    LSM-5341   \n",
       "1        T cells CD4+        Clotrimazole    LSM-5341   \n",
       "2        T cells CD8+        Clotrimazole    LSM-5341   \n",
       "3  T regulatory cells        Clotrimazole    LSM-5341   \n",
       "4            NK cells  Mometasone Furoate    LSM-3349   \n",
       "\n",
       "                                              SMILES  control      A1BG  \\\n",
       "0             Clc1ccccc1C(c1ccccc1)(c1ccccc1)n1ccnc1    False  0.104720   \n",
       "1             Clc1ccccc1C(c1ccccc1)(c1ccccc1)n1ccnc1    False  0.915953   \n",
       "2             Clc1ccccc1C(c1ccccc1)(c1ccccc1)n1ccnc1    False -0.387721   \n",
       "3             Clc1ccccc1C(c1ccccc1)(c1ccccc1)n1ccnc1    False  0.232893   \n",
       "4  C[C@@H]1C[C@H]2[C@@H]3CCC4=CC(=O)C=C[C@]4(C)[C...    False  4.290652   \n",
       "\n",
       "   A1BG-AS1       A2M   A2M-AS1     A2MP1  ...      ZUP1      ZW10    ZWILCH  \\\n",
       "0 -0.077524 -1.625596 -0.144545  0.143555  ... -0.227781 -0.010752 -0.023881   \n",
       "1 -0.884380  0.371834 -0.081677 -0.498266  ... -0.494985 -0.303419  0.304955   \n",
       "2 -0.305378  0.567777  0.303895 -0.022653  ... -0.119422 -0.033608 -0.153123   \n",
       "3  0.129029  0.336897  0.486946  0.767661  ...  0.451679  0.704643  0.015468   \n",
       "4 -0.063864 -0.017443 -0.541154  0.570982  ...  0.758474  0.510762  0.607401   \n",
       "\n",
       "      ZWINT      ZXDA      ZXDB      ZXDC    ZYG11B       ZYX     ZZEF1  \n",
       "0  0.674536 -0.453068  0.005164 -0.094959  0.034127  0.221377  0.368755  \n",
       "1 -0.333905 -0.315516 -0.369626 -0.095079  0.704780  1.096702 -0.869887  \n",
       "2  0.183597 -0.555678 -1.494789 -0.213550  0.415768  0.078439 -0.259365  \n",
       "3 -0.103868  0.865027  0.189114  0.224700 -0.048233  0.216139 -0.085024  \n",
       "4 -0.123059  0.214366  0.487838 -0.819775  0.112365 -0.122193  0.676629  \n",
       "\n",
       "[5 rows x 18216 columns]"
      ]
     },
     "execution_count": 2,
     "metadata": {},
     "output_type": "execute_result"
    }
   ],
   "source": [
    "de_train = pd.read_parquet(f\"./train/de_train.parquet\")\n",
    "de_train.head()"
   ]
  },
  {
   "cell_type": "code",
   "execution_count": 4,
   "id": "8fd502b2-571b-4f37-81f7-1e232cba3201",
   "metadata": {},
   "outputs": [],
   "source": [
    "from sklearn.preprocessing import OneHotEncoder\n",
    "from rdkit import Chem\n",
    "from rdkit.Chem import RDKFingerprint\n",
    "import numpy as np"
   ]
  },
  {
   "cell_type": "code",
   "execution_count": 5,
   "id": "18bc953a-439b-462d-9e2c-eb3d5b76df75",
   "metadata": {},
   "outputs": [],
   "source": [
    "cell_types = de_train.iloc[:,0:1]"
   ]
  },
  {
   "cell_type": "code",
   "execution_count": 6,
   "id": "65f2ab9c-bc0d-4862-ab15-a0f36dd2fed5",
   "metadata": {},
   "outputs": [
    {
     "data": {
      "text/html": [
       "<div>\n",
       "<style scoped>\n",
       "    .dataframe tbody tr th:only-of-type {\n",
       "        vertical-align: middle;\n",
       "    }\n",
       "\n",
       "    .dataframe tbody tr th {\n",
       "        vertical-align: top;\n",
       "    }\n",
       "\n",
       "    .dataframe thead th {\n",
       "        text-align: right;\n",
       "    }\n",
       "</style>\n",
       "<table border=\"1\" class=\"dataframe\">\n",
       "  <thead>\n",
       "    <tr style=\"text-align: right;\">\n",
       "      <th></th>\n",
       "      <th>cell_type</th>\n",
       "      <th>sm_name</th>\n",
       "      <th>sm_lincs_id</th>\n",
       "      <th>SMILES</th>\n",
       "      <th>control</th>\n",
       "      <th>A1BG</th>\n",
       "      <th>A1BG-AS1</th>\n",
       "      <th>A2M</th>\n",
       "      <th>A2M-AS1</th>\n",
       "      <th>A2MP1</th>\n",
       "      <th>...</th>\n",
       "      <th>ZW10</th>\n",
       "      <th>ZWILCH</th>\n",
       "      <th>ZWINT</th>\n",
       "      <th>ZXDA</th>\n",
       "      <th>ZXDB</th>\n",
       "      <th>ZXDC</th>\n",
       "      <th>ZYG11B</th>\n",
       "      <th>ZYX</th>\n",
       "      <th>ZZEF1</th>\n",
       "      <th>cell_type_ohe</th>\n",
       "    </tr>\n",
       "  </thead>\n",
       "  <tbody>\n",
       "    <tr>\n",
       "      <th>0</th>\n",
       "      <td>NK cells</td>\n",
       "      <td>Clotrimazole</td>\n",
       "      <td>LSM-5341</td>\n",
       "      <td>Clc1ccccc1C(c1ccccc1)(c1ccccc1)n1ccnc1</td>\n",
       "      <td>False</td>\n",
       "      <td>0.104720</td>\n",
       "      <td>-0.077524</td>\n",
       "      <td>-1.625596</td>\n",
       "      <td>-0.144545</td>\n",
       "      <td>0.143555</td>\n",
       "      <td>...</td>\n",
       "      <td>-0.010752</td>\n",
       "      <td>-0.023881</td>\n",
       "      <td>0.674536</td>\n",
       "      <td>-0.453068</td>\n",
       "      <td>0.005164</td>\n",
       "      <td>-0.094959</td>\n",
       "      <td>0.034127</td>\n",
       "      <td>0.221377</td>\n",
       "      <td>0.368755</td>\n",
       "      <td>[0.0, 0.0, 1.0, 0.0, 0.0, 0.0]</td>\n",
       "    </tr>\n",
       "    <tr>\n",
       "      <th>1</th>\n",
       "      <td>T cells CD4+</td>\n",
       "      <td>Clotrimazole</td>\n",
       "      <td>LSM-5341</td>\n",
       "      <td>Clc1ccccc1C(c1ccccc1)(c1ccccc1)n1ccnc1</td>\n",
       "      <td>False</td>\n",
       "      <td>0.915953</td>\n",
       "      <td>-0.884380</td>\n",
       "      <td>0.371834</td>\n",
       "      <td>-0.081677</td>\n",
       "      <td>-0.498266</td>\n",
       "      <td>...</td>\n",
       "      <td>-0.303419</td>\n",
       "      <td>0.304955</td>\n",
       "      <td>-0.333905</td>\n",
       "      <td>-0.315516</td>\n",
       "      <td>-0.369626</td>\n",
       "      <td>-0.095079</td>\n",
       "      <td>0.704780</td>\n",
       "      <td>1.096702</td>\n",
       "      <td>-0.869887</td>\n",
       "      <td>[0.0, 0.0, 0.0, 1.0, 0.0, 0.0]</td>\n",
       "    </tr>\n",
       "    <tr>\n",
       "      <th>2</th>\n",
       "      <td>T cells CD8+</td>\n",
       "      <td>Clotrimazole</td>\n",
       "      <td>LSM-5341</td>\n",
       "      <td>Clc1ccccc1C(c1ccccc1)(c1ccccc1)n1ccnc1</td>\n",
       "      <td>False</td>\n",
       "      <td>-0.387721</td>\n",
       "      <td>-0.305378</td>\n",
       "      <td>0.567777</td>\n",
       "      <td>0.303895</td>\n",
       "      <td>-0.022653</td>\n",
       "      <td>...</td>\n",
       "      <td>-0.033608</td>\n",
       "      <td>-0.153123</td>\n",
       "      <td>0.183597</td>\n",
       "      <td>-0.555678</td>\n",
       "      <td>-1.494789</td>\n",
       "      <td>-0.213550</td>\n",
       "      <td>0.415768</td>\n",
       "      <td>0.078439</td>\n",
       "      <td>-0.259365</td>\n",
       "      <td>[0.0, 0.0, 0.0, 0.0, 1.0, 0.0]</td>\n",
       "    </tr>\n",
       "    <tr>\n",
       "      <th>3</th>\n",
       "      <td>T regulatory cells</td>\n",
       "      <td>Clotrimazole</td>\n",
       "      <td>LSM-5341</td>\n",
       "      <td>Clc1ccccc1C(c1ccccc1)(c1ccccc1)n1ccnc1</td>\n",
       "      <td>False</td>\n",
       "      <td>0.232893</td>\n",
       "      <td>0.129029</td>\n",
       "      <td>0.336897</td>\n",
       "      <td>0.486946</td>\n",
       "      <td>0.767661</td>\n",
       "      <td>...</td>\n",
       "      <td>0.704643</td>\n",
       "      <td>0.015468</td>\n",
       "      <td>-0.103868</td>\n",
       "      <td>0.865027</td>\n",
       "      <td>0.189114</td>\n",
       "      <td>0.224700</td>\n",
       "      <td>-0.048233</td>\n",
       "      <td>0.216139</td>\n",
       "      <td>-0.085024</td>\n",
       "      <td>[0.0, 0.0, 0.0, 0.0, 0.0, 1.0]</td>\n",
       "    </tr>\n",
       "    <tr>\n",
       "      <th>4</th>\n",
       "      <td>NK cells</td>\n",
       "      <td>Mometasone Furoate</td>\n",
       "      <td>LSM-3349</td>\n",
       "      <td>C[C@@H]1C[C@H]2[C@@H]3CCC4=CC(=O)C=C[C@]4(C)[C...</td>\n",
       "      <td>False</td>\n",
       "      <td>4.290652</td>\n",
       "      <td>-0.063864</td>\n",
       "      <td>-0.017443</td>\n",
       "      <td>-0.541154</td>\n",
       "      <td>0.570982</td>\n",
       "      <td>...</td>\n",
       "      <td>0.510762</td>\n",
       "      <td>0.607401</td>\n",
       "      <td>-0.123059</td>\n",
       "      <td>0.214366</td>\n",
       "      <td>0.487838</td>\n",
       "      <td>-0.819775</td>\n",
       "      <td>0.112365</td>\n",
       "      <td>-0.122193</td>\n",
       "      <td>0.676629</td>\n",
       "      <td>[0.0, 0.0, 1.0, 0.0, 0.0, 0.0]</td>\n",
       "    </tr>\n",
       "  </tbody>\n",
       "</table>\n",
       "<p>5 rows × 18217 columns</p>\n",
       "</div>"
      ],
      "text/plain": [
       "            cell_type             sm_name sm_lincs_id  \\\n",
       "0            NK cells        Clotrimazole    LSM-5341   \n",
       "1        T cells CD4+        Clotrimazole    LSM-5341   \n",
       "2        T cells CD8+        Clotrimazole    LSM-5341   \n",
       "3  T regulatory cells        Clotrimazole    LSM-5341   \n",
       "4            NK cells  Mometasone Furoate    LSM-3349   \n",
       "\n",
       "                                              SMILES  control      A1BG  \\\n",
       "0             Clc1ccccc1C(c1ccccc1)(c1ccccc1)n1ccnc1    False  0.104720   \n",
       "1             Clc1ccccc1C(c1ccccc1)(c1ccccc1)n1ccnc1    False  0.915953   \n",
       "2             Clc1ccccc1C(c1ccccc1)(c1ccccc1)n1ccnc1    False -0.387721   \n",
       "3             Clc1ccccc1C(c1ccccc1)(c1ccccc1)n1ccnc1    False  0.232893   \n",
       "4  C[C@@H]1C[C@H]2[C@@H]3CCC4=CC(=O)C=C[C@]4(C)[C...    False  4.290652   \n",
       "\n",
       "   A1BG-AS1       A2M   A2M-AS1     A2MP1  ...      ZW10    ZWILCH     ZWINT  \\\n",
       "0 -0.077524 -1.625596 -0.144545  0.143555  ... -0.010752 -0.023881  0.674536   \n",
       "1 -0.884380  0.371834 -0.081677 -0.498266  ... -0.303419  0.304955 -0.333905   \n",
       "2 -0.305378  0.567777  0.303895 -0.022653  ... -0.033608 -0.153123  0.183597   \n",
       "3  0.129029  0.336897  0.486946  0.767661  ...  0.704643  0.015468 -0.103868   \n",
       "4 -0.063864 -0.017443 -0.541154  0.570982  ...  0.510762  0.607401 -0.123059   \n",
       "\n",
       "       ZXDA      ZXDB      ZXDC    ZYG11B       ZYX     ZZEF1  \\\n",
       "0 -0.453068  0.005164 -0.094959  0.034127  0.221377  0.368755   \n",
       "1 -0.315516 -0.369626 -0.095079  0.704780  1.096702 -0.869887   \n",
       "2 -0.555678 -1.494789 -0.213550  0.415768  0.078439 -0.259365   \n",
       "3  0.865027  0.189114  0.224700 -0.048233  0.216139 -0.085024   \n",
       "4  0.214366  0.487838 -0.819775  0.112365 -0.122193  0.676629   \n",
       "\n",
       "                    cell_type_ohe  \n",
       "0  [0.0, 0.0, 1.0, 0.0, 0.0, 0.0]  \n",
       "1  [0.0, 0.0, 0.0, 1.0, 0.0, 0.0]  \n",
       "2  [0.0, 0.0, 0.0, 0.0, 1.0, 0.0]  \n",
       "3  [0.0, 0.0, 0.0, 0.0, 0.0, 1.0]  \n",
       "4  [0.0, 0.0, 1.0, 0.0, 0.0, 0.0]  \n",
       "\n",
       "[5 rows x 18217 columns]"
      ]
     },
     "execution_count": 6,
     "metadata": {},
     "output_type": "execute_result"
    }
   ],
   "source": [
    "ohe = OneHotEncoder(handle_unknown='ignore', sparse_output=False).fit(cell_types)\n",
    "cell_types_ohe = ohe.transform(cell_types)\n",
    "cell_types_ohe = cell_types_ohe.tolist()\n",
    "de_train['cell_type_ohe'] = cell_types_ohe\n",
    "de_train.head()"
   ]
  },
  {
   "cell_type": "code",
   "execution_count": 7,
   "id": "2b0e4c00-a024-4685-a2bd-f2faf53eb732",
   "metadata": {},
   "outputs": [
    {
     "name": "stdout",
     "output_type": "stream",
     "text": [
      "614\n",
      "614\n"
     ]
    }
   ],
   "source": [
    "perts = de_train[\"SMILES\"]\n",
    "print(len(perts))\n",
    "perts = perts.dropna()\n",
    "print(len(perts))"
   ]
  },
  {
   "cell_type": "code",
   "execution_count": 8,
   "id": "03b0a701-5e8e-4be9-bdbb-34b4ca23c584",
   "metadata": {},
   "outputs": [
    {
     "name": "stdout",
     "output_type": "stream",
     "text": [
      "614\n"
     ]
    }
   ],
   "source": [
    "cs_arr = []\n",
    "for pert in perts:\n",
    "  try:\n",
    "    cs = Chem.CanonSmiles(pert)\n",
    "    cs_arr.append(cs)\n",
    "  except:\n",
    "    print('Invalid SMILES: ', pert)\n",
    "print(len(cs_arr))"
   ]
  },
  {
   "cell_type": "code",
   "execution_count": 9,
   "id": "b1e50679-cb34-4975-b021-9e24f1cac38d",
   "metadata": {},
   "outputs": [
    {
     "data": {
      "text/html": [
       "<div>\n",
       "<style scoped>\n",
       "    .dataframe tbody tr th:only-of-type {\n",
       "        vertical-align: middle;\n",
       "    }\n",
       "\n",
       "    .dataframe tbody tr th {\n",
       "        vertical-align: top;\n",
       "    }\n",
       "\n",
       "    .dataframe thead th {\n",
       "        text-align: right;\n",
       "    }\n",
       "</style>\n",
       "<table border=\"1\" class=\"dataframe\">\n",
       "  <thead>\n",
       "    <tr style=\"text-align: right;\">\n",
       "      <th></th>\n",
       "      <th>cell_type</th>\n",
       "      <th>sm_name</th>\n",
       "      <th>sm_lincs_id</th>\n",
       "      <th>SMILES</th>\n",
       "      <th>control</th>\n",
       "      <th>A1BG</th>\n",
       "      <th>A1BG-AS1</th>\n",
       "      <th>A2M</th>\n",
       "      <th>A2M-AS1</th>\n",
       "      <th>A2MP1</th>\n",
       "      <th>...</th>\n",
       "      <th>ZWILCH</th>\n",
       "      <th>ZWINT</th>\n",
       "      <th>ZXDA</th>\n",
       "      <th>ZXDB</th>\n",
       "      <th>ZXDC</th>\n",
       "      <th>ZYG11B</th>\n",
       "      <th>ZYX</th>\n",
       "      <th>ZZEF1</th>\n",
       "      <th>cell_type_ohe</th>\n",
       "      <th>fingerprint</th>\n",
       "    </tr>\n",
       "  </thead>\n",
       "  <tbody>\n",
       "    <tr>\n",
       "      <th>0</th>\n",
       "      <td>NK cells</td>\n",
       "      <td>Clotrimazole</td>\n",
       "      <td>LSM-5341</td>\n",
       "      <td>Clc1ccccc1C(c1ccccc1)(c1ccccc1)n1ccnc1</td>\n",
       "      <td>False</td>\n",
       "      <td>0.104720</td>\n",
       "      <td>-0.077524</td>\n",
       "      <td>-1.625596</td>\n",
       "      <td>-0.144545</td>\n",
       "      <td>0.143555</td>\n",
       "      <td>...</td>\n",
       "      <td>-0.023881</td>\n",
       "      <td>0.674536</td>\n",
       "      <td>-0.453068</td>\n",
       "      <td>0.005164</td>\n",
       "      <td>-0.094959</td>\n",
       "      <td>0.034127</td>\n",
       "      <td>0.221377</td>\n",
       "      <td>0.368755</td>\n",
       "      <td>[0.0, 0.0, 1.0, 0.0, 0.0, 0.0]</td>\n",
       "      <td>[0, 0, 0, 1, 0, 1, 1, 1, 0, 0, 0, 0, 0, 1, 0, ...</td>\n",
       "    </tr>\n",
       "    <tr>\n",
       "      <th>1</th>\n",
       "      <td>T cells CD4+</td>\n",
       "      <td>Clotrimazole</td>\n",
       "      <td>LSM-5341</td>\n",
       "      <td>Clc1ccccc1C(c1ccccc1)(c1ccccc1)n1ccnc1</td>\n",
       "      <td>False</td>\n",
       "      <td>0.915953</td>\n",
       "      <td>-0.884380</td>\n",
       "      <td>0.371834</td>\n",
       "      <td>-0.081677</td>\n",
       "      <td>-0.498266</td>\n",
       "      <td>...</td>\n",
       "      <td>0.304955</td>\n",
       "      <td>-0.333905</td>\n",
       "      <td>-0.315516</td>\n",
       "      <td>-0.369626</td>\n",
       "      <td>-0.095079</td>\n",
       "      <td>0.704780</td>\n",
       "      <td>1.096702</td>\n",
       "      <td>-0.869887</td>\n",
       "      <td>[0.0, 0.0, 0.0, 1.0, 0.0, 0.0]</td>\n",
       "      <td>[0, 0, 0, 1, 0, 1, 1, 1, 0, 0, 0, 0, 0, 1, 0, ...</td>\n",
       "    </tr>\n",
       "    <tr>\n",
       "      <th>2</th>\n",
       "      <td>T cells CD8+</td>\n",
       "      <td>Clotrimazole</td>\n",
       "      <td>LSM-5341</td>\n",
       "      <td>Clc1ccccc1C(c1ccccc1)(c1ccccc1)n1ccnc1</td>\n",
       "      <td>False</td>\n",
       "      <td>-0.387721</td>\n",
       "      <td>-0.305378</td>\n",
       "      <td>0.567777</td>\n",
       "      <td>0.303895</td>\n",
       "      <td>-0.022653</td>\n",
       "      <td>...</td>\n",
       "      <td>-0.153123</td>\n",
       "      <td>0.183597</td>\n",
       "      <td>-0.555678</td>\n",
       "      <td>-1.494789</td>\n",
       "      <td>-0.213550</td>\n",
       "      <td>0.415768</td>\n",
       "      <td>0.078439</td>\n",
       "      <td>-0.259365</td>\n",
       "      <td>[0.0, 0.0, 0.0, 0.0, 1.0, 0.0]</td>\n",
       "      <td>[0, 0, 0, 1, 0, 1, 1, 1, 0, 0, 0, 0, 0, 1, 0, ...</td>\n",
       "    </tr>\n",
       "    <tr>\n",
       "      <th>3</th>\n",
       "      <td>T regulatory cells</td>\n",
       "      <td>Clotrimazole</td>\n",
       "      <td>LSM-5341</td>\n",
       "      <td>Clc1ccccc1C(c1ccccc1)(c1ccccc1)n1ccnc1</td>\n",
       "      <td>False</td>\n",
       "      <td>0.232893</td>\n",
       "      <td>0.129029</td>\n",
       "      <td>0.336897</td>\n",
       "      <td>0.486946</td>\n",
       "      <td>0.767661</td>\n",
       "      <td>...</td>\n",
       "      <td>0.015468</td>\n",
       "      <td>-0.103868</td>\n",
       "      <td>0.865027</td>\n",
       "      <td>0.189114</td>\n",
       "      <td>0.224700</td>\n",
       "      <td>-0.048233</td>\n",
       "      <td>0.216139</td>\n",
       "      <td>-0.085024</td>\n",
       "      <td>[0.0, 0.0, 0.0, 0.0, 0.0, 1.0]</td>\n",
       "      <td>[0, 0, 0, 1, 0, 1, 1, 1, 0, 0, 0, 0, 0, 1, 0, ...</td>\n",
       "    </tr>\n",
       "    <tr>\n",
       "      <th>4</th>\n",
       "      <td>NK cells</td>\n",
       "      <td>Mometasone Furoate</td>\n",
       "      <td>LSM-3349</td>\n",
       "      <td>C[C@@H]1C[C@H]2[C@@H]3CCC4=CC(=O)C=C[C@]4(C)[C...</td>\n",
       "      <td>False</td>\n",
       "      <td>4.290652</td>\n",
       "      <td>-0.063864</td>\n",
       "      <td>-0.017443</td>\n",
       "      <td>-0.541154</td>\n",
       "      <td>0.570982</td>\n",
       "      <td>...</td>\n",
       "      <td>0.607401</td>\n",
       "      <td>-0.123059</td>\n",
       "      <td>0.214366</td>\n",
       "      <td>0.487838</td>\n",
       "      <td>-0.819775</td>\n",
       "      <td>0.112365</td>\n",
       "      <td>-0.122193</td>\n",
       "      <td>0.676629</td>\n",
       "      <td>[0.0, 0.0, 1.0, 0.0, 0.0, 0.0]</td>\n",
       "      <td>[1, 1, 0, 0, 0, 0, 0, 1, 1, 1, 0, 0, 0, 0, 1, ...</td>\n",
       "    </tr>\n",
       "  </tbody>\n",
       "</table>\n",
       "<p>5 rows × 18218 columns</p>\n",
       "</div>"
      ],
      "text/plain": [
       "            cell_type             sm_name sm_lincs_id  \\\n",
       "0            NK cells        Clotrimazole    LSM-5341   \n",
       "1        T cells CD4+        Clotrimazole    LSM-5341   \n",
       "2        T cells CD8+        Clotrimazole    LSM-5341   \n",
       "3  T regulatory cells        Clotrimazole    LSM-5341   \n",
       "4            NK cells  Mometasone Furoate    LSM-3349   \n",
       "\n",
       "                                              SMILES  control      A1BG  \\\n",
       "0             Clc1ccccc1C(c1ccccc1)(c1ccccc1)n1ccnc1    False  0.104720   \n",
       "1             Clc1ccccc1C(c1ccccc1)(c1ccccc1)n1ccnc1    False  0.915953   \n",
       "2             Clc1ccccc1C(c1ccccc1)(c1ccccc1)n1ccnc1    False -0.387721   \n",
       "3             Clc1ccccc1C(c1ccccc1)(c1ccccc1)n1ccnc1    False  0.232893   \n",
       "4  C[C@@H]1C[C@H]2[C@@H]3CCC4=CC(=O)C=C[C@]4(C)[C...    False  4.290652   \n",
       "\n",
       "   A1BG-AS1       A2M   A2M-AS1     A2MP1  ...    ZWILCH     ZWINT      ZXDA  \\\n",
       "0 -0.077524 -1.625596 -0.144545  0.143555  ... -0.023881  0.674536 -0.453068   \n",
       "1 -0.884380  0.371834 -0.081677 -0.498266  ...  0.304955 -0.333905 -0.315516   \n",
       "2 -0.305378  0.567777  0.303895 -0.022653  ... -0.153123  0.183597 -0.555678   \n",
       "3  0.129029  0.336897  0.486946  0.767661  ...  0.015468 -0.103868  0.865027   \n",
       "4 -0.063864 -0.017443 -0.541154  0.570982  ...  0.607401 -0.123059  0.214366   \n",
       "\n",
       "       ZXDB      ZXDC    ZYG11B       ZYX     ZZEF1  \\\n",
       "0  0.005164 -0.094959  0.034127  0.221377  0.368755   \n",
       "1 -0.369626 -0.095079  0.704780  1.096702 -0.869887   \n",
       "2 -1.494789 -0.213550  0.415768  0.078439 -0.259365   \n",
       "3  0.189114  0.224700 -0.048233  0.216139 -0.085024   \n",
       "4  0.487838 -0.819775  0.112365 -0.122193  0.676629   \n",
       "\n",
       "                    cell_type_ohe  \\\n",
       "0  [0.0, 0.0, 1.0, 0.0, 0.0, 0.0]   \n",
       "1  [0.0, 0.0, 0.0, 1.0, 0.0, 0.0]   \n",
       "2  [0.0, 0.0, 0.0, 0.0, 1.0, 0.0]   \n",
       "3  [0.0, 0.0, 0.0, 0.0, 0.0, 1.0]   \n",
       "4  [0.0, 0.0, 1.0, 0.0, 0.0, 0.0]   \n",
       "\n",
       "                                         fingerprint  \n",
       "0  [0, 0, 0, 1, 0, 1, 1, 1, 0, 0, 0, 0, 0, 1, 0, ...  \n",
       "1  [0, 0, 0, 1, 0, 1, 1, 1, 0, 0, 0, 0, 0, 1, 0, ...  \n",
       "2  [0, 0, 0, 1, 0, 1, 1, 1, 0, 0, 0, 0, 0, 1, 0, ...  \n",
       "3  [0, 0, 0, 1, 0, 1, 1, 1, 0, 0, 0, 0, 0, 1, 0, ...  \n",
       "4  [1, 1, 0, 0, 0, 0, 0, 1, 1, 1, 0, 0, 0, 0, 1, ...  \n",
       "\n",
       "[5 rows x 18218 columns]"
      ]
     },
     "execution_count": 9,
     "metadata": {},
     "output_type": "execute_result"
    }
   ],
   "source": [
    "mols = [Chem.MolFromSmiles(x) for x in cs_arr]\n",
    "fps = [np.array(RDKFingerprint(mol)) for mol in mols]\n",
    "de_train['fingerprint'] = fps\n",
    "de_train.head()"
   ]
  },
  {
   "cell_type": "code",
   "execution_count": 102,
   "id": "b871d23e-d026-4c6f-9e54-32421e311bc4",
   "metadata": {},
   "outputs": [],
   "source": [
    "from sklearn.model_selection import train_test_split\n",
    "import lightgbm as lgb\n",
    "from tqdm import tqdm\n",
    "from sklearn.metrics import mean_squared_error\n",
    "import sklearn"
   ]
  },
  {
   "cell_type": "code",
   "execution_count": 11,
   "id": "db13f98c-a12c-41c8-9419-48c981abf716",
   "metadata": {},
   "outputs": [],
   "source": [
    "res_arr = []\n",
    "for i in range(len(de_train)):\n",
    "  ct_ohe = np.array(de_train.iloc[i,-2:-1][0])\n",
    "  fingerprint = np.array(de_train.iloc[i,-1:][0])\n",
    "  res = np.concatenate((ct_ohe, fingerprint), axis=0)\n",
    "  res_arr.append(res)"
   ]
  },
  {
   "cell_type": "code",
   "execution_count": 12,
   "id": "71146a62-981b-4ce8-820c-824fa17d5a8d",
   "metadata": {},
   "outputs": [],
   "source": [
    "de_train['merged'] = res_arr"
   ]
  },
  {
   "cell_type": "code",
   "execution_count": 13,
   "id": "af2bd0ad-795b-4d38-b08d-d933ba7aadf7",
   "metadata": {},
   "outputs": [],
   "source": [
    "b_cells_df = de_train[de_train[\"cell_type\"] == \"B cells\"]\n",
    "my_cells_df = de_train[de_train[\"cell_type\"] == \"Myeloid cells\"]"
   ]
  },
  {
   "cell_type": "code",
   "execution_count": 33,
   "id": "04b86510-6f53-4d09-b4e1-4564ce01aae4",
   "metadata": {},
   "outputs": [],
   "source": [
    "b_cells_idxes = list(b_cells_df.index)\n",
    "my_cells_idxes = list(my_cells_df.index)"
   ]
  },
  {
   "cell_type": "code",
   "execution_count": 34,
   "id": "71eb0023-4aa1-4379-8123-65e20d5d034d",
   "metadata": {},
   "outputs": [
    {
     "name": "stdout",
     "output_type": "stream",
     "text": [
      "(580, 2054)\n"
     ]
    }
   ],
   "source": [
    "tmp_x = de_train.iloc[:,-1:]\n",
    "arr = []\n",
    "for i in range(len(tmp_x)):\n",
    "    if i in b_cells_idxes or i in my_cells_idxes:\n",
    "        continue\n",
    "    arr.append(tmp_x.iloc[i,0])\n",
    "X = np.array(arr)\n",
    "print(X.shape)"
   ]
  },
  {
   "cell_type": "code",
   "execution_count": 133,
   "id": "2301d160-6aeb-4c11-b6a8-a4f4e50fbbb3",
   "metadata": {},
   "outputs": [
    {
     "name": "stdout",
     "output_type": "stream",
     "text": [
      "(580, 18211)\n"
     ]
    }
   ],
   "source": [
    "tmp_y = de_train.iloc[:,5:-3]\n",
    "#tmp_y = de_train.iloc[:,5:105]\n",
    "arr = []\n",
    "for i in range(len(tmp_y)):\n",
    "    if i in b_cells_idxes or i in my_cells_idxes:\n",
    "        continue\n",
    "    arr.append(tmp_y.iloc[i].values)\n",
    "Y = np.array(arr)\n",
    "print(Y.shape)"
   ]
  },
  {
   "cell_type": "markdown",
   "id": "a1884032-07dd-489a-a1fd-9ab19ed684c7",
   "metadata": {},
   "source": [
    "Repeat the same w/ B Cells and Myeloid Cells."
   ]
  },
  {
   "cell_type": "code",
   "execution_count": 135,
   "id": "7bf22ee5-0527-450a-94bf-607ed7ecdd33",
   "metadata": {},
   "outputs": [
    {
     "name": "stdout",
     "output_type": "stream",
     "text": [
      "(17, 2054)\n",
      "(17, 18211)\n"
     ]
    }
   ],
   "source": [
    "tmp_x = de_train.iloc[:,-1:]\n",
    "arr = []\n",
    "for i in range(len(tmp_x)):\n",
    "    if i in b_cells_idxes:\n",
    "        arr.append(tmp_x.iloc[i,0])\n",
    "X_b = np.array(arr)\n",
    "print(X_b.shape)\n",
    "\n",
    "#tmp_y = de_train.iloc[:,5:105]\n",
    "tmp_y = de_train.iloc[:,5:-3]\n",
    "arr = []\n",
    "for i in range(len(tmp_y)):\n",
    "    if i in b_cells_idxes:\n",
    "        arr.append(tmp_y.iloc[i].values)\n",
    "Y_b = np.array(arr)\n",
    "print(Y_b.shape)"
   ]
  },
  {
   "cell_type": "code",
   "execution_count": 136,
   "id": "455cb02a-6092-4599-9c16-b6328457e8b1",
   "metadata": {},
   "outputs": [
    {
     "name": "stdout",
     "output_type": "stream",
     "text": [
      "(17, 2054)\n",
      "(17, 18211)\n"
     ]
    }
   ],
   "source": [
    "tmp_x = de_train.iloc[:,-1:]\n",
    "arr = []\n",
    "for i in range(len(tmp_x)):\n",
    "    if i in my_cells_idxes:\n",
    "        arr.append(tmp_x.iloc[i,0])\n",
    "X_my = np.array(arr)\n",
    "print(X_my.shape)\n",
    "\n",
    "#tmp_y = de_train.iloc[:,5:105]\n",
    "tmp_y = de_train.iloc[:,5:-3]\n",
    "arr = []\n",
    "for i in range(len(tmp_y)):\n",
    "    if i in my_cells_idxes:\n",
    "        arr.append(tmp_y.iloc[i].values)\n",
    "Y_my = np.array(arr)\n",
    "print(Y_my.shape)"
   ]
  },
  {
   "cell_type": "raw",
   "id": "420e84a1-36e9-45a3-8fc7-82370f66e26d",
   "metadata": {},
   "source": [
    "tmp = de_train[de_train[\"cell_type\"] == \"B cells\"]\n",
    "duplicated_df = pd.concat([tmp] * 8, ignore_index=True)\n",
    "len(duplicated_df)\n",
    "tmp2 = de_train[de_train[\"cell_type\"] == \"Myeloid cells\"]\n",
    "duplicated_df2 = pd.concat([tmp2] * 8, ignore_index=True)\n",
    "len(duplicated_df2)\n",
    "dup_final_df = pd.concat([de_train, duplicated_df, duplicated_df2], ignore_index=True)\n",
    "dup_final_df[\"cell_type\"].value_counts()\n",
    "\n",
    "tmp_x = dup_final_df.iloc[:,-1:]\n",
    "arr = np.empty(len(tmp_x), dtype=object)\n",
    "for i in range(len(tmp_x)):\n",
    "  arr[i] = tmp_x.iloc[i,0]\n",
    "X = arr\n",
    "print(len(X[1]))\n",
    "\n",
    "tmp_y = dup_final_df.iloc[:,5:105]\n",
    "arr = np.empty(len(tmp_y), dtype=object)\n",
    "for i in range(len(tmp_y)):\n",
    "  arr[i] = tmp_y.iloc[i].values\n",
    "Y = arr\n",
    "print(len(Y[1]))\n",
    "\n",
    "X = np.vstack(X)\n",
    "X.shape\n",
    "Y = np.vstack(Y)\n",
    "Y.shape"
   ]
  },
  {
   "cell_type": "raw",
   "id": "4cb3d7ea-2e71-42e5-9fe6-77b3a16dd485",
   "metadata": {},
   "source": [
    "tmp_x = de_train.iloc[:,-1:]\n",
    "arr = np.empty(len(tmp_x), dtype=object)\n",
    "for i in range(len(tmp_x)):\n",
    "  arr[i] = tmp_x.iloc[i,0]\n",
    "X = arr\n",
    "print(len(X[1]))\n",
    "\n",
    "tmp_y = de_train.iloc[:,5:105]\n",
    "arr = np.empty(len(tmp_y), dtype=object)\n",
    "for i in range(len(tmp_y)):\n",
    "  arr[i] = tmp_y.iloc[i].values\n",
    "Y = arr\n",
    "print(len(Y[1]))\n",
    "\n",
    "X = np.vstack(X)\n",
    "print(X.shape)\n",
    "Y = np.vstack(Y)\n",
    "print(Y.shape)"
   ]
  },
  {
   "cell_type": "code",
   "execution_count": 137,
   "id": "baa1fa8d-cdde-4a88-97e7-9fade458e144",
   "metadata": {},
   "outputs": [],
   "source": [
    "def mrrmse_np(y_pred, y_true):\n",
    "    return np.sqrt(np.square(y_true - y_pred).mean(axis=1)).mean()"
   ]
  },
  {
   "cell_type": "code",
   "execution_count": 122,
   "id": "84f10b41-d591-4ad9-90aa-8214874592fc",
   "metadata": {},
   "outputs": [],
   "source": [
    "def objective(trial):\n",
    "    train_x_split, test_x_split, train_y_split, test_y_split = train_test_split(X, Y, test_size=0.2, random_state=42) \n",
    "    train_x, val_x, train_y, val_y = train_test_split(train_x_split, train_y_split, test_size=0.2, random_state=42)\n",
    "    \n",
    "    train_xb, test_xb, train_yb, test_yb = train_test_split(X_b, Y_b, test_size=0.8, random_state=42)\n",
    "    train_xb, val_xb, train_yb, val_yb = train_test_split(train_xb, train_yb, test_size=0.2, random_state=42)\n",
    "    train_xmy, test_xmy, train_ymy, test_ymy = train_test_split(X_my, Y_my, test_size=0.8, random_state=42)\n",
    "    train_xmy, val_xmy, train_ymy, val_ymy = train_test_split(train_xmy, train_ymy, test_size=0.2, random_state=42)\n",
    "    \n",
    "    X_train = np.concatenate((train_xb, train_xmy, train_x), axis=0)\n",
    "    y_train = np.concatenate((train_yb, train_ymy, train_y), axis=0)\n",
    "    X_val = np.concatenate((val_xb, val_xmy, val_x), axis=0)\n",
    "    y_val = np.concatenate((val_yb, val_ymy, val_y), axis=0) \n",
    "    X_test = np.concatenate((test_xb, test_xmy, test_x_split), axis=0)\n",
    "    y_test = np.concatenate((test_yb, test_ymy, test_y_split), axis=0)\n",
    "    \n",
    "    # X_train_split, X_test_split, y_train_split, y_test_split = train_test_split(X, Y, test_size=0.2, random_state=42)\n",
    "    # X_train, X_val, y_train, y_val = train_test_split(X_train_split, y_train_split, test_size=0.25, random_state=42)\n",
    "    \n",
    "    models = []\n",
    "    \n",
    "    for i in tqdm(range(Y.shape[1])):\n",
    "        param = {\n",
    "        'objective': 'regression',\n",
    "        'metric': 'l2',\n",
    "        'verbose': -1,\n",
    "        'num_threads': 8,\n",
    "        'lambda_l1': trial.suggest_float('lambda_l1', 1e-8, 15.0),\n",
    "        'lambda_l2': trial.suggest_float('lambda_l2', 1e-8, 15.0),\n",
    "        'num_leaves': trial.suggest_int('num_leaves', 2, 100),\n",
    "        'feature_fraction': trial.suggest_float('feature_fraction', 0.4, 1.0),\n",
    "        'bagging_fraction': trial.suggest_float('bagging_fraction', 0.4, 1.0),\n",
    "        'learning_rate': trial.suggest_float('learning_rate', 0.01, 0.5),\n",
    "        'bagging_freq': trial.suggest_int('bagging_freq', 1, 10),\n",
    "        'min_child_samples': trial.suggest_int('min_child_samples', 5, 50),\n",
    "        'early_stopping_rounds': trial.suggest_int('early_stopping_rounds', 1, 5),\n",
    "        'num_iterations': trial.suggest_int('num_iterations', 50, 500),\n",
    "        'path_smooth': trial.suggest_float('path_smooth', 0, 1),\n",
    "        'num_boost_round': trial.suggest_int('num_boost_round', 2, 100),\n",
    "        'min_data_in_leaf': trial.suggest_int('min_data_in_leaf', 2, 5),\n",
    "        'extra_trees': True,\n",
    "        'min_sum_hessian_in_leaf': trial.suggest_int('min_sum_hessian_in_leaf', 2, 5),\n",
    "        }\n",
    "        dtrain = lgb.Dataset(X_train, label=y_train[:, i])\n",
    "        dval = lgb.Dataset(X_val, label=y_val[:, i], reference=dtrain) \n",
    "        gbm = lgb.train(param, dtrain, valid_sets=[dval])\n",
    "        models.append(gbm)\n",
    "        \n",
    "    pred_y = np.array([model.predict(X_test) for model in models]).T\n",
    "    loss = mrrmse_np(pred_y, y_test)\n",
    "    print(loss)\n",
    "    return loss"
   ]
  },
  {
   "cell_type": "code",
   "execution_count": 17,
   "id": "e56ec3f7-8eb5-4ebc-99e7-9177710421b5",
   "metadata": {},
   "outputs": [],
   "source": [
    "optuna.logging.set_verbosity(optuna.logging.WARNING)"
   ]
  },
  {
   "cell_type": "code",
   "execution_count": 129,
   "id": "50c3ad8a-981b-4e0d-8455-3ec103f3fb12",
   "metadata": {},
   "outputs": [
    {
     "name": "stderr",
     "output_type": "stream",
     "text": [
      "  0%|          | 0/100 [00:00<?, ?it/s]/scratch4/mschatz1/hji20/lgbm/lib/python3.8/site-packages/lightgbm/engine.py:172: UserWarning: Found `num_boost_round` in params. Will use it instead of argument\n",
      "  _log_warning(f\"Found `{alias}` in params. Will use it instead of argument\")\n",
      "/scratch4/mschatz1/hji20/lgbm/lib/python3.8/site-packages/lightgbm/engine.py:172: UserWarning: Found `num_iterations` in params. Will use it instead of argument\n",
      "  _log_warning(f\"Found `{alias}` in params. Will use it instead of argument\")\n",
      "100%|██████████| 100/100 [00:13<00:00,  7.41it/s]\n"
     ]
    },
    {
     "name": "stdout",
     "output_type": "stream",
     "text": [
      "1.6258522526976307\n"
     ]
    },
    {
     "name": "stderr",
     "output_type": "stream",
     "text": [
      "100%|██████████| 100/100 [00:26<00:00,  3.80it/s]\n"
     ]
    },
    {
     "name": "stdout",
     "output_type": "stream",
     "text": [
      "1.593312398512948\n"
     ]
    },
    {
     "name": "stderr",
     "output_type": "stream",
     "text": [
      "100%|██████████| 100/100 [00:20<00:00,  4.86it/s]\n"
     ]
    },
    {
     "name": "stdout",
     "output_type": "stream",
     "text": [
      "1.5778831605948593\n"
     ]
    },
    {
     "name": "stderr",
     "output_type": "stream",
     "text": [
      "100%|██████████| 100/100 [00:12<00:00,  7.82it/s]\n"
     ]
    },
    {
     "name": "stdout",
     "output_type": "stream",
     "text": [
      "1.6139992904269278\n"
     ]
    },
    {
     "name": "stderr",
     "output_type": "stream",
     "text": [
      "100%|██████████| 100/100 [00:16<00:00,  6.20it/s]\n"
     ]
    },
    {
     "name": "stdout",
     "output_type": "stream",
     "text": [
      "1.600328328294202\n"
     ]
    },
    {
     "name": "stderr",
     "output_type": "stream",
     "text": [
      "100%|██████████| 100/100 [00:13<00:00,  7.29it/s]\n"
     ]
    },
    {
     "name": "stdout",
     "output_type": "stream",
     "text": [
      "1.598477840519986\n"
     ]
    },
    {
     "name": "stderr",
     "output_type": "stream",
     "text": [
      "100%|██████████| 100/100 [00:13<00:00,  7.48it/s]\n"
     ]
    },
    {
     "name": "stdout",
     "output_type": "stream",
     "text": [
      "1.6045125418188393\n"
     ]
    },
    {
     "name": "stderr",
     "output_type": "stream",
     "text": [
      "100%|██████████| 100/100 [00:16<00:00,  6.13it/s]\n"
     ]
    },
    {
     "name": "stdout",
     "output_type": "stream",
     "text": [
      "1.6314773846146269\n"
     ]
    },
    {
     "name": "stderr",
     "output_type": "stream",
     "text": [
      "100%|██████████| 100/100 [00:13<00:00,  7.69it/s]\n"
     ]
    },
    {
     "name": "stdout",
     "output_type": "stream",
     "text": [
      "1.5891567287524642\n"
     ]
    },
    {
     "name": "stderr",
     "output_type": "stream",
     "text": [
      "100%|██████████| 100/100 [00:13<00:00,  7.25it/s]\n"
     ]
    },
    {
     "name": "stdout",
     "output_type": "stream",
     "text": [
      "1.611209913361665\n"
     ]
    },
    {
     "name": "stderr",
     "output_type": "stream",
     "text": [
      "100%|██████████| 100/100 [00:31<00:00,  3.17it/s]\n"
     ]
    },
    {
     "name": "stdout",
     "output_type": "stream",
     "text": [
      "1.5799031671654309\n"
     ]
    },
    {
     "name": "stderr",
     "output_type": "stream",
     "text": [
      "100%|██████████| 100/100 [00:30<00:00,  3.23it/s]\n"
     ]
    },
    {
     "name": "stdout",
     "output_type": "stream",
     "text": [
      "1.586080293988446\n"
     ]
    },
    {
     "name": "stderr",
     "output_type": "stream",
     "text": [
      "100%|██████████| 100/100 [00:20<00:00,  4.94it/s]\n"
     ]
    },
    {
     "name": "stdout",
     "output_type": "stream",
     "text": [
      "1.5744726533433622\n"
     ]
    },
    {
     "name": "stderr",
     "output_type": "stream",
     "text": [
      "100%|██████████| 100/100 [00:19<00:00,  5.03it/s]\n"
     ]
    },
    {
     "name": "stdout",
     "output_type": "stream",
     "text": [
      "1.573510950254595\n"
     ]
    },
    {
     "name": "stderr",
     "output_type": "stream",
     "text": [
      "100%|██████████| 100/100 [00:18<00:00,  5.54it/s]\n"
     ]
    },
    {
     "name": "stdout",
     "output_type": "stream",
     "text": [
      "1.5833190653554232\n"
     ]
    },
    {
     "name": "stderr",
     "output_type": "stream",
     "text": [
      "100%|██████████| 100/100 [00:20<00:00,  4.87it/s]\n"
     ]
    },
    {
     "name": "stdout",
     "output_type": "stream",
     "text": [
      "1.5704601045868953\n"
     ]
    },
    {
     "name": "stderr",
     "output_type": "stream",
     "text": [
      "100%|██████████| 100/100 [00:13<00:00,  7.30it/s]\n"
     ]
    },
    {
     "name": "stdout",
     "output_type": "stream",
     "text": [
      "1.583504025816644\n"
     ]
    },
    {
     "name": "stderr",
     "output_type": "stream",
     "text": [
      "100%|██████████| 100/100 [00:20<00:00,  4.95it/s]\n"
     ]
    },
    {
     "name": "stdout",
     "output_type": "stream",
     "text": [
      "1.575487432988473\n"
     ]
    },
    {
     "name": "stderr",
     "output_type": "stream",
     "text": [
      "100%|██████████| 100/100 [00:19<00:00,  5.04it/s]\n"
     ]
    },
    {
     "name": "stdout",
     "output_type": "stream",
     "text": [
      "1.5728085816011066\n"
     ]
    },
    {
     "name": "stderr",
     "output_type": "stream",
     "text": [
      "100%|██████████| 100/100 [00:20<00:00,  4.97it/s]\n"
     ]
    },
    {
     "name": "stdout",
     "output_type": "stream",
     "text": [
      "1.5779279357929137\n"
     ]
    },
    {
     "name": "stderr",
     "output_type": "stream",
     "text": [
      "100%|██████████| 100/100 [00:19<00:00,  5.01it/s]\n"
     ]
    },
    {
     "name": "stdout",
     "output_type": "stream",
     "text": [
      "1.6033227282360403\n"
     ]
    },
    {
     "name": "stderr",
     "output_type": "stream",
     "text": [
      "100%|██████████| 100/100 [00:22<00:00,  4.39it/s]\n"
     ]
    },
    {
     "name": "stdout",
     "output_type": "stream",
     "text": [
      "1.5759609193988553\n"
     ]
    },
    {
     "name": "stderr",
     "output_type": "stream",
     "text": [
      "100%|██████████| 100/100 [00:18<00:00,  5.31it/s]\n"
     ]
    },
    {
     "name": "stdout",
     "output_type": "stream",
     "text": [
      "1.5805520198011007\n"
     ]
    },
    {
     "name": "stderr",
     "output_type": "stream",
     "text": [
      "100%|██████████| 100/100 [00:21<00:00,  4.55it/s]\n"
     ]
    },
    {
     "name": "stdout",
     "output_type": "stream",
     "text": [
      "1.5776687907153497\n"
     ]
    },
    {
     "name": "stderr",
     "output_type": "stream",
     "text": [
      "100%|██████████| 100/100 [00:19<00:00,  5.25it/s]\n"
     ]
    },
    {
     "name": "stdout",
     "output_type": "stream",
     "text": [
      "1.579408307406081\n"
     ]
    },
    {
     "name": "stderr",
     "output_type": "stream",
     "text": [
      "100%|██████████| 100/100 [00:19<00:00,  5.15it/s]\n"
     ]
    },
    {
     "name": "stdout",
     "output_type": "stream",
     "text": [
      "1.5810986552355741\n"
     ]
    },
    {
     "name": "stderr",
     "output_type": "stream",
     "text": [
      "100%|██████████| 100/100 [00:22<00:00,  4.36it/s]\n"
     ]
    },
    {
     "name": "stdout",
     "output_type": "stream",
     "text": [
      "1.5781247175909254\n"
     ]
    },
    {
     "name": "stderr",
     "output_type": "stream",
     "text": [
      "100%|██████████| 100/100 [00:19<00:00,  5.26it/s]\n"
     ]
    },
    {
     "name": "stdout",
     "output_type": "stream",
     "text": [
      "1.5808217929328519\n"
     ]
    },
    {
     "name": "stderr",
     "output_type": "stream",
     "text": [
      "100%|██████████| 100/100 [00:37<00:00,  2.68it/s]\n"
     ]
    },
    {
     "name": "stdout",
     "output_type": "stream",
     "text": [
      "1.5817547776378025\n"
     ]
    },
    {
     "name": "stderr",
     "output_type": "stream",
     "text": [
      "100%|██████████| 100/100 [00:14<00:00,  7.14it/s]\n"
     ]
    },
    {
     "name": "stdout",
     "output_type": "stream",
     "text": [
      "1.5785585234646156\n"
     ]
    },
    {
     "name": "stderr",
     "output_type": "stream",
     "text": [
      "100%|██████████| 100/100 [00:18<00:00,  5.50it/s]\n"
     ]
    },
    {
     "name": "stdout",
     "output_type": "stream",
     "text": [
      "1.5893708841130314\n"
     ]
    },
    {
     "name": "stderr",
     "output_type": "stream",
     "text": [
      "100%|██████████| 100/100 [00:20<00:00,  4.89it/s]\n"
     ]
    },
    {
     "name": "stdout",
     "output_type": "stream",
     "text": [
      "1.576319096898992\n"
     ]
    },
    {
     "name": "stderr",
     "output_type": "stream",
     "text": [
      "100%|██████████| 100/100 [00:21<00:00,  4.58it/s]\n"
     ]
    },
    {
     "name": "stdout",
     "output_type": "stream",
     "text": [
      "1.573601132892693\n"
     ]
    },
    {
     "name": "stderr",
     "output_type": "stream",
     "text": [
      "100%|██████████| 100/100 [00:21<00:00,  4.65it/s]\n"
     ]
    },
    {
     "name": "stdout",
     "output_type": "stream",
     "text": [
      "1.594994480645825\n"
     ]
    },
    {
     "name": "stderr",
     "output_type": "stream",
     "text": [
      "100%|██████████| 100/100 [00:22<00:00,  4.52it/s]\n"
     ]
    },
    {
     "name": "stdout",
     "output_type": "stream",
     "text": [
      "1.5806331354265102\n"
     ]
    },
    {
     "name": "stderr",
     "output_type": "stream",
     "text": [
      "100%|██████████| 100/100 [00:32<00:00,  3.06it/s]\n"
     ]
    },
    {
     "name": "stdout",
     "output_type": "stream",
     "text": [
      "1.5993236078635176\n"
     ]
    },
    {
     "name": "stderr",
     "output_type": "stream",
     "text": [
      "100%|██████████| 100/100 [00:20<00:00,  4.81it/s]\n"
     ]
    },
    {
     "name": "stdout",
     "output_type": "stream",
     "text": [
      "1.5723178143534033\n"
     ]
    },
    {
     "name": "stderr",
     "output_type": "stream",
     "text": [
      "100%|██████████| 100/100 [00:20<00:00,  4.96it/s]\n"
     ]
    },
    {
     "name": "stdout",
     "output_type": "stream",
     "text": [
      "1.5709685523938082\n"
     ]
    },
    {
     "name": "stderr",
     "output_type": "stream",
     "text": [
      "100%|██████████| 100/100 [00:20<00:00,  4.83it/s]\n"
     ]
    },
    {
     "name": "stdout",
     "output_type": "stream",
     "text": [
      "1.5759036939436344\n"
     ]
    },
    {
     "name": "stderr",
     "output_type": "stream",
     "text": [
      "100%|██████████| 100/100 [00:20<00:00,  4.92it/s]\n"
     ]
    },
    {
     "name": "stdout",
     "output_type": "stream",
     "text": [
      "1.5776846809276153\n"
     ]
    },
    {
     "name": "stderr",
     "output_type": "stream",
     "text": [
      "100%|██████████| 100/100 [00:18<00:00,  5.30it/s]\n"
     ]
    },
    {
     "name": "stdout",
     "output_type": "stream",
     "text": [
      "1.5745714013366225\n"
     ]
    },
    {
     "name": "stderr",
     "output_type": "stream",
     "text": [
      "100%|██████████| 100/100 [00:20<00:00,  5.00it/s]\n"
     ]
    },
    {
     "name": "stdout",
     "output_type": "stream",
     "text": [
      "1.575560701393939\n"
     ]
    },
    {
     "name": "stderr",
     "output_type": "stream",
     "text": [
      "100%|██████████| 100/100 [00:21<00:00,  4.76it/s]\n"
     ]
    },
    {
     "name": "stdout",
     "output_type": "stream",
     "text": [
      "1.5721026826597455\n"
     ]
    },
    {
     "name": "stderr",
     "output_type": "stream",
     "text": [
      "100%|██████████| 100/100 [00:21<00:00,  4.55it/s]\n"
     ]
    },
    {
     "name": "stdout",
     "output_type": "stream",
     "text": [
      "1.5698388321784311\n"
     ]
    },
    {
     "name": "stderr",
     "output_type": "stream",
     "text": [
      "100%|██████████| 100/100 [00:21<00:00,  4.60it/s]\n"
     ]
    },
    {
     "name": "stdout",
     "output_type": "stream",
     "text": [
      "1.574646611116666\n"
     ]
    },
    {
     "name": "stderr",
     "output_type": "stream",
     "text": [
      "100%|██████████| 100/100 [00:25<00:00,  3.96it/s]\n"
     ]
    },
    {
     "name": "stdout",
     "output_type": "stream",
     "text": [
      "1.5850812466505646\n"
     ]
    },
    {
     "name": "stderr",
     "output_type": "stream",
     "text": [
      "100%|██████████| 100/100 [00:17<00:00,  5.76it/s]\n"
     ]
    },
    {
     "name": "stdout",
     "output_type": "stream",
     "text": [
      "1.6037695471557458\n"
     ]
    },
    {
     "name": "stderr",
     "output_type": "stream",
     "text": [
      "100%|██████████| 100/100 [00:25<00:00,  3.89it/s]\n"
     ]
    },
    {
     "name": "stdout",
     "output_type": "stream",
     "text": [
      "1.5789782896081006\n"
     ]
    },
    {
     "name": "stderr",
     "output_type": "stream",
     "text": [
      "100%|██████████| 100/100 [00:20<00:00,  4.79it/s]\n"
     ]
    },
    {
     "name": "stdout",
     "output_type": "stream",
     "text": [
      "1.575990258336018\n"
     ]
    },
    {
     "name": "stderr",
     "output_type": "stream",
     "text": [
      "100%|██████████| 100/100 [00:22<00:00,  4.38it/s]\n"
     ]
    },
    {
     "name": "stdout",
     "output_type": "stream",
     "text": [
      "1.5762685055114305\n"
     ]
    },
    {
     "name": "stderr",
     "output_type": "stream",
     "text": [
      "100%|██████████| 100/100 [00:24<00:00,  4.12it/s]\n"
     ]
    },
    {
     "name": "stdout",
     "output_type": "stream",
     "text": [
      "1.5747270180111599\n"
     ]
    },
    {
     "name": "stderr",
     "output_type": "stream",
     "text": [
      "100%|██████████| 100/100 [00:21<00:00,  4.69it/s]\n"
     ]
    },
    {
     "name": "stdout",
     "output_type": "stream",
     "text": [
      "1.574292279689509\n"
     ]
    },
    {
     "name": "stderr",
     "output_type": "stream",
     "text": [
      "100%|██████████| 100/100 [00:19<00:00,  5.02it/s]\n"
     ]
    },
    {
     "name": "stdout",
     "output_type": "stream",
     "text": [
      "1.5717009067975272\n"
     ]
    },
    {
     "name": "stderr",
     "output_type": "stream",
     "text": [
      "100%|██████████| 100/100 [00:20<00:00,  4.85it/s]\n"
     ]
    },
    {
     "name": "stdout",
     "output_type": "stream",
     "text": [
      "1.5758977927540558\n"
     ]
    },
    {
     "name": "stderr",
     "output_type": "stream",
     "text": [
      "100%|██████████| 100/100 [00:22<00:00,  4.54it/s]\n"
     ]
    },
    {
     "name": "stdout",
     "output_type": "stream",
     "text": [
      "1.578596288616588\n"
     ]
    },
    {
     "name": "stderr",
     "output_type": "stream",
     "text": [
      "100%|██████████| 100/100 [00:19<00:00,  5.16it/s]\n"
     ]
    },
    {
     "name": "stdout",
     "output_type": "stream",
     "text": [
      "1.576489229346532\n"
     ]
    },
    {
     "name": "stderr",
     "output_type": "stream",
     "text": [
      "100%|██████████| 100/100 [00:21<00:00,  4.65it/s]\n"
     ]
    },
    {
     "name": "stdout",
     "output_type": "stream",
     "text": [
      "1.5703160346037046\n"
     ]
    },
    {
     "name": "stderr",
     "output_type": "stream",
     "text": [
      "100%|██████████| 100/100 [00:23<00:00,  4.30it/s]\n"
     ]
    },
    {
     "name": "stdout",
     "output_type": "stream",
     "text": [
      "1.5754171059131175\n"
     ]
    },
    {
     "name": "stderr",
     "output_type": "stream",
     "text": [
      "100%|██████████| 100/100 [00:19<00:00,  5.09it/s]\n"
     ]
    },
    {
     "name": "stdout",
     "output_type": "stream",
     "text": [
      "1.5786270794751776\n"
     ]
    },
    {
     "name": "stderr",
     "output_type": "stream",
     "text": [
      "100%|██████████| 100/100 [00:28<00:00,  3.48it/s]\n"
     ]
    },
    {
     "name": "stdout",
     "output_type": "stream",
     "text": [
      "1.5834368574297117\n"
     ]
    },
    {
     "name": "stderr",
     "output_type": "stream",
     "text": [
      "100%|██████████| 100/100 [00:23<00:00,  4.19it/s]\n"
     ]
    },
    {
     "name": "stdout",
     "output_type": "stream",
     "text": [
      "1.5746785808392139\n"
     ]
    },
    {
     "name": "stderr",
     "output_type": "stream",
     "text": [
      "100%|██████████| 100/100 [00:21<00:00,  4.73it/s]\n"
     ]
    },
    {
     "name": "stdout",
     "output_type": "stream",
     "text": [
      "1.5729626859253114\n"
     ]
    },
    {
     "name": "stderr",
     "output_type": "stream",
     "text": [
      "100%|██████████| 100/100 [00:20<00:00,  4.91it/s]\n"
     ]
    },
    {
     "name": "stdout",
     "output_type": "stream",
     "text": [
      "1.5773435304523185\n"
     ]
    },
    {
     "name": "stderr",
     "output_type": "stream",
     "text": [
      "100%|██████████| 100/100 [00:20<00:00,  4.86it/s]\n"
     ]
    },
    {
     "name": "stdout",
     "output_type": "stream",
     "text": [
      "1.578481718917752\n"
     ]
    },
    {
     "name": "stderr",
     "output_type": "stream",
     "text": [
      "100%|██████████| 100/100 [00:20<00:00,  4.89it/s]\n"
     ]
    },
    {
     "name": "stdout",
     "output_type": "stream",
     "text": [
      "1.5834186314827672\n"
     ]
    },
    {
     "name": "stderr",
     "output_type": "stream",
     "text": [
      "100%|██████████| 100/100 [00:19<00:00,  5.16it/s]\n"
     ]
    },
    {
     "name": "stdout",
     "output_type": "stream",
     "text": [
      "1.566281959355508\n"
     ]
    },
    {
     "name": "stderr",
     "output_type": "stream",
     "text": [
      "100%|██████████| 100/100 [00:20<00:00,  5.00it/s]\n"
     ]
    },
    {
     "name": "stdout",
     "output_type": "stream",
     "text": [
      "1.5655951835918471\n"
     ]
    },
    {
     "name": "stderr",
     "output_type": "stream",
     "text": [
      "100%|██████████| 100/100 [00:19<00:00,  5.09it/s]\n"
     ]
    },
    {
     "name": "stdout",
     "output_type": "stream",
     "text": [
      "1.568461953280775\n"
     ]
    },
    {
     "name": "stderr",
     "output_type": "stream",
     "text": [
      "100%|██████████| 100/100 [00:18<00:00,  5.26it/s]\n"
     ]
    },
    {
     "name": "stdout",
     "output_type": "stream",
     "text": [
      "1.5794298399294557\n"
     ]
    },
    {
     "name": "stderr",
     "output_type": "stream",
     "text": [
      "100%|██████████| 100/100 [00:21<00:00,  4.75it/s]\n"
     ]
    },
    {
     "name": "stdout",
     "output_type": "stream",
     "text": [
      "1.6088726759182466\n"
     ]
    },
    {
     "name": "stderr",
     "output_type": "stream",
     "text": [
      "100%|██████████| 100/100 [00:18<00:00,  5.52it/s]\n"
     ]
    },
    {
     "name": "stdout",
     "output_type": "stream",
     "text": [
      "1.5781159400419087\n"
     ]
    },
    {
     "name": "stderr",
     "output_type": "stream",
     "text": [
      "100%|██████████| 100/100 [00:19<00:00,  5.09it/s]\n"
     ]
    },
    {
     "name": "stdout",
     "output_type": "stream",
     "text": [
      "1.57064714430872\n"
     ]
    },
    {
     "name": "stderr",
     "output_type": "stream",
     "text": [
      "100%|██████████| 100/100 [00:19<00:00,  5.05it/s]\n"
     ]
    },
    {
     "name": "stdout",
     "output_type": "stream",
     "text": [
      "1.570035098097745\n"
     ]
    },
    {
     "name": "stderr",
     "output_type": "stream",
     "text": [
      "100%|██████████| 100/100 [00:19<00:00,  5.06it/s]\n"
     ]
    },
    {
     "name": "stdout",
     "output_type": "stream",
     "text": [
      "1.578723338755079\n"
     ]
    },
    {
     "name": "stderr",
     "output_type": "stream",
     "text": [
      "100%|██████████| 100/100 [00:19<00:00,  5.11it/s]\n"
     ]
    },
    {
     "name": "stdout",
     "output_type": "stream",
     "text": [
      "1.5730943246434153\n"
     ]
    },
    {
     "name": "stderr",
     "output_type": "stream",
     "text": [
      "100%|██████████| 100/100 [00:19<00:00,  5.09it/s]\n"
     ]
    },
    {
     "name": "stdout",
     "output_type": "stream",
     "text": [
      "1.5731565287903189\n"
     ]
    },
    {
     "name": "stderr",
     "output_type": "stream",
     "text": [
      "100%|██████████| 100/100 [00:19<00:00,  5.10it/s]\n"
     ]
    },
    {
     "name": "stdout",
     "output_type": "stream",
     "text": [
      "1.5752779604413076\n"
     ]
    },
    {
     "name": "stderr",
     "output_type": "stream",
     "text": [
      "100%|██████████| 100/100 [00:19<00:00,  5.12it/s]\n"
     ]
    },
    {
     "name": "stdout",
     "output_type": "stream",
     "text": [
      "1.5731379236802627\n"
     ]
    },
    {
     "name": "stderr",
     "output_type": "stream",
     "text": [
      "100%|██████████| 100/100 [00:19<00:00,  5.20it/s]\n"
     ]
    },
    {
     "name": "stdout",
     "output_type": "stream",
     "text": [
      "1.5831804258944064\n"
     ]
    },
    {
     "name": "stderr",
     "output_type": "stream",
     "text": [
      "100%|██████████| 100/100 [00:19<00:00,  5.00it/s]\n"
     ]
    },
    {
     "name": "stdout",
     "output_type": "stream",
     "text": [
      "1.5766186237791417\n"
     ]
    },
    {
     "name": "stderr",
     "output_type": "stream",
     "text": [
      "100%|██████████| 100/100 [00:20<00:00,  4.95it/s]\n"
     ]
    },
    {
     "name": "stdout",
     "output_type": "stream",
     "text": [
      "1.5828034026497058\n"
     ]
    },
    {
     "name": "stderr",
     "output_type": "stream",
     "text": [
      "100%|██████████| 100/100 [00:19<00:00,  5.22it/s]\n"
     ]
    },
    {
     "name": "stdout",
     "output_type": "stream",
     "text": [
      "1.5714081994600866\n"
     ]
    },
    {
     "name": "stderr",
     "output_type": "stream",
     "text": [
      "100%|██████████| 100/100 [00:22<00:00,  4.54it/s]\n"
     ]
    },
    {
     "name": "stdout",
     "output_type": "stream",
     "text": [
      "1.566482993892778\n"
     ]
    },
    {
     "name": "stderr",
     "output_type": "stream",
     "text": [
      "100%|██████████| 100/100 [00:23<00:00,  4.27it/s]\n"
     ]
    },
    {
     "name": "stdout",
     "output_type": "stream",
     "text": [
      "1.5708307164562587\n"
     ]
    },
    {
     "name": "stderr",
     "output_type": "stream",
     "text": [
      "100%|██████████| 100/100 [00:21<00:00,  4.74it/s]\n"
     ]
    },
    {
     "name": "stdout",
     "output_type": "stream",
     "text": [
      "1.5669907687467775\n"
     ]
    },
    {
     "name": "stderr",
     "output_type": "stream",
     "text": [
      "100%|██████████| 100/100 [00:23<00:00,  4.34it/s]\n"
     ]
    },
    {
     "name": "stdout",
     "output_type": "stream",
     "text": [
      "1.5741007597500491\n"
     ]
    },
    {
     "name": "stderr",
     "output_type": "stream",
     "text": [
      "100%|██████████| 100/100 [00:21<00:00,  4.56it/s]\n"
     ]
    },
    {
     "name": "stdout",
     "output_type": "stream",
     "text": [
      "1.5704249753034132\n"
     ]
    },
    {
     "name": "stderr",
     "output_type": "stream",
     "text": [
      "100%|██████████| 100/100 [00:20<00:00,  4.89it/s]\n"
     ]
    },
    {
     "name": "stdout",
     "output_type": "stream",
     "text": [
      "1.5677794599522439\n"
     ]
    },
    {
     "name": "stderr",
     "output_type": "stream",
     "text": [
      "100%|██████████| 100/100 [00:20<00:00,  4.91it/s]\n"
     ]
    },
    {
     "name": "stdout",
     "output_type": "stream",
     "text": [
      "1.576833003805064\n"
     ]
    },
    {
     "name": "stderr",
     "output_type": "stream",
     "text": [
      "100%|██████████| 100/100 [00:20<00:00,  4.87it/s]\n"
     ]
    },
    {
     "name": "stdout",
     "output_type": "stream",
     "text": [
      "1.5743054946679698\n"
     ]
    },
    {
     "name": "stderr",
     "output_type": "stream",
     "text": [
      "100%|██████████| 100/100 [00:19<00:00,  5.05it/s]\n"
     ]
    },
    {
     "name": "stdout",
     "output_type": "stream",
     "text": [
      "1.5803473252349565\n"
     ]
    },
    {
     "name": "stderr",
     "output_type": "stream",
     "text": [
      "100%|██████████| 100/100 [00:20<00:00,  4.87it/s]\n"
     ]
    },
    {
     "name": "stdout",
     "output_type": "stream",
     "text": [
      "1.5708007968222941\n"
     ]
    },
    {
     "name": "stderr",
     "output_type": "stream",
     "text": [
      "100%|██████████| 100/100 [00:21<00:00,  4.70it/s]\n"
     ]
    },
    {
     "name": "stdout",
     "output_type": "stream",
     "text": [
      "1.569514702347532\n"
     ]
    },
    {
     "name": "stderr",
     "output_type": "stream",
     "text": [
      "100%|██████████| 100/100 [00:23<00:00,  4.30it/s]\n"
     ]
    },
    {
     "name": "stdout",
     "output_type": "stream",
     "text": [
      "1.5688837904194868\n"
     ]
    },
    {
     "name": "stderr",
     "output_type": "stream",
     "text": [
      "100%|██████████| 100/100 [00:23<00:00,  4.34it/s]\n"
     ]
    },
    {
     "name": "stdout",
     "output_type": "stream",
     "text": [
      "1.5783530132278003\n"
     ]
    },
    {
     "name": "stderr",
     "output_type": "stream",
     "text": [
      "100%|██████████| 100/100 [00:21<00:00,  4.55it/s]\n"
     ]
    },
    {
     "name": "stdout",
     "output_type": "stream",
     "text": [
      "1.5739614871508962\n"
     ]
    },
    {
     "name": "stderr",
     "output_type": "stream",
     "text": [
      "100%|██████████| 100/100 [00:23<00:00,  4.21it/s]\n"
     ]
    },
    {
     "name": "stdout",
     "output_type": "stream",
     "text": [
      "1.577326782119629\n"
     ]
    },
    {
     "name": "stderr",
     "output_type": "stream",
     "text": [
      "100%|██████████| 100/100 [00:22<00:00,  4.40it/s]\n"
     ]
    },
    {
     "name": "stdout",
     "output_type": "stream",
     "text": [
      "1.5721833403632228\n"
     ]
    },
    {
     "name": "stderr",
     "output_type": "stream",
     "text": [
      "100%|██████████| 100/100 [00:21<00:00,  4.75it/s]\n"
     ]
    },
    {
     "name": "stdout",
     "output_type": "stream",
     "text": [
      "1.576289216758041\n"
     ]
    },
    {
     "name": "stderr",
     "output_type": "stream",
     "text": [
      "100%|██████████| 100/100 [00:15<00:00,  6.29it/s]"
     ]
    },
    {
     "name": "stdout",
     "output_type": "stream",
     "text": [
      "1.5904037557842527\n",
      "Number of finished trials: 100\n",
      "Best trial: {'lambda_l1': 14.657361225174188, 'lambda_l2': 13.39489197368847, 'num_leaves': 13, 'feature_fraction': 0.42552360266723904, 'bagging_fraction': 0.9488006401790557, 'learning_rate': 0.1767596522647403, 'bagging_freq': 8, 'min_child_samples': 19, 'early_stopping_rounds': 5, 'num_iterations': 68, 'path_smooth': 0.9684876288861394, 'num_boost_round': 25, 'min_data_in_leaf': 4, 'min_sum_hessian_in_leaf': 4}\n"
     ]
    },
    {
     "name": "stderr",
     "output_type": "stream",
     "text": [
      "\n"
     ]
    }
   ],
   "source": [
    "study = optuna.create_study(direction='minimize')\n",
    "study.optimize(objective, n_trials=100)\n",
    " \n",
    "print('Number of finished trials:', len(study.trials))\n",
    "print('Best trial:', study.best_trial.params)"
   ]
  },
  {
   "cell_type": "code",
   "execution_count": 130,
   "id": "179c9a4c-e8c2-4eab-a34f-f1fb2ef16568",
   "metadata": {},
   "outputs": [
    {
     "name": "stdout",
     "output_type": "stream",
     "text": [
      "Best trial: {'lambda_l1': 14.657361225174188, 'lambda_l2': 13.39489197368847, 'num_leaves': 13, 'feature_fraction': 0.42552360266723904, 'bagging_fraction': 0.9488006401790557, 'learning_rate': 0.1767596522647403, 'bagging_freq': 8, 'min_child_samples': 19, 'early_stopping_rounds': 5, 'num_iterations': 68, 'path_smooth': 0.9684876288861394, 'num_boost_round': 25, 'min_data_in_leaf': 4, 'min_sum_hessian_in_leaf': 4}\n"
     ]
    }
   ],
   "source": [
    "print('Best trial:', study.best_trial.params)"
   ]
  },
  {
   "cell_type": "code",
   "execution_count": 117,
   "id": "87246db8-ae5f-4c82-a3fa-f0e693a08b98",
   "metadata": {},
   "outputs": [],
   "source": [
    "train_x_split, test_x_split, train_y_split, test_y_split = train_test_split(X, Y, test_size=0.2, random_state=42) \n",
    "train_x, val_x, train_y, val_y = train_test_split(train_x_split, train_y_split, test_size=0.2, random_state=42)\n",
    "    \n",
    "train_xb, test_xb, train_yb, test_yb = train_test_split(X_b, Y_b, test_size=0.8, random_state=42)\n",
    "train_xb, val_xb, train_yb, val_yb = train_test_split(train_xb, train_yb, test_size=0.2, random_state=42)\n",
    "train_xmy, test_xmy, train_ymy, test_ymy = train_test_split(X_my, Y_my, test_size=0.8, random_state=42)\n",
    "train_xmy, val_xmy, train_ymy, val_ymy = train_test_split(train_xmy, train_ymy, test_size=0.2, random_state=42)\n",
    "    \n",
    "X_train = np.concatenate((train_xb, train_xmy, train_x), axis=0)\n",
    "y_train = np.concatenate((train_yb, train_ymy, train_y), axis=0)\n",
    "X_val = np.concatenate((val_xb, val_xmy, val_x), axis=0)\n",
    "y_val = np.concatenate((val_yb, val_ymy, val_y), axis=0) \n",
    "X_test = np.concatenate((test_xb, test_xmy, test_x_split), axis=0)\n",
    "y_test = np.concatenate((test_yb, test_ymy, test_y_split), axis=0)"
   ]
  },
  {
   "cell_type": "markdown",
   "id": "052c9222-cc32-47a5-9130-08e57908a3ff",
   "metadata": {},
   "source": [
    "Optimized:"
   ]
  },
  {
   "cell_type": "code",
   "execution_count": 131,
   "id": "b4b97a48-538e-4056-95db-030f283dfffd",
   "metadata": {},
   "outputs": [
    {
     "name": "stderr",
     "output_type": "stream",
     "text": [
      "100%|██████████| 100/100 [00:19<00:00,  5.12it/s]\n"
     ]
    },
    {
     "name": "stdout",
     "output_type": "stream",
     "text": [
      "1.5655951835918471\n",
      "7.403258923269011\n"
     ]
    }
   ],
   "source": [
    "models_opt = []\n",
    "    \n",
    "for i in tqdm(range(Y.shape[1])):\n",
    "    param = study.best_trial.params\n",
    "    param['verbosity'] = -1\n",
    "    dtrain = lgb.Dataset(X_train, label=y_train[:, i])  # Train a model for each output element\n",
    "    dval = lgb.Dataset(X_val, label=y_val[:, i], reference=dtrain) \n",
    "    gbm = lgb.train(param, dtrain, valid_sets=[dval])\n",
    "    models_opt.append(gbm)\n",
    "        \n",
    "pred_y = np.array([model.predict(X_test) for model in models_opt]).T\n",
    "loss = mrrmse_np(pred_y, y_test)\n",
    "loss2 = sklearn.metrics.mean_squared_error(pred_y, y_test)\n",
    "print(loss)\n",
    "print(loss2)"
   ]
  },
  {
   "cell_type": "raw",
   "id": "4d5d37f9-cb81-4b70-9ac5-aea71fb50e7f",
   "metadata": {},
   "source": [
    "# optimized for 50 trials\n",
    "mrrse: 1.5732550763796196\n",
    "mse: 7.498189100372393\n",
    "\n",
    "# optimized for 100 trials\n",
    "mrrse: 1.5655951835918471\n",
    "mse: 7.403258923269011"
   ]
  },
  {
   "cell_type": "markdown",
   "id": "7f5568c1-19bf-4997-85ec-8713dfc515bb",
   "metadata": {},
   "source": [
    "Unoptimized:"
   ]
  },
  {
   "cell_type": "code",
   "execution_count": 132,
   "id": "9c4b70a8-eab8-4c89-8027-ba165171ff7a",
   "metadata": {},
   "outputs": [
    {
     "name": "stderr",
     "output_type": "stream",
     "text": [
      "100%|██████████| 100/100 [00:20<00:00,  4.88it/s]"
     ]
    },
    {
     "name": "stdout",
     "output_type": "stream",
     "text": [
      "1.6959456709412073\n",
      "7.365390995882534\n"
     ]
    },
    {
     "name": "stderr",
     "output_type": "stream",
     "text": [
      "\n"
     ]
    }
   ],
   "source": [
    "models_def = []\n",
    "    \n",
    "for i in tqdm(range(Y.shape[1])):\n",
    "    param = {\n",
    "        'objective': 'regression',\n",
    "        'metric': 'l2',\n",
    "        'num_leaves': 100,\n",
    "        'learning_rate': 0.1,\n",
    "        'feature_fraction': 0.9,\n",
    "        'bagging_fraction': 0.8,\n",
    "        'bagging_freq': 5,\n",
    "        'verbose': -1,\n",
    "        'num_threads': 8\n",
    "    }\n",
    "    dtrain = lgb.Dataset(X_train, label=y_train[:, i])  # Train a model for each output element\n",
    "    dval = lgb.Dataset(X_val, label=y_val[:, i], reference=dtrain) \n",
    "    gbm = lgb.train(param, dtrain, valid_sets=[dval])\n",
    "    models_def.append(gbm)\n",
    "        \n",
    "pred_y = np.array([model.predict(X_test) for model in models_def]).T\n",
    "loss = mrrmse_np(pred_y, y_test)\n",
    "loss2 = sklearn.metrics.mean_squared_error(pred_y, y_test)\n",
    "print(loss)\n",
    "print(loss2)"
   ]
  },
  {
   "cell_type": "code",
   "execution_count": 31,
   "id": "cccf6c7a-3360-426f-87a3-41bfada0bca9",
   "metadata": {},
   "outputs": [],
   "source": [
    "saved_models = []\n",
    "for i in range(100):\n",
    "    fn = \"trained_models/trained_model_\" + str(i) + \".txt\"\n",
    "    model = lgb.Booster(model_file=fn)\n",
    "    saved_models.append(model)"
   ]
  },
  {
   "cell_type": "markdown",
   "id": "70c3f842-135e-4a6c-805f-5d6b5a85b8ee",
   "metadata": {},
   "source": [
    "Saved models from latest Kaggle submission:"
   ]
  },
  {
   "cell_type": "code",
   "execution_count": 124,
   "id": "33a9410a-266b-49df-899c-434ae5726e9c",
   "metadata": {},
   "outputs": [
    {
     "name": "stdout",
     "output_type": "stream",
     "text": [
      "1.4822118051256534\n",
      "6.515382869435226\n"
     ]
    }
   ],
   "source": [
    "pred_y = np.array([model.predict(X_test) for model in saved_models]).T\n",
    "loss = mrrmse_np(pred_y, y_test)\n",
    "loss2 = sklearn.metrics.mean_squared_error(pred_y, y_test)\n",
    "print(loss)\n",
    "print(loss2)"
   ]
  },
  {
   "cell_type": "markdown",
   "id": "65f577ff-25cc-463c-a0bf-0733195e11f9",
   "metadata": {},
   "source": [
    "# Prepare Predictions"
   ]
  },
  {
   "cell_type": "code",
   "execution_count": 140,
   "id": "51be2e4f-cfd5-41c9-8aa8-5c253c9e5947",
   "metadata": {},
   "outputs": [
    {
     "data": {
      "text/html": [
       "<div>\n",
       "<style scoped>\n",
       "    .dataframe tbody tr th:only-of-type {\n",
       "        vertical-align: middle;\n",
       "    }\n",
       "\n",
       "    .dataframe tbody tr th {\n",
       "        vertical-align: top;\n",
       "    }\n",
       "\n",
       "    .dataframe thead th {\n",
       "        text-align: right;\n",
       "    }\n",
       "</style>\n",
       "<table border=\"1\" class=\"dataframe\">\n",
       "  <thead>\n",
       "    <tr style=\"text-align: right;\">\n",
       "      <th></th>\n",
       "      <th>id</th>\n",
       "      <th>cell_type</th>\n",
       "      <th>sm_name</th>\n",
       "    </tr>\n",
       "  </thead>\n",
       "  <tbody>\n",
       "    <tr>\n",
       "      <th>0</th>\n",
       "      <td>0</td>\n",
       "      <td>B cells</td>\n",
       "      <td>5-(9-Isopropyl-8-methyl-2-morpholino-9H-purin-...</td>\n",
       "    </tr>\n",
       "    <tr>\n",
       "      <th>1</th>\n",
       "      <td>1</td>\n",
       "      <td>B cells</td>\n",
       "      <td>ABT-199 (GDC-0199)</td>\n",
       "    </tr>\n",
       "    <tr>\n",
       "      <th>2</th>\n",
       "      <td>2</td>\n",
       "      <td>B cells</td>\n",
       "      <td>ABT737</td>\n",
       "    </tr>\n",
       "    <tr>\n",
       "      <th>3</th>\n",
       "      <td>3</td>\n",
       "      <td>B cells</td>\n",
       "      <td>AMD-070 (hydrochloride)</td>\n",
       "    </tr>\n",
       "    <tr>\n",
       "      <th>4</th>\n",
       "      <td>4</td>\n",
       "      <td>B cells</td>\n",
       "      <td>AT 7867</td>\n",
       "    </tr>\n",
       "  </tbody>\n",
       "</table>\n",
       "</div>"
      ],
      "text/plain": [
       "  id cell_type                                            sm_name\n",
       "0  0   B cells  5-(9-Isopropyl-8-methyl-2-morpholino-9H-purin-...\n",
       "1  1   B cells                                 ABT-199 (GDC-0199)\n",
       "2  2   B cells                                             ABT737\n",
       "3  3   B cells                            AMD-070 (hydrochloride)\n",
       "4  4   B cells                                            AT 7867"
      ]
     },
     "execution_count": 140,
     "metadata": {},
     "output_type": "execute_result"
    }
   ],
   "source": [
    "id_map = pd.read_csv(\"./train/id_map.csv\", sep=\",\", dtype=str)\n",
    "id_map.columns\n",
    "id_map.head()"
   ]
  },
  {
   "cell_type": "code",
   "execution_count": 141,
   "id": "ea396ed9-473a-4919-abb9-bb78fb680859",
   "metadata": {},
   "outputs": [
    {
     "data": {
      "text/html": [
       "<div>\n",
       "<style scoped>\n",
       "    .dataframe tbody tr th:only-of-type {\n",
       "        vertical-align: middle;\n",
       "    }\n",
       "\n",
       "    .dataframe tbody tr th {\n",
       "        vertical-align: top;\n",
       "    }\n",
       "\n",
       "    .dataframe thead th {\n",
       "        text-align: right;\n",
       "    }\n",
       "</style>\n",
       "<table border=\"1\" class=\"dataframe\">\n",
       "  <thead>\n",
       "    <tr style=\"text-align: right;\">\n",
       "      <th></th>\n",
       "      <th>id</th>\n",
       "      <th>cell_type</th>\n",
       "      <th>sm_name</th>\n",
       "      <th>ohe_col</th>\n",
       "    </tr>\n",
       "  </thead>\n",
       "  <tbody>\n",
       "    <tr>\n",
       "      <th>0</th>\n",
       "      <td>0</td>\n",
       "      <td>B cells</td>\n",
       "      <td>5-(9-Isopropyl-8-methyl-2-morpholino-9H-purin-...</td>\n",
       "      <td>[1.0, 0.0, 0.0, 0.0, 0.0, 0.0]</td>\n",
       "    </tr>\n",
       "    <tr>\n",
       "      <th>1</th>\n",
       "      <td>1</td>\n",
       "      <td>B cells</td>\n",
       "      <td>ABT-199 (GDC-0199)</td>\n",
       "      <td>[1.0, 0.0, 0.0, 0.0, 0.0, 0.0]</td>\n",
       "    </tr>\n",
       "    <tr>\n",
       "      <th>2</th>\n",
       "      <td>2</td>\n",
       "      <td>B cells</td>\n",
       "      <td>ABT737</td>\n",
       "      <td>[1.0, 0.0, 0.0, 0.0, 0.0, 0.0]</td>\n",
       "    </tr>\n",
       "    <tr>\n",
       "      <th>3</th>\n",
       "      <td>3</td>\n",
       "      <td>B cells</td>\n",
       "      <td>AMD-070 (hydrochloride)</td>\n",
       "      <td>[1.0, 0.0, 0.0, 0.0, 0.0, 0.0]</td>\n",
       "    </tr>\n",
       "    <tr>\n",
       "      <th>4</th>\n",
       "      <td>4</td>\n",
       "      <td>B cells</td>\n",
       "      <td>AT 7867</td>\n",
       "      <td>[1.0, 0.0, 0.0, 0.0, 0.0, 0.0]</td>\n",
       "    </tr>\n",
       "  </tbody>\n",
       "</table>\n",
       "</div>"
      ],
      "text/plain": [
       "  id cell_type                                            sm_name  \\\n",
       "0  0   B cells  5-(9-Isopropyl-8-methyl-2-morpholino-9H-purin-...   \n",
       "1  1   B cells                                 ABT-199 (GDC-0199)   \n",
       "2  2   B cells                                             ABT737   \n",
       "3  3   B cells                            AMD-070 (hydrochloride)   \n",
       "4  4   B cells                                            AT 7867   \n",
       "\n",
       "                          ohe_col  \n",
       "0  [1.0, 0.0, 0.0, 0.0, 0.0, 0.0]  \n",
       "1  [1.0, 0.0, 0.0, 0.0, 0.0, 0.0]  \n",
       "2  [1.0, 0.0, 0.0, 0.0, 0.0, 0.0]  \n",
       "3  [1.0, 0.0, 0.0, 0.0, 0.0, 0.0]  \n",
       "4  [1.0, 0.0, 0.0, 0.0, 0.0, 0.0]  "
      ]
     },
     "execution_count": 141,
     "metadata": {},
     "output_type": "execute_result"
    }
   ],
   "source": [
    "ohe_col = []\n",
    "for x in id_map.cell_type:\n",
    "  if x == \"B cells\":\n",
    "    ohe_col.append([1.0, 0.0, 0.0, 0.0, 0.0, 0.0])\n",
    "  else:\n",
    "    ohe_col.append([0.0, 1.0, 0.0, 0.0, 0.0, 0.0])\n",
    "id_map[\"ohe_col\"] = ohe_col\n",
    "id_map.head()"
   ]
  },
  {
   "cell_type": "code",
   "execution_count": 142,
   "id": "2d81f568-906d-47e9-8081-ce965d0f55cf",
   "metadata": {},
   "outputs": [
    {
     "data": {
      "text/html": [
       "<div>\n",
       "<style scoped>\n",
       "    .dataframe tbody tr th:only-of-type {\n",
       "        vertical-align: middle;\n",
       "    }\n",
       "\n",
       "    .dataframe tbody tr th {\n",
       "        vertical-align: top;\n",
       "    }\n",
       "\n",
       "    .dataframe thead th {\n",
       "        text-align: right;\n",
       "    }\n",
       "</style>\n",
       "<table border=\"1\" class=\"dataframe\">\n",
       "  <thead>\n",
       "    <tr style=\"text-align: right;\">\n",
       "      <th></th>\n",
       "      <th>sm_name</th>\n",
       "      <th>SMILES</th>\n",
       "    </tr>\n",
       "  </thead>\n",
       "  <tbody>\n",
       "    <tr>\n",
       "      <th>0</th>\n",
       "      <td>Clotrimazole</td>\n",
       "      <td>Clc1ccccc1C(c1ccccc1)(c1ccccc1)n1ccnc1</td>\n",
       "    </tr>\n",
       "    <tr>\n",
       "      <th>4</th>\n",
       "      <td>Mometasone Furoate</td>\n",
       "      <td>C[C@@H]1C[C@H]2[C@@H]3CCC4=CC(=O)C=C[C@]4(C)[C...</td>\n",
       "    </tr>\n",
       "    <tr>\n",
       "      <th>8</th>\n",
       "      <td>Idelalisib</td>\n",
       "      <td>CC[C@H](Nc1ncnc2[nH]cnc12)c1nc2cccc(F)c2c(=O)n...</td>\n",
       "    </tr>\n",
       "    <tr>\n",
       "      <th>14</th>\n",
       "      <td>Vandetanib</td>\n",
       "      <td>COc1cc2c(Nc3ccc(Br)cc3F)ncnc2cc1OCC1CCN(C)CC1</td>\n",
       "    </tr>\n",
       "    <tr>\n",
       "      <th>18</th>\n",
       "      <td>Bosutinib</td>\n",
       "      <td>COc1cc(Nc2c(C#N)cnc3cc(OCCCN4CCN(C)CC4)c(OC)cc...</td>\n",
       "    </tr>\n",
       "  </tbody>\n",
       "</table>\n",
       "</div>"
      ],
      "text/plain": [
       "               sm_name                                             SMILES\n",
       "0         Clotrimazole             Clc1ccccc1C(c1ccccc1)(c1ccccc1)n1ccnc1\n",
       "4   Mometasone Furoate  C[C@@H]1C[C@H]2[C@@H]3CCC4=CC(=O)C=C[C@]4(C)[C...\n",
       "8           Idelalisib  CC[C@H](Nc1ncnc2[nH]cnc12)c1nc2cccc(F)c2c(=O)n...\n",
       "14          Vandetanib      COc1cc2c(Nc3ccc(Br)cc3F)ncnc2cc1OCC1CCN(C)CC1\n",
       "18           Bosutinib  COc1cc(Nc2c(C#N)cnc3cc(OCCCN4CCN(C)CC4)c(OC)cc..."
      ]
     },
     "execution_count": 142,
     "metadata": {},
     "output_type": "execute_result"
    }
   ],
   "source": [
    "cp_df = de_train[[\"sm_name\", \"SMILES\"]].drop_duplicates()\n",
    "cp_df.head()"
   ]
  },
  {
   "cell_type": "code",
   "execution_count": 143,
   "id": "3b6c2631-bf42-43b0-a5d5-0625436826cc",
   "metadata": {},
   "outputs": [
    {
     "name": "stdout",
     "output_type": "stream",
     "text": [
      "146\n"
     ]
    }
   ],
   "source": [
    "cs_arr = []\n",
    "sm_arr = cp_df[\"SMILES\"]\n",
    "for sm in sm_arr:\n",
    "  try:\n",
    "    cs = Chem.CanonSmiles(sm)\n",
    "    cs_arr.append(cs)\n",
    "  except:\n",
    "    print('Invalid SMILES: ', sm)\n",
    "print(len(cs_arr))"
   ]
  },
  {
   "cell_type": "code",
   "execution_count": 145,
   "id": "d7bc8684-68a7-4fcc-901e-9456d733d7f1",
   "metadata": {},
   "outputs": [
    {
     "data": {
      "text/html": [
       "<div>\n",
       "<style scoped>\n",
       "    .dataframe tbody tr th:only-of-type {\n",
       "        vertical-align: middle;\n",
       "    }\n",
       "\n",
       "    .dataframe tbody tr th {\n",
       "        vertical-align: top;\n",
       "    }\n",
       "\n",
       "    .dataframe thead th {\n",
       "        text-align: right;\n",
       "    }\n",
       "</style>\n",
       "<table border=\"1\" class=\"dataframe\">\n",
       "  <thead>\n",
       "    <tr style=\"text-align: right;\">\n",
       "      <th></th>\n",
       "      <th>sm_name</th>\n",
       "      <th>SMILES</th>\n",
       "      <th>fingerprint</th>\n",
       "    </tr>\n",
       "  </thead>\n",
       "  <tbody>\n",
       "    <tr>\n",
       "      <th>0</th>\n",
       "      <td>Clotrimazole</td>\n",
       "      <td>Clc1ccccc1C(c1ccccc1)(c1ccccc1)n1ccnc1</td>\n",
       "      <td>[0, 0, 0, 1, 0, 1, 1, 1, 0, 0, 0, 0, 0, 1, 0, ...</td>\n",
       "    </tr>\n",
       "    <tr>\n",
       "      <th>4</th>\n",
       "      <td>Mometasone Furoate</td>\n",
       "      <td>C[C@@H]1C[C@H]2[C@@H]3CCC4=CC(=O)C=C[C@]4(C)[C...</td>\n",
       "      <td>[1, 1, 0, 0, 0, 0, 0, 1, 1, 1, 0, 0, 0, 0, 1, ...</td>\n",
       "    </tr>\n",
       "    <tr>\n",
       "      <th>8</th>\n",
       "      <td>Idelalisib</td>\n",
       "      <td>CC[C@H](Nc1ncnc2[nH]cnc12)c1nc2cccc(F)c2c(=O)n...</td>\n",
       "      <td>[1, 0, 1, 1, 0, 1, 0, 1, 1, 1, 1, 0, 1, 1, 0, ...</td>\n",
       "    </tr>\n",
       "    <tr>\n",
       "      <th>14</th>\n",
       "      <td>Vandetanib</td>\n",
       "      <td>COc1cc2c(Nc3ccc(Br)cc3F)ncnc2cc1OCC1CCN(C)CC1</td>\n",
       "      <td>[1, 0, 0, 0, 0, 1, 1, 1, 0, 1, 1, 0, 1, 1, 1, ...</td>\n",
       "    </tr>\n",
       "    <tr>\n",
       "      <th>18</th>\n",
       "      <td>Bosutinib</td>\n",
       "      <td>COc1cc(Nc2c(C#N)cnc3cc(OCCCN4CCN(C)CC4)c(OC)cc...</td>\n",
       "      <td>[1, 1, 0, 0, 0, 1, 1, 0, 1, 1, 1, 1, 1, 0, 1, ...</td>\n",
       "    </tr>\n",
       "  </tbody>\n",
       "</table>\n",
       "</div>"
      ],
      "text/plain": [
       "               sm_name                                             SMILES  \\\n",
       "0         Clotrimazole             Clc1ccccc1C(c1ccccc1)(c1ccccc1)n1ccnc1   \n",
       "4   Mometasone Furoate  C[C@@H]1C[C@H]2[C@@H]3CCC4=CC(=O)C=C[C@]4(C)[C...   \n",
       "8           Idelalisib  CC[C@H](Nc1ncnc2[nH]cnc12)c1nc2cccc(F)c2c(=O)n...   \n",
       "14          Vandetanib      COc1cc2c(Nc3ccc(Br)cc3F)ncnc2cc1OCC1CCN(C)CC1   \n",
       "18           Bosutinib  COc1cc(Nc2c(C#N)cnc3cc(OCCCN4CCN(C)CC4)c(OC)cc...   \n",
       "\n",
       "                                          fingerprint  \n",
       "0   [0, 0, 0, 1, 0, 1, 1, 1, 0, 0, 0, 0, 0, 1, 0, ...  \n",
       "4   [1, 1, 0, 0, 0, 0, 0, 1, 1, 1, 0, 0, 0, 0, 1, ...  \n",
       "8   [1, 0, 1, 1, 0, 1, 0, 1, 1, 1, 1, 0, 1, 1, 0, ...  \n",
       "14  [1, 0, 0, 0, 0, 1, 1, 1, 0, 1, 1, 0, 1, 1, 1, ...  \n",
       "18  [1, 1, 0, 0, 0, 1, 1, 0, 1, 1, 1, 1, 1, 0, 1, ...  "
      ]
     },
     "execution_count": 145,
     "metadata": {},
     "output_type": "execute_result"
    }
   ],
   "source": [
    "mols = [Chem.MolFromSmiles(x) for x in cs_arr]\n",
    "fps = [np.array(RDKFingerprint(mol)) for mol in mols]\n",
    "cp_df['fingerprint'] = fps\n",
    "cp_df[\"fingerprint\"] = cp_df[\"fingerprint\"].apply(lambda x: np.array(x))\n",
    "cp_df.head()"
   ]
  },
  {
   "cell_type": "code",
   "execution_count": 148,
   "id": "2948fedb-090a-44f9-872d-7f06e71bd528",
   "metadata": {},
   "outputs": [
    {
     "data": {
      "text/html": [
       "<div>\n",
       "<style scoped>\n",
       "    .dataframe tbody tr th:only-of-type {\n",
       "        vertical-align: middle;\n",
       "    }\n",
       "\n",
       "    .dataframe tbody tr th {\n",
       "        vertical-align: top;\n",
       "    }\n",
       "\n",
       "    .dataframe thead th {\n",
       "        text-align: right;\n",
       "    }\n",
       "</style>\n",
       "<table border=\"1\" class=\"dataframe\">\n",
       "  <thead>\n",
       "    <tr style=\"text-align: right;\">\n",
       "      <th></th>\n",
       "      <th>id</th>\n",
       "      <th>cell_type</th>\n",
       "      <th>sm_name</th>\n",
       "      <th>ohe_col</th>\n",
       "      <th>SMILES</th>\n",
       "      <th>fingerprint</th>\n",
       "    </tr>\n",
       "  </thead>\n",
       "  <tbody>\n",
       "    <tr>\n",
       "      <th>0</th>\n",
       "      <td>0</td>\n",
       "      <td>B cells</td>\n",
       "      <td>5-(9-Isopropyl-8-methyl-2-morpholino-9H-purin-...</td>\n",
       "      <td>[1.0, 0.0, 0.0, 0.0, 0.0, 0.0]</td>\n",
       "      <td>Cc1nc2c(-c3cnc(N)nc3)nc(N3CCOCC3)nc2n1C(C)C</td>\n",
       "      <td>[1, 1, 0, 0, 0, 1, 1, 1, 1, 0, 1, 0, 0, 1, 1, ...</td>\n",
       "    </tr>\n",
       "    <tr>\n",
       "      <th>1</th>\n",
       "      <td>128</td>\n",
       "      <td>Myeloid cells</td>\n",
       "      <td>5-(9-Isopropyl-8-methyl-2-morpholino-9H-purin-...</td>\n",
       "      <td>[0.0, 1.0, 0.0, 0.0, 0.0, 0.0]</td>\n",
       "      <td>Cc1nc2c(-c3cnc(N)nc3)nc(N3CCOCC3)nc2n1C(C)C</td>\n",
       "      <td>[1, 1, 0, 0, 0, 1, 1, 1, 1, 0, 1, 0, 0, 1, 1, ...</td>\n",
       "    </tr>\n",
       "    <tr>\n",
       "      <th>2</th>\n",
       "      <td>1</td>\n",
       "      <td>B cells</td>\n",
       "      <td>ABT-199 (GDC-0199)</td>\n",
       "      <td>[1.0, 0.0, 0.0, 0.0, 0.0, 0.0]</td>\n",
       "      <td>CC1(C)CCC(CN2CCN(c3ccc(C(=O)NS(=O)(=O)c4ccc(NC...</td>\n",
       "      <td>[1, 1, 1, 1, 0, 1, 1, 0, 1, 1, 1, 1, 0, 1, 0, ...</td>\n",
       "    </tr>\n",
       "    <tr>\n",
       "      <th>3</th>\n",
       "      <td>129</td>\n",
       "      <td>Myeloid cells</td>\n",
       "      <td>ABT-199 (GDC-0199)</td>\n",
       "      <td>[0.0, 1.0, 0.0, 0.0, 0.0, 0.0]</td>\n",
       "      <td>CC1(C)CCC(CN2CCN(c3ccc(C(=O)NS(=O)(=O)c4ccc(NC...</td>\n",
       "      <td>[1, 1, 1, 1, 0, 1, 1, 0, 1, 1, 1, 1, 0, 1, 0, ...</td>\n",
       "    </tr>\n",
       "    <tr>\n",
       "      <th>4</th>\n",
       "      <td>2</td>\n",
       "      <td>B cells</td>\n",
       "      <td>ABT737</td>\n",
       "      <td>[1.0, 0.0, 0.0, 0.0, 0.0, 0.0]</td>\n",
       "      <td>CN(C)CC[C@H](CSc1ccccc1)Nc1ccc(S(=O)(=O)NC(=O)...</td>\n",
       "      <td>[0, 1, 1, 1, 0, 1, 0, 0, 0, 0, 1, 1, 0, 0, 0, ...</td>\n",
       "    </tr>\n",
       "  </tbody>\n",
       "</table>\n",
       "</div>"
      ],
      "text/plain": [
       "    id      cell_type                                            sm_name  \\\n",
       "0    0        B cells  5-(9-Isopropyl-8-methyl-2-morpholino-9H-purin-...   \n",
       "1  128  Myeloid cells  5-(9-Isopropyl-8-methyl-2-morpholino-9H-purin-...   \n",
       "2    1        B cells                                 ABT-199 (GDC-0199)   \n",
       "3  129  Myeloid cells                                 ABT-199 (GDC-0199)   \n",
       "4    2        B cells                                             ABT737   \n",
       "\n",
       "                          ohe_col  \\\n",
       "0  [1.0, 0.0, 0.0, 0.0, 0.0, 0.0]   \n",
       "1  [0.0, 1.0, 0.0, 0.0, 0.0, 0.0]   \n",
       "2  [1.0, 0.0, 0.0, 0.0, 0.0, 0.0]   \n",
       "3  [0.0, 1.0, 0.0, 0.0, 0.0, 0.0]   \n",
       "4  [1.0, 0.0, 0.0, 0.0, 0.0, 0.0]   \n",
       "\n",
       "                                              SMILES  \\\n",
       "0        Cc1nc2c(-c3cnc(N)nc3)nc(N3CCOCC3)nc2n1C(C)C   \n",
       "1        Cc1nc2c(-c3cnc(N)nc3)nc(N3CCOCC3)nc2n1C(C)C   \n",
       "2  CC1(C)CCC(CN2CCN(c3ccc(C(=O)NS(=O)(=O)c4ccc(NC...   \n",
       "3  CC1(C)CCC(CN2CCN(c3ccc(C(=O)NS(=O)(=O)c4ccc(NC...   \n",
       "4  CN(C)CC[C@H](CSc1ccccc1)Nc1ccc(S(=O)(=O)NC(=O)...   \n",
       "\n",
       "                                         fingerprint  \n",
       "0  [1, 1, 0, 0, 0, 1, 1, 1, 1, 0, 1, 0, 0, 1, 1, ...  \n",
       "1  [1, 1, 0, 0, 0, 1, 1, 1, 1, 0, 1, 0, 0, 1, 1, ...  \n",
       "2  [1, 1, 1, 1, 0, 1, 1, 0, 1, 1, 1, 1, 0, 1, 0, ...  \n",
       "3  [1, 1, 1, 1, 0, 1, 1, 0, 1, 1, 1, 1, 0, 1, 0, ...  \n",
       "4  [0, 1, 1, 1, 0, 1, 0, 0, 0, 0, 1, 1, 0, 0, 0, ...  "
      ]
     },
     "execution_count": 148,
     "metadata": {},
     "output_type": "execute_result"
    }
   ],
   "source": [
    "id_map_merged = pd.merge(id_map, cp_df, on=\"sm_name\", how='inner')\n",
    "assert len(id_map) == len(id_map_merged)\n",
    "id_map_merged.head()"
   ]
  },
  {
   "cell_type": "code",
   "execution_count": 149,
   "id": "388be7e7-9802-4c7f-9c6b-b0381e12e97d",
   "metadata": {},
   "outputs": [
    {
     "data": {
      "text/html": [
       "<div>\n",
       "<style scoped>\n",
       "    .dataframe tbody tr th:only-of-type {\n",
       "        vertical-align: middle;\n",
       "    }\n",
       "\n",
       "    .dataframe tbody tr th {\n",
       "        vertical-align: top;\n",
       "    }\n",
       "\n",
       "    .dataframe thead th {\n",
       "        text-align: right;\n",
       "    }\n",
       "</style>\n",
       "<table border=\"1\" class=\"dataframe\">\n",
       "  <thead>\n",
       "    <tr style=\"text-align: right;\">\n",
       "      <th></th>\n",
       "      <th>id</th>\n",
       "      <th>cell_type</th>\n",
       "      <th>sm_name</th>\n",
       "      <th>ohe_col</th>\n",
       "      <th>SMILES</th>\n",
       "      <th>fingerprint</th>\n",
       "      <th>merged</th>\n",
       "    </tr>\n",
       "  </thead>\n",
       "  <tbody>\n",
       "    <tr>\n",
       "      <th>0</th>\n",
       "      <td>0</td>\n",
       "      <td>B cells</td>\n",
       "      <td>5-(9-Isopropyl-8-methyl-2-morpholino-9H-purin-...</td>\n",
       "      <td>[1.0, 0.0, 0.0, 0.0, 0.0, 0.0]</td>\n",
       "      <td>Cc1nc2c(-c3cnc(N)nc3)nc(N3CCOCC3)nc2n1C(C)C</td>\n",
       "      <td>[1, 1, 0, 0, 0, 1, 1, 1, 1, 0, 1, 0, 0, 1, 1, ...</td>\n",
       "      <td>[1.0, 0.0, 0.0, 0.0, 0.0, 0.0, 1.0, 1.0, 0.0, ...</td>\n",
       "    </tr>\n",
       "    <tr>\n",
       "      <th>1</th>\n",
       "      <td>128</td>\n",
       "      <td>Myeloid cells</td>\n",
       "      <td>5-(9-Isopropyl-8-methyl-2-morpholino-9H-purin-...</td>\n",
       "      <td>[0.0, 1.0, 0.0, 0.0, 0.0, 0.0]</td>\n",
       "      <td>Cc1nc2c(-c3cnc(N)nc3)nc(N3CCOCC3)nc2n1C(C)C</td>\n",
       "      <td>[1, 1, 0, 0, 0, 1, 1, 1, 1, 0, 1, 0, 0, 1, 1, ...</td>\n",
       "      <td>[0.0, 1.0, 0.0, 0.0, 0.0, 0.0, 1.0, 1.0, 0.0, ...</td>\n",
       "    </tr>\n",
       "    <tr>\n",
       "      <th>2</th>\n",
       "      <td>1</td>\n",
       "      <td>B cells</td>\n",
       "      <td>ABT-199 (GDC-0199)</td>\n",
       "      <td>[1.0, 0.0, 0.0, 0.0, 0.0, 0.0]</td>\n",
       "      <td>CC1(C)CCC(CN2CCN(c3ccc(C(=O)NS(=O)(=O)c4ccc(NC...</td>\n",
       "      <td>[1, 1, 1, 1, 0, 1, 1, 0, 1, 1, 1, 1, 0, 1, 0, ...</td>\n",
       "      <td>[1.0, 0.0, 0.0, 0.0, 0.0, 0.0, 1.0, 1.0, 1.0, ...</td>\n",
       "    </tr>\n",
       "    <tr>\n",
       "      <th>3</th>\n",
       "      <td>129</td>\n",
       "      <td>Myeloid cells</td>\n",
       "      <td>ABT-199 (GDC-0199)</td>\n",
       "      <td>[0.0, 1.0, 0.0, 0.0, 0.0, 0.0]</td>\n",
       "      <td>CC1(C)CCC(CN2CCN(c3ccc(C(=O)NS(=O)(=O)c4ccc(NC...</td>\n",
       "      <td>[1, 1, 1, 1, 0, 1, 1, 0, 1, 1, 1, 1, 0, 1, 0, ...</td>\n",
       "      <td>[0.0, 1.0, 0.0, 0.0, 0.0, 0.0, 1.0, 1.0, 1.0, ...</td>\n",
       "    </tr>\n",
       "    <tr>\n",
       "      <th>4</th>\n",
       "      <td>2</td>\n",
       "      <td>B cells</td>\n",
       "      <td>ABT737</td>\n",
       "      <td>[1.0, 0.0, 0.0, 0.0, 0.0, 0.0]</td>\n",
       "      <td>CN(C)CC[C@H](CSc1ccccc1)Nc1ccc(S(=O)(=O)NC(=O)...</td>\n",
       "      <td>[0, 1, 1, 1, 0, 1, 0, 0, 0, 0, 1, 1, 0, 0, 0, ...</td>\n",
       "      <td>[1.0, 0.0, 0.0, 0.0, 0.0, 0.0, 0.0, 1.0, 1.0, ...</td>\n",
       "    </tr>\n",
       "  </tbody>\n",
       "</table>\n",
       "</div>"
      ],
      "text/plain": [
       "    id      cell_type                                            sm_name  \\\n",
       "0    0        B cells  5-(9-Isopropyl-8-methyl-2-morpholino-9H-purin-...   \n",
       "1  128  Myeloid cells  5-(9-Isopropyl-8-methyl-2-morpholino-9H-purin-...   \n",
       "2    1        B cells                                 ABT-199 (GDC-0199)   \n",
       "3  129  Myeloid cells                                 ABT-199 (GDC-0199)   \n",
       "4    2        B cells                                             ABT737   \n",
       "\n",
       "                          ohe_col  \\\n",
       "0  [1.0, 0.0, 0.0, 0.0, 0.0, 0.0]   \n",
       "1  [0.0, 1.0, 0.0, 0.0, 0.0, 0.0]   \n",
       "2  [1.0, 0.0, 0.0, 0.0, 0.0, 0.0]   \n",
       "3  [0.0, 1.0, 0.0, 0.0, 0.0, 0.0]   \n",
       "4  [1.0, 0.0, 0.0, 0.0, 0.0, 0.0]   \n",
       "\n",
       "                                              SMILES  \\\n",
       "0        Cc1nc2c(-c3cnc(N)nc3)nc(N3CCOCC3)nc2n1C(C)C   \n",
       "1        Cc1nc2c(-c3cnc(N)nc3)nc(N3CCOCC3)nc2n1C(C)C   \n",
       "2  CC1(C)CCC(CN2CCN(c3ccc(C(=O)NS(=O)(=O)c4ccc(NC...   \n",
       "3  CC1(C)CCC(CN2CCN(c3ccc(C(=O)NS(=O)(=O)c4ccc(NC...   \n",
       "4  CN(C)CC[C@H](CSc1ccccc1)Nc1ccc(S(=O)(=O)NC(=O)...   \n",
       "\n",
       "                                         fingerprint  \\\n",
       "0  [1, 1, 0, 0, 0, 1, 1, 1, 1, 0, 1, 0, 0, 1, 1, ...   \n",
       "1  [1, 1, 0, 0, 0, 1, 1, 1, 1, 0, 1, 0, 0, 1, 1, ...   \n",
       "2  [1, 1, 1, 1, 0, 1, 1, 0, 1, 1, 1, 1, 0, 1, 0, ...   \n",
       "3  [1, 1, 1, 1, 0, 1, 1, 0, 1, 1, 1, 1, 0, 1, 0, ...   \n",
       "4  [0, 1, 1, 1, 0, 1, 0, 0, 0, 0, 1, 1, 0, 0, 0, ...   \n",
       "\n",
       "                                              merged  \n",
       "0  [1.0, 0.0, 0.0, 0.0, 0.0, 0.0, 1.0, 1.0, 0.0, ...  \n",
       "1  [0.0, 1.0, 0.0, 0.0, 0.0, 0.0, 1.0, 1.0, 0.0, ...  \n",
       "2  [1.0, 0.0, 0.0, 0.0, 0.0, 0.0, 1.0, 1.0, 1.0, ...  \n",
       "3  [0.0, 1.0, 0.0, 0.0, 0.0, 0.0, 1.0, 1.0, 1.0, ...  \n",
       "4  [1.0, 0.0, 0.0, 0.0, 0.0, 0.0, 0.0, 1.0, 1.0, ...  "
      ]
     },
     "execution_count": 149,
     "metadata": {},
     "output_type": "execute_result"
    }
   ],
   "source": [
    "res_arr = []\n",
    "for i in range(len(id_map_merged)):\n",
    "  ct_ohe = np.array(id_map_merged.iloc[i,-3:-2][0])\n",
    "  fingerprint = np.array(id_map_merged.iloc[i,-1:][0])\n",
    "  res = np.concatenate((ct_ohe, fingerprint), axis=0)\n",
    "  res_arr.append(res)\n",
    "id_map_merged['merged'] = res_arr\n",
    "id_map_merged.head()"
   ]
  },
  {
   "cell_type": "code",
   "execution_count": 152,
   "id": "152b003d-b4e8-4392-a811-38c5842bd57e",
   "metadata": {},
   "outputs": [
    {
     "data": {
      "text/plain": [
       "(255, 2054)"
      ]
     },
     "execution_count": 152,
     "metadata": {},
     "output_type": "execute_result"
    }
   ],
   "source": [
    "tmp_id_x = id_map_merged.iloc[:,-1:]\n",
    "arr = np.empty(len(tmp_id_x), dtype=object)\n",
    "for i in range(len(tmp_id_x)):\n",
    "  arr[i] = tmp_id_x.iloc[i,0]\n",
    "id_X = arr\n",
    "id_X = np.vstack(id_X)\n",
    "id_X.shape"
   ]
  },
  {
   "cell_type": "code",
   "execution_count": 153,
   "id": "71271e09-0263-4330-91ee-1d5314c97f45",
   "metadata": {},
   "outputs": [
    {
     "data": {
      "text/plain": [
       "'ZZEF1'"
      ]
     },
     "execution_count": 153,
     "metadata": {},
     "output_type": "execute_result"
    }
   ],
   "source": [
    "genes = np.array(de_train.columns[5:18216])\n",
    "genes[-1]"
   ]
  },
  {
   "cell_type": "markdown",
   "id": "0d6dcd03-204d-457c-b66e-14141bdfe494",
   "metadata": {},
   "source": [
    "# Train Full"
   ]
  },
  {
   "cell_type": "markdown",
   "id": "d5420c20-e637-4ff0-9395-9d02bcbd57d6",
   "metadata": {},
   "source": [
    "Split the datasets again:"
   ]
  },
  {
   "cell_type": "code",
   "execution_count": 138,
   "id": "694e8a69-7e23-4427-af35-d23d304682d7",
   "metadata": {},
   "outputs": [],
   "source": [
    "train_x_split, test_x_split, train_y_split, test_y_split = train_test_split(X, Y, test_size=0.2, random_state=42) \n",
    "train_x, val_x, train_y, val_y = train_test_split(train_x_split, train_y_split, test_size=0.2, random_state=42)\n",
    "    \n",
    "train_xb, test_xb, train_yb, test_yb = train_test_split(X_b, Y_b, test_size=0.8, random_state=42)\n",
    "train_xb, val_xb, train_yb, val_yb = train_test_split(train_xb, train_yb, test_size=0.2, random_state=42)\n",
    "train_xmy, test_xmy, train_ymy, test_ymy = train_test_split(X_my, Y_my, test_size=0.8, random_state=42)\n",
    "train_xmy, val_xmy, train_ymy, val_ymy = train_test_split(train_xmy, train_ymy, test_size=0.2, random_state=42)\n",
    "    \n",
    "X_train = np.concatenate((train_xb, train_xmy, train_x), axis=0)\n",
    "y_train = np.concatenate((train_yb, train_ymy, train_y), axis=0)\n",
    "X_val = np.concatenate((val_xb, val_xmy, val_x), axis=0)\n",
    "y_val = np.concatenate((val_yb, val_ymy, val_y), axis=0) \n",
    "X_test = np.concatenate((test_xb, test_xmy, test_x_split), axis=0)\n",
    "y_test = np.concatenate((test_yb, test_ymy, test_y_split), axis=0)"
   ]
  },
  {
   "cell_type": "code",
   "execution_count": 139,
   "id": "c5f897d2-c87e-445f-83ea-79ff5a5fd4ee",
   "metadata": {},
   "outputs": [
    {
     "data": {
      "text/plain": [
       "(144, 18211)"
      ]
     },
     "execution_count": 139,
     "metadata": {},
     "output_type": "execute_result"
    }
   ],
   "source": [
    "y_test.shape"
   ]
  },
  {
   "cell_type": "code",
   "execution_count": 154,
   "id": "be632d47-da95-48a0-9cab-b8c0681c7ab2",
   "metadata": {},
   "outputs": [
    {
     "name": "stderr",
     "output_type": "stream",
     "text": [
      "  0%|          | 0/18211 [00:00<?, ?it/s]/scratch4/mschatz1/hji20/lgbm/lib/python3.8/site-packages/lightgbm/engine.py:172: UserWarning: Found `num_boost_round` in params. Will use it instead of argument\n",
      "  _log_warning(f\"Found `{alias}` in params. Will use it instead of argument\")\n",
      "/scratch4/mschatz1/hji20/lgbm/lib/python3.8/site-packages/lightgbm/engine.py:172: UserWarning: Found `num_iterations` in params. Will use it instead of argument\n",
      "  _log_warning(f\"Found `{alias}` in params. Will use it instead of argument\")\n",
      "100%|██████████| 18211/18211 [1:01:02<00:00,  4.97it/s]\n"
     ]
    },
    {
     "name": "stdout",
     "output_type": "stream",
     "text": [
      "1.7208496976164644\n",
      "9.248360776333485\n"
     ]
    }
   ],
   "source": [
    "models_opt = []\n",
    "    \n",
    "for i in tqdm(range(Y.shape[1])):\n",
    "    param = study.best_trial.params\n",
    "    param['verbosity'] = -1\n",
    "    dtrain = lgb.Dataset(X_train, label=y_train[:, i])  # Train a model for each output element\n",
    "    dval = lgb.Dataset(X_val, label=y_val[:, i], reference=dtrain) \n",
    "    gbm = lgb.train(param, dtrain, valid_sets=[dval])\n",
    "    models_opt.append(gbm)\n",
    "        \n",
    "pred_y = np.array([model.predict(X_test) for model in models_opt]).T\n",
    "loss = mrrmse_np(pred_y, y_test)\n",
    "loss2 = sklearn.metrics.mean_squared_error(pred_y, y_test)\n",
    "print(loss)\n",
    "print(loss2)"
   ]
  },
  {
   "cell_type": "code",
   "execution_count": 156,
   "id": "df1a9ada-a867-4140-a414-27df7f15f7e3",
   "metadata": {},
   "outputs": [],
   "source": [
    "!mkdir trained_models_opt"
   ]
  },
  {
   "cell_type": "code",
   "execution_count": 157,
   "id": "9134d995-345e-448d-ac70-6852507bde6d",
   "metadata": {},
   "outputs": [],
   "source": [
    "for i in range(len(models_opt)):\n",
    "  m = models_opt[i]\n",
    "  fn = \"trained_models_opt/trained_model_\" + str(i) + \".txt\"\n",
    "  m.save_model(fn)"
   ]
  },
  {
   "cell_type": "code",
   "execution_count": 158,
   "id": "f2c0e4d0-0cd6-40e5-a885-78dfa52a531f",
   "metadata": {},
   "outputs": [
    {
     "data": {
      "text/plain": [
       "(255, 18211)"
      ]
     },
     "execution_count": 158,
     "metadata": {},
     "output_type": "execute_result"
    }
   ],
   "source": [
    "id_y_pred = np.array([model.predict(id_X) for model in models_opt]).T\n",
    "id_y_pred.shape"
   ]
  },
  {
   "cell_type": "code",
   "execution_count": 159,
   "id": "443695e7-b2d1-4e7a-8049-9d0523900522",
   "metadata": {},
   "outputs": [
    {
     "data": {
      "text/plain": [
       "1"
      ]
     },
     "execution_count": 159,
     "metadata": {},
     "output_type": "execute_result"
    }
   ],
   "source": [
    "out_fh = open(\"./submission_opt.csv\", 'w')\n",
    "out_fh.write(\"id\")\n",
    "for g in genes:\n",
    "  out_fh.write(\",\" + g)\n",
    "out_fh.write(\"\\n\")"
   ]
  },
  {
   "cell_type": "code",
   "execution_count": 160,
   "id": "06e4f05e-0e67-479b-97fa-980b6707984c",
   "metadata": {},
   "outputs": [],
   "source": [
    "ctr = 0\n",
    "for row in id_y_pred:\n",
    "    out_fh.write(str(ctr))\n",
    "    for col in row:\n",
    "        out_fh.write(',' + str(col))\n",
    "    out_fh.write('\\n')\n",
    "    ctr += 1"
   ]
  },
  {
   "cell_type": "code",
   "execution_count": 161,
   "id": "d89456e3-d976-443a-8ff4-0053c39994c9",
   "metadata": {},
   "outputs": [],
   "source": [
    "out_fh.close()"
   ]
  }
 ],
 "metadata": {
  "kernelspec": {
   "display_name": "Python (lgbm)",
   "language": "python",
   "name": "lgbm"
  },
  "language_info": {
   "codemirror_mode": {
    "name": "ipython",
    "version": 3
   },
   "file_extension": ".py",
   "mimetype": "text/x-python",
   "name": "python",
   "nbconvert_exporter": "python",
   "pygments_lexer": "ipython3",
   "version": "3.8.6"
  }
 },
 "nbformat": 4,
 "nbformat_minor": 5
}
