{
  "nbformat": 4,
  "nbformat_minor": 0,
  "metadata": {
    "colab": {
      "provenance": [],
      "machine_shape": "hm",
      "gpuType": "V100"
    },
    "kernelspec": {
      "name": "python3",
      "display_name": "Python 3"
    },
    "language_info": {
      "name": "python"
    },
    "accelerator": "GPU"
  },
  "cells": [
    {
      "cell_type": "markdown",
      "source": [
        "# Exploratory Data Analysis for Kaggle Dataset"
      ],
      "metadata": {
        "id": "khWhw18UsiSX"
      }
    },
    {
      "cell_type": "code",
      "execution_count": null,
      "metadata": {
        "id": "LJVLFl3IQm2T"
      },
      "outputs": [],
      "source": [
        "!pip install -q kaggle"
      ]
    },
    {
      "cell_type": "code",
      "source": [
        "from google.colab import files"
      ],
      "metadata": {
        "id": "65dj7KXHQsIH"
      },
      "execution_count": null,
      "outputs": []
    },
    {
      "cell_type": "code",
      "source": [
        "files.upload()"
      ],
      "metadata": {
        "colab": {
          "base_uri": "https://localhost:8080/",
          "height": 94
        },
        "id": "su3A20RVQsQN",
        "outputId": "808709a9-59a1-4565-bf4c-f5648aa51cc2"
      },
      "execution_count": null,
      "outputs": [
        {
          "output_type": "display_data",
          "data": {
            "text/plain": [
              "<IPython.core.display.HTML object>"
            ],
            "text/html": [
              "\n",
              "     <input type=\"file\" id=\"files-46909b9c-9ea2-4f70-9819-fc1e4d69bfcc\" name=\"files[]\" multiple disabled\n",
              "        style=\"border:none\" />\n",
              "     <output id=\"result-46909b9c-9ea2-4f70-9819-fc1e4d69bfcc\">\n",
              "      Upload widget is only available when the cell has been executed in the\n",
              "      current browser session. Please rerun this cell to enable.\n",
              "      </output>\n",
              "      <script>// Copyright 2017 Google LLC\n",
              "//\n",
              "// Licensed under the Apache License, Version 2.0 (the \"License\");\n",
              "// you may not use this file except in compliance with the License.\n",
              "// You may obtain a copy of the License at\n",
              "//\n",
              "//      http://www.apache.org/licenses/LICENSE-2.0\n",
              "//\n",
              "// Unless required by applicable law or agreed to in writing, software\n",
              "// distributed under the License is distributed on an \"AS IS\" BASIS,\n",
              "// WITHOUT WARRANTIES OR CONDITIONS OF ANY KIND, either express or implied.\n",
              "// See the License for the specific language governing permissions and\n",
              "// limitations under the License.\n",
              "\n",
              "/**\n",
              " * @fileoverview Helpers for google.colab Python module.\n",
              " */\n",
              "(function(scope) {\n",
              "function span(text, styleAttributes = {}) {\n",
              "  const element = document.createElement('span');\n",
              "  element.textContent = text;\n",
              "  for (const key of Object.keys(styleAttributes)) {\n",
              "    element.style[key] = styleAttributes[key];\n",
              "  }\n",
              "  return element;\n",
              "}\n",
              "\n",
              "// Max number of bytes which will be uploaded at a time.\n",
              "const MAX_PAYLOAD_SIZE = 100 * 1024;\n",
              "\n",
              "function _uploadFiles(inputId, outputId) {\n",
              "  const steps = uploadFilesStep(inputId, outputId);\n",
              "  const outputElement = document.getElementById(outputId);\n",
              "  // Cache steps on the outputElement to make it available for the next call\n",
              "  // to uploadFilesContinue from Python.\n",
              "  outputElement.steps = steps;\n",
              "\n",
              "  return _uploadFilesContinue(outputId);\n",
              "}\n",
              "\n",
              "// This is roughly an async generator (not supported in the browser yet),\n",
              "// where there are multiple asynchronous steps and the Python side is going\n",
              "// to poll for completion of each step.\n",
              "// This uses a Promise to block the python side on completion of each step,\n",
              "// then passes the result of the previous step as the input to the next step.\n",
              "function _uploadFilesContinue(outputId) {\n",
              "  const outputElement = document.getElementById(outputId);\n",
              "  const steps = outputElement.steps;\n",
              "\n",
              "  const next = steps.next(outputElement.lastPromiseValue);\n",
              "  return Promise.resolve(next.value.promise).then((value) => {\n",
              "    // Cache the last promise value to make it available to the next\n",
              "    // step of the generator.\n",
              "    outputElement.lastPromiseValue = value;\n",
              "    return next.value.response;\n",
              "  });\n",
              "}\n",
              "\n",
              "/**\n",
              " * Generator function which is called between each async step of the upload\n",
              " * process.\n",
              " * @param {string} inputId Element ID of the input file picker element.\n",
              " * @param {string} outputId Element ID of the output display.\n",
              " * @return {!Iterable<!Object>} Iterable of next steps.\n",
              " */\n",
              "function* uploadFilesStep(inputId, outputId) {\n",
              "  const inputElement = document.getElementById(inputId);\n",
              "  inputElement.disabled = false;\n",
              "\n",
              "  const outputElement = document.getElementById(outputId);\n",
              "  outputElement.innerHTML = '';\n",
              "\n",
              "  const pickedPromise = new Promise((resolve) => {\n",
              "    inputElement.addEventListener('change', (e) => {\n",
              "      resolve(e.target.files);\n",
              "    });\n",
              "  });\n",
              "\n",
              "  const cancel = document.createElement('button');\n",
              "  inputElement.parentElement.appendChild(cancel);\n",
              "  cancel.textContent = 'Cancel upload';\n",
              "  const cancelPromise = new Promise((resolve) => {\n",
              "    cancel.onclick = () => {\n",
              "      resolve(null);\n",
              "    };\n",
              "  });\n",
              "\n",
              "  // Wait for the user to pick the files.\n",
              "  const files = yield {\n",
              "    promise: Promise.race([pickedPromise, cancelPromise]),\n",
              "    response: {\n",
              "      action: 'starting',\n",
              "    }\n",
              "  };\n",
              "\n",
              "  cancel.remove();\n",
              "\n",
              "  // Disable the input element since further picks are not allowed.\n",
              "  inputElement.disabled = true;\n",
              "\n",
              "  if (!files) {\n",
              "    return {\n",
              "      response: {\n",
              "        action: 'complete',\n",
              "      }\n",
              "    };\n",
              "  }\n",
              "\n",
              "  for (const file of files) {\n",
              "    const li = document.createElement('li');\n",
              "    li.append(span(file.name, {fontWeight: 'bold'}));\n",
              "    li.append(span(\n",
              "        `(${file.type || 'n/a'}) - ${file.size} bytes, ` +\n",
              "        `last modified: ${\n",
              "            file.lastModifiedDate ? file.lastModifiedDate.toLocaleDateString() :\n",
              "                                    'n/a'} - `));\n",
              "    const percent = span('0% done');\n",
              "    li.appendChild(percent);\n",
              "\n",
              "    outputElement.appendChild(li);\n",
              "\n",
              "    const fileDataPromise = new Promise((resolve) => {\n",
              "      const reader = new FileReader();\n",
              "      reader.onload = (e) => {\n",
              "        resolve(e.target.result);\n",
              "      };\n",
              "      reader.readAsArrayBuffer(file);\n",
              "    });\n",
              "    // Wait for the data to be ready.\n",
              "    let fileData = yield {\n",
              "      promise: fileDataPromise,\n",
              "      response: {\n",
              "        action: 'continue',\n",
              "      }\n",
              "    };\n",
              "\n",
              "    // Use a chunked sending to avoid message size limits. See b/62115660.\n",
              "    let position = 0;\n",
              "    do {\n",
              "      const length = Math.min(fileData.byteLength - position, MAX_PAYLOAD_SIZE);\n",
              "      const chunk = new Uint8Array(fileData, position, length);\n",
              "      position += length;\n",
              "\n",
              "      const base64 = btoa(String.fromCharCode.apply(null, chunk));\n",
              "      yield {\n",
              "        response: {\n",
              "          action: 'append',\n",
              "          file: file.name,\n",
              "          data: base64,\n",
              "        },\n",
              "      };\n",
              "\n",
              "      let percentDone = fileData.byteLength === 0 ?\n",
              "          100 :\n",
              "          Math.round((position / fileData.byteLength) * 100);\n",
              "      percent.textContent = `${percentDone}% done`;\n",
              "\n",
              "    } while (position < fileData.byteLength);\n",
              "  }\n",
              "\n",
              "  // All done.\n",
              "  yield {\n",
              "    response: {\n",
              "      action: 'complete',\n",
              "    }\n",
              "  };\n",
              "}\n",
              "\n",
              "scope.google = scope.google || {};\n",
              "scope.google.colab = scope.google.colab || {};\n",
              "scope.google.colab._files = {\n",
              "  _uploadFiles,\n",
              "  _uploadFilesContinue,\n",
              "};\n",
              "})(self);\n",
              "</script> "
            ]
          },
          "metadata": {}
        },
        {
          "output_type": "stream",
          "name": "stdout",
          "text": [
            "Saving kaggle.json to kaggle.json\n"
          ]
        },
        {
          "output_type": "execute_result",
          "data": {
            "text/plain": [
              "{'kaggle.json': b'{\"username\":\"haydenji\",\"key\":\"7d3b906a4522a7e73489b1a010b9f920\"}'}"
            ]
          },
          "metadata": {},
          "execution_count": 3
        }
      ]
    },
    {
      "cell_type": "code",
      "source": [
        "!mkdir ~/.kaggle\n",
        "!cp kaggle.json ~/.kaggle/\n",
        "!chmod 600 ~/.kaggle/kaggle.json"
      ],
      "metadata": {
        "id": "1nilSgIrQvOw"
      },
      "execution_count": null,
      "outputs": []
    },
    {
      "cell_type": "code",
      "source": [
        "!kaggle competitions download -c open-problems-single-cell-perturbations"
      ],
      "metadata": {
        "colab": {
          "base_uri": "https://localhost:8080/"
        },
        "id": "L09wBTLtQz8B",
        "outputId": "80015f16-6faa-4a03-b6ff-aee94d0ccde2"
      },
      "execution_count": null,
      "outputs": [
        {
          "output_type": "stream",
          "name": "stdout",
          "text": [
            "Downloading open-problems-single-cell-perturbations.zip to /content\n",
            "100% 3.83G/3.83G [02:17<00:00, 34.6MB/s]\n",
            "100% 3.83G/3.83G [02:17<00:00, 29.8MB/s]\n"
          ]
        }
      ]
    },
    {
      "cell_type": "code",
      "source": [
        "!mkdir train\n",
        "!unzip open-problems-single-cell-perturbations.zip -d train"
      ],
      "metadata": {
        "colab": {
          "base_uri": "https://localhost:8080/"
        },
        "id": "3M8QVWtNQ2s5",
        "outputId": "32328467-8b01-4b52-8d3f-bc8ba6abbded"
      },
      "execution_count": null,
      "outputs": [
        {
          "output_type": "stream",
          "name": "stdout",
          "text": [
            "Archive:  open-problems-single-cell-perturbations.zip\n",
            "  inflating: train/adata_excluded_ids.csv  \n",
            "  inflating: train/adata_obs_meta.csv  \n",
            "  inflating: train/adata_train.parquet  \n",
            "  inflating: train/de_train.parquet  \n",
            "  inflating: train/id_map.csv        \n",
            "  inflating: train/multiome_obs_meta.csv  \n",
            "  inflating: train/multiome_train.parquet  \n",
            "  inflating: train/multiome_var_meta.csv  \n",
            "  inflating: train/sample_submission.csv  \n"
          ]
        }
      ]
    },
    {
      "cell_type": "code",
      "source": [
        "import pandas as pd\n",
        "import numpy as np\n",
        "import matplotlib.pyplot as plt"
      ],
      "metadata": {
        "id": "YZcCOLFAQ4Hl"
      },
      "execution_count": null,
      "outputs": []
    },
    {
      "cell_type": "code",
      "source": [
        "de_train = pd.read_parquet(f\"./train/de_train.parquet\")\n",
        "de_train.head()"
      ],
      "metadata": {
        "colab": {
          "base_uri": "https://localhost:8080/",
          "height": 342
        },
        "id": "Gsq6A-llQ4v2",
        "outputId": "d85e7bad-8c89-4f9f-fead-1557349f6efd"
      },
      "execution_count": null,
      "outputs": [
        {
          "output_type": "execute_result",
          "data": {
            "text/plain": [
              "            cell_type             sm_name sm_lincs_id  \\\n",
              "0            NK cells        Clotrimazole    LSM-5341   \n",
              "1        T cells CD4+        Clotrimazole    LSM-5341   \n",
              "2        T cells CD8+        Clotrimazole    LSM-5341   \n",
              "3  T regulatory cells        Clotrimazole    LSM-5341   \n",
              "4            NK cells  Mometasone Furoate    LSM-3349   \n",
              "\n",
              "                                              SMILES  control      A1BG  \\\n",
              "0             Clc1ccccc1C(c1ccccc1)(c1ccccc1)n1ccnc1    False  0.104720   \n",
              "1             Clc1ccccc1C(c1ccccc1)(c1ccccc1)n1ccnc1    False  0.915953   \n",
              "2             Clc1ccccc1C(c1ccccc1)(c1ccccc1)n1ccnc1    False -0.387721   \n",
              "3             Clc1ccccc1C(c1ccccc1)(c1ccccc1)n1ccnc1    False  0.232893   \n",
              "4  C[C@@H]1C[C@H]2[C@@H]3CCC4=CC(=O)C=C[C@]4(C)[C...    False  4.290652   \n",
              "\n",
              "   A1BG-AS1       A2M   A2M-AS1     A2MP1  ...      ZUP1      ZW10    ZWILCH  \\\n",
              "0 -0.077524 -1.625596 -0.144545  0.143555  ... -0.227781 -0.010752 -0.023881   \n",
              "1 -0.884380  0.371834 -0.081677 -0.498266  ... -0.494985 -0.303419  0.304955   \n",
              "2 -0.305378  0.567777  0.303895 -0.022653  ... -0.119422 -0.033608 -0.153123   \n",
              "3  0.129029  0.336897  0.486946  0.767661  ...  0.451679  0.704643  0.015468   \n",
              "4 -0.063864 -0.017443 -0.541154  0.570982  ...  0.758474  0.510762  0.607401   \n",
              "\n",
              "      ZWINT      ZXDA      ZXDB      ZXDC    ZYG11B       ZYX     ZZEF1  \n",
              "0  0.674536 -0.453068  0.005164 -0.094959  0.034127  0.221377  0.368755  \n",
              "1 -0.333905 -0.315516 -0.369626 -0.095079  0.704780  1.096702 -0.869887  \n",
              "2  0.183597 -0.555678 -1.494789 -0.213550  0.415768  0.078439 -0.259365  \n",
              "3 -0.103868  0.865027  0.189114  0.224700 -0.048233  0.216139 -0.085024  \n",
              "4 -0.123059  0.214366  0.487838 -0.819775  0.112365 -0.122193  0.676629  \n",
              "\n",
              "[5 rows x 18216 columns]"
            ],
            "text/html": [
              "\n",
              "  <div id=\"df-cb03f7e1-ab73-492e-b99a-b5d67d1089d1\" class=\"colab-df-container\">\n",
              "    <div>\n",
              "<style scoped>\n",
              "    .dataframe tbody tr th:only-of-type {\n",
              "        vertical-align: middle;\n",
              "    }\n",
              "\n",
              "    .dataframe tbody tr th {\n",
              "        vertical-align: top;\n",
              "    }\n",
              "\n",
              "    .dataframe thead th {\n",
              "        text-align: right;\n",
              "    }\n",
              "</style>\n",
              "<table border=\"1\" class=\"dataframe\">\n",
              "  <thead>\n",
              "    <tr style=\"text-align: right;\">\n",
              "      <th></th>\n",
              "      <th>cell_type</th>\n",
              "      <th>sm_name</th>\n",
              "      <th>sm_lincs_id</th>\n",
              "      <th>SMILES</th>\n",
              "      <th>control</th>\n",
              "      <th>A1BG</th>\n",
              "      <th>A1BG-AS1</th>\n",
              "      <th>A2M</th>\n",
              "      <th>A2M-AS1</th>\n",
              "      <th>A2MP1</th>\n",
              "      <th>...</th>\n",
              "      <th>ZUP1</th>\n",
              "      <th>ZW10</th>\n",
              "      <th>ZWILCH</th>\n",
              "      <th>ZWINT</th>\n",
              "      <th>ZXDA</th>\n",
              "      <th>ZXDB</th>\n",
              "      <th>ZXDC</th>\n",
              "      <th>ZYG11B</th>\n",
              "      <th>ZYX</th>\n",
              "      <th>ZZEF1</th>\n",
              "    </tr>\n",
              "  </thead>\n",
              "  <tbody>\n",
              "    <tr>\n",
              "      <th>0</th>\n",
              "      <td>NK cells</td>\n",
              "      <td>Clotrimazole</td>\n",
              "      <td>LSM-5341</td>\n",
              "      <td>Clc1ccccc1C(c1ccccc1)(c1ccccc1)n1ccnc1</td>\n",
              "      <td>False</td>\n",
              "      <td>0.104720</td>\n",
              "      <td>-0.077524</td>\n",
              "      <td>-1.625596</td>\n",
              "      <td>-0.144545</td>\n",
              "      <td>0.143555</td>\n",
              "      <td>...</td>\n",
              "      <td>-0.227781</td>\n",
              "      <td>-0.010752</td>\n",
              "      <td>-0.023881</td>\n",
              "      <td>0.674536</td>\n",
              "      <td>-0.453068</td>\n",
              "      <td>0.005164</td>\n",
              "      <td>-0.094959</td>\n",
              "      <td>0.034127</td>\n",
              "      <td>0.221377</td>\n",
              "      <td>0.368755</td>\n",
              "    </tr>\n",
              "    <tr>\n",
              "      <th>1</th>\n",
              "      <td>T cells CD4+</td>\n",
              "      <td>Clotrimazole</td>\n",
              "      <td>LSM-5341</td>\n",
              "      <td>Clc1ccccc1C(c1ccccc1)(c1ccccc1)n1ccnc1</td>\n",
              "      <td>False</td>\n",
              "      <td>0.915953</td>\n",
              "      <td>-0.884380</td>\n",
              "      <td>0.371834</td>\n",
              "      <td>-0.081677</td>\n",
              "      <td>-0.498266</td>\n",
              "      <td>...</td>\n",
              "      <td>-0.494985</td>\n",
              "      <td>-0.303419</td>\n",
              "      <td>0.304955</td>\n",
              "      <td>-0.333905</td>\n",
              "      <td>-0.315516</td>\n",
              "      <td>-0.369626</td>\n",
              "      <td>-0.095079</td>\n",
              "      <td>0.704780</td>\n",
              "      <td>1.096702</td>\n",
              "      <td>-0.869887</td>\n",
              "    </tr>\n",
              "    <tr>\n",
              "      <th>2</th>\n",
              "      <td>T cells CD8+</td>\n",
              "      <td>Clotrimazole</td>\n",
              "      <td>LSM-5341</td>\n",
              "      <td>Clc1ccccc1C(c1ccccc1)(c1ccccc1)n1ccnc1</td>\n",
              "      <td>False</td>\n",
              "      <td>-0.387721</td>\n",
              "      <td>-0.305378</td>\n",
              "      <td>0.567777</td>\n",
              "      <td>0.303895</td>\n",
              "      <td>-0.022653</td>\n",
              "      <td>...</td>\n",
              "      <td>-0.119422</td>\n",
              "      <td>-0.033608</td>\n",
              "      <td>-0.153123</td>\n",
              "      <td>0.183597</td>\n",
              "      <td>-0.555678</td>\n",
              "      <td>-1.494789</td>\n",
              "      <td>-0.213550</td>\n",
              "      <td>0.415768</td>\n",
              "      <td>0.078439</td>\n",
              "      <td>-0.259365</td>\n",
              "    </tr>\n",
              "    <tr>\n",
              "      <th>3</th>\n",
              "      <td>T regulatory cells</td>\n",
              "      <td>Clotrimazole</td>\n",
              "      <td>LSM-5341</td>\n",
              "      <td>Clc1ccccc1C(c1ccccc1)(c1ccccc1)n1ccnc1</td>\n",
              "      <td>False</td>\n",
              "      <td>0.232893</td>\n",
              "      <td>0.129029</td>\n",
              "      <td>0.336897</td>\n",
              "      <td>0.486946</td>\n",
              "      <td>0.767661</td>\n",
              "      <td>...</td>\n",
              "      <td>0.451679</td>\n",
              "      <td>0.704643</td>\n",
              "      <td>0.015468</td>\n",
              "      <td>-0.103868</td>\n",
              "      <td>0.865027</td>\n",
              "      <td>0.189114</td>\n",
              "      <td>0.224700</td>\n",
              "      <td>-0.048233</td>\n",
              "      <td>0.216139</td>\n",
              "      <td>-0.085024</td>\n",
              "    </tr>\n",
              "    <tr>\n",
              "      <th>4</th>\n",
              "      <td>NK cells</td>\n",
              "      <td>Mometasone Furoate</td>\n",
              "      <td>LSM-3349</td>\n",
              "      <td>C[C@@H]1C[C@H]2[C@@H]3CCC4=CC(=O)C=C[C@]4(C)[C...</td>\n",
              "      <td>False</td>\n",
              "      <td>4.290652</td>\n",
              "      <td>-0.063864</td>\n",
              "      <td>-0.017443</td>\n",
              "      <td>-0.541154</td>\n",
              "      <td>0.570982</td>\n",
              "      <td>...</td>\n",
              "      <td>0.758474</td>\n",
              "      <td>0.510762</td>\n",
              "      <td>0.607401</td>\n",
              "      <td>-0.123059</td>\n",
              "      <td>0.214366</td>\n",
              "      <td>0.487838</td>\n",
              "      <td>-0.819775</td>\n",
              "      <td>0.112365</td>\n",
              "      <td>-0.122193</td>\n",
              "      <td>0.676629</td>\n",
              "    </tr>\n",
              "  </tbody>\n",
              "</table>\n",
              "<p>5 rows × 18216 columns</p>\n",
              "</div>\n",
              "    <div class=\"colab-df-buttons\">\n",
              "\n",
              "  <div class=\"colab-df-container\">\n",
              "    <button class=\"colab-df-convert\" onclick=\"convertToInteractive('df-cb03f7e1-ab73-492e-b99a-b5d67d1089d1')\"\n",
              "            title=\"Convert this dataframe to an interactive table.\"\n",
              "            style=\"display:none;\">\n",
              "\n",
              "  <svg xmlns=\"http://www.w3.org/2000/svg\" height=\"24px\" viewBox=\"0 -960 960 960\">\n",
              "    <path d=\"M120-120v-720h720v720H120Zm60-500h600v-160H180v160Zm220 220h160v-160H400v160Zm0 220h160v-160H400v160ZM180-400h160v-160H180v160Zm440 0h160v-160H620v160ZM180-180h160v-160H180v160Zm440 0h160v-160H620v160Z\"/>\n",
              "  </svg>\n",
              "    </button>\n",
              "\n",
              "  <style>\n",
              "    .colab-df-container {\n",
              "      display:flex;\n",
              "      gap: 12px;\n",
              "    }\n",
              "\n",
              "    .colab-df-convert {\n",
              "      background-color: #E8F0FE;\n",
              "      border: none;\n",
              "      border-radius: 50%;\n",
              "      cursor: pointer;\n",
              "      display: none;\n",
              "      fill: #1967D2;\n",
              "      height: 32px;\n",
              "      padding: 0 0 0 0;\n",
              "      width: 32px;\n",
              "    }\n",
              "\n",
              "    .colab-df-convert:hover {\n",
              "      background-color: #E2EBFA;\n",
              "      box-shadow: 0px 1px 2px rgba(60, 64, 67, 0.3), 0px 1px 3px 1px rgba(60, 64, 67, 0.15);\n",
              "      fill: #174EA6;\n",
              "    }\n",
              "\n",
              "    .colab-df-buttons div {\n",
              "      margin-bottom: 4px;\n",
              "    }\n",
              "\n",
              "    [theme=dark] .colab-df-convert {\n",
              "      background-color: #3B4455;\n",
              "      fill: #D2E3FC;\n",
              "    }\n",
              "\n",
              "    [theme=dark] .colab-df-convert:hover {\n",
              "      background-color: #434B5C;\n",
              "      box-shadow: 0px 1px 3px 1px rgba(0, 0, 0, 0.15);\n",
              "      filter: drop-shadow(0px 1px 2px rgba(0, 0, 0, 0.3));\n",
              "      fill: #FFFFFF;\n",
              "    }\n",
              "  </style>\n",
              "\n",
              "    <script>\n",
              "      const buttonEl =\n",
              "        document.querySelector('#df-cb03f7e1-ab73-492e-b99a-b5d67d1089d1 button.colab-df-convert');\n",
              "      buttonEl.style.display =\n",
              "        google.colab.kernel.accessAllowed ? 'block' : 'none';\n",
              "\n",
              "      async function convertToInteractive(key) {\n",
              "        const element = document.querySelector('#df-cb03f7e1-ab73-492e-b99a-b5d67d1089d1');\n",
              "        const dataTable =\n",
              "          await google.colab.kernel.invokeFunction('convertToInteractive',\n",
              "                                                    [key], {});\n",
              "        if (!dataTable) return;\n",
              "\n",
              "        const docLinkHtml = 'Like what you see? Visit the ' +\n",
              "          '<a target=\"_blank\" href=https://colab.research.google.com/notebooks/data_table.ipynb>data table notebook</a>'\n",
              "          + ' to learn more about interactive tables.';\n",
              "        element.innerHTML = '';\n",
              "        dataTable['output_type'] = 'display_data';\n",
              "        await google.colab.output.renderOutput(dataTable, element);\n",
              "        const docLink = document.createElement('div');\n",
              "        docLink.innerHTML = docLinkHtml;\n",
              "        element.appendChild(docLink);\n",
              "      }\n",
              "    </script>\n",
              "  </div>\n",
              "\n",
              "\n",
              "<div id=\"df-369ba250-323b-4ebe-90ea-c13fdf35c06e\">\n",
              "  <button class=\"colab-df-quickchart\" onclick=\"quickchart('df-369ba250-323b-4ebe-90ea-c13fdf35c06e')\"\n",
              "            title=\"Suggest charts\"\n",
              "            style=\"display:none;\">\n",
              "\n",
              "<svg xmlns=\"http://www.w3.org/2000/svg\" height=\"24px\"viewBox=\"0 0 24 24\"\n",
              "     width=\"24px\">\n",
              "    <g>\n",
              "        <path d=\"M19 3H5c-1.1 0-2 .9-2 2v14c0 1.1.9 2 2 2h14c1.1 0 2-.9 2-2V5c0-1.1-.9-2-2-2zM9 17H7v-7h2v7zm4 0h-2V7h2v10zm4 0h-2v-4h2v4z\"/>\n",
              "    </g>\n",
              "</svg>\n",
              "  </button>\n",
              "\n",
              "<style>\n",
              "  .colab-df-quickchart {\n",
              "      --bg-color: #E8F0FE;\n",
              "      --fill-color: #1967D2;\n",
              "      --hover-bg-color: #E2EBFA;\n",
              "      --hover-fill-color: #174EA6;\n",
              "      --disabled-fill-color: #AAA;\n",
              "      --disabled-bg-color: #DDD;\n",
              "  }\n",
              "\n",
              "  [theme=dark] .colab-df-quickchart {\n",
              "      --bg-color: #3B4455;\n",
              "      --fill-color: #D2E3FC;\n",
              "      --hover-bg-color: #434B5C;\n",
              "      --hover-fill-color: #FFFFFF;\n",
              "      --disabled-bg-color: #3B4455;\n",
              "      --disabled-fill-color: #666;\n",
              "  }\n",
              "\n",
              "  .colab-df-quickchart {\n",
              "    background-color: var(--bg-color);\n",
              "    border: none;\n",
              "    border-radius: 50%;\n",
              "    cursor: pointer;\n",
              "    display: none;\n",
              "    fill: var(--fill-color);\n",
              "    height: 32px;\n",
              "    padding: 0;\n",
              "    width: 32px;\n",
              "  }\n",
              "\n",
              "  .colab-df-quickchart:hover {\n",
              "    background-color: var(--hover-bg-color);\n",
              "    box-shadow: 0 1px 2px rgba(60, 64, 67, 0.3), 0 1px 3px 1px rgba(60, 64, 67, 0.15);\n",
              "    fill: var(--button-hover-fill-color);\n",
              "  }\n",
              "\n",
              "  .colab-df-quickchart-complete:disabled,\n",
              "  .colab-df-quickchart-complete:disabled:hover {\n",
              "    background-color: var(--disabled-bg-color);\n",
              "    fill: var(--disabled-fill-color);\n",
              "    box-shadow: none;\n",
              "  }\n",
              "\n",
              "  .colab-df-spinner {\n",
              "    border: 2px solid var(--fill-color);\n",
              "    border-color: transparent;\n",
              "    border-bottom-color: var(--fill-color);\n",
              "    animation:\n",
              "      spin 1s steps(1) infinite;\n",
              "  }\n",
              "\n",
              "  @keyframes spin {\n",
              "    0% {\n",
              "      border-color: transparent;\n",
              "      border-bottom-color: var(--fill-color);\n",
              "      border-left-color: var(--fill-color);\n",
              "    }\n",
              "    20% {\n",
              "      border-color: transparent;\n",
              "      border-left-color: var(--fill-color);\n",
              "      border-top-color: var(--fill-color);\n",
              "    }\n",
              "    30% {\n",
              "      border-color: transparent;\n",
              "      border-left-color: var(--fill-color);\n",
              "      border-top-color: var(--fill-color);\n",
              "      border-right-color: var(--fill-color);\n",
              "    }\n",
              "    40% {\n",
              "      border-color: transparent;\n",
              "      border-right-color: var(--fill-color);\n",
              "      border-top-color: var(--fill-color);\n",
              "    }\n",
              "    60% {\n",
              "      border-color: transparent;\n",
              "      border-right-color: var(--fill-color);\n",
              "    }\n",
              "    80% {\n",
              "      border-color: transparent;\n",
              "      border-right-color: var(--fill-color);\n",
              "      border-bottom-color: var(--fill-color);\n",
              "    }\n",
              "    90% {\n",
              "      border-color: transparent;\n",
              "      border-bottom-color: var(--fill-color);\n",
              "    }\n",
              "  }\n",
              "</style>\n",
              "\n",
              "  <script>\n",
              "    async function quickchart(key) {\n",
              "      const quickchartButtonEl =\n",
              "        document.querySelector('#' + key + ' button');\n",
              "      quickchartButtonEl.disabled = true;  // To prevent multiple clicks.\n",
              "      quickchartButtonEl.classList.add('colab-df-spinner');\n",
              "      try {\n",
              "        const charts = await google.colab.kernel.invokeFunction(\n",
              "            'suggestCharts', [key], {});\n",
              "      } catch (error) {\n",
              "        console.error('Error during call to suggestCharts:', error);\n",
              "      }\n",
              "      quickchartButtonEl.classList.remove('colab-df-spinner');\n",
              "      quickchartButtonEl.classList.add('colab-df-quickchart-complete');\n",
              "    }\n",
              "    (() => {\n",
              "      let quickchartButtonEl =\n",
              "        document.querySelector('#df-369ba250-323b-4ebe-90ea-c13fdf35c06e button');\n",
              "      quickchartButtonEl.style.display =\n",
              "        google.colab.kernel.accessAllowed ? 'block' : 'none';\n",
              "    })();\n",
              "  </script>\n",
              "</div>\n",
              "\n",
              "    </div>\n",
              "  </div>\n"
            ]
          },
          "metadata": {},
          "execution_count": 8
        }
      ]
    },
    {
      "cell_type": "code",
      "source": [
        "de_train[\"control\"].value_counts()"
      ],
      "metadata": {
        "colab": {
          "base_uri": "https://localhost:8080/"
        },
        "id": "b29nPYjmQ8tI",
        "outputId": "8f3f706a-16d8-42e9-ca10-922a1298caef"
      },
      "execution_count": null,
      "outputs": [
        {
          "output_type": "execute_result",
          "data": {
            "text/plain": [
              "False    602\n",
              "True      12\n",
              "Name: control, dtype: int64"
            ]
          },
          "metadata": {},
          "execution_count": 9
        }
      ]
    },
    {
      "cell_type": "code",
      "source": [
        "!pip install umap-learn"
      ],
      "metadata": {
        "colab": {
          "base_uri": "https://localhost:8080/"
        },
        "id": "FE2tXmZA8sVM",
        "outputId": "aed2a8fc-7068-4171-d1a6-ed977a2e0f01"
      },
      "execution_count": null,
      "outputs": [
        {
          "output_type": "stream",
          "name": "stdout",
          "text": [
            "Collecting umap-learn\n",
            "  Downloading umap-learn-0.5.5.tar.gz (90 kB)\n",
            "\u001b[2K     \u001b[90m━━━━━━━━━━━━━━━━━━━━━━━━━━━━━━━━━━━━━━━━\u001b[0m \u001b[32m90.9/90.9 kB\u001b[0m \u001b[31m2.7 MB/s\u001b[0m eta \u001b[36m0:00:00\u001b[0m\n",
            "\u001b[?25h  Preparing metadata (setup.py) ... \u001b[?25l\u001b[?25hdone\n",
            "Requirement already satisfied: numpy>=1.17 in /usr/local/lib/python3.10/dist-packages (from umap-learn) (1.23.5)\n",
            "Requirement already satisfied: scipy>=1.3.1 in /usr/local/lib/python3.10/dist-packages (from umap-learn) (1.11.3)\n",
            "Requirement already satisfied: scikit-learn>=0.22 in /usr/local/lib/python3.10/dist-packages (from umap-learn) (1.2.2)\n",
            "Requirement already satisfied: numba>=0.51.2 in /usr/local/lib/python3.10/dist-packages (from umap-learn) (0.58.1)\n",
            "Collecting pynndescent>=0.5 (from umap-learn)\n",
            "  Downloading pynndescent-0.5.11-py3-none-any.whl (55 kB)\n",
            "\u001b[2K     \u001b[90m━━━━━━━━━━━━━━━━━━━━━━━━━━━━━━━━━━━━━━━━\u001b[0m \u001b[32m55.8/55.8 kB\u001b[0m \u001b[31m4.4 MB/s\u001b[0m eta \u001b[36m0:00:00\u001b[0m\n",
            "\u001b[?25hRequirement already satisfied: tqdm in /usr/local/lib/python3.10/dist-packages (from umap-learn) (4.66.1)\n",
            "Requirement already satisfied: llvmlite<0.42,>=0.41.0dev0 in /usr/local/lib/python3.10/dist-packages (from numba>=0.51.2->umap-learn) (0.41.1)\n",
            "Requirement already satisfied: joblib>=0.11 in /usr/local/lib/python3.10/dist-packages (from pynndescent>=0.5->umap-learn) (1.3.2)\n",
            "Requirement already satisfied: threadpoolctl>=2.0.0 in /usr/local/lib/python3.10/dist-packages (from scikit-learn>=0.22->umap-learn) (3.2.0)\n",
            "Building wheels for collected packages: umap-learn\n",
            "  Building wheel for umap-learn (setup.py) ... \u001b[?25l\u001b[?25hdone\n",
            "  Created wheel for umap-learn: filename=umap_learn-0.5.5-py3-none-any.whl size=86831 sha256=d7b86608be22d893a3f11b0c454567e2fdc72505a337d57a89fa9dba52aa6bab\n",
            "  Stored in directory: /root/.cache/pip/wheels/3a/70/07/428d2b58660a1a3b431db59b806a10da736612ebbc66c1bcc5\n",
            "Successfully built umap-learn\n",
            "Installing collected packages: pynndescent, umap-learn\n",
            "Successfully installed pynndescent-0.5.11 umap-learn-0.5.5\n"
          ]
        }
      ]
    },
    {
      "cell_type": "code",
      "source": [
        "import numpy as np\n",
        "from sklearn.datasets import load_digits\n",
        "from sklearn.model_selection import train_test_split\n",
        "from sklearn.preprocessing import StandardScaler\n",
        "import matplotlib.pyplot as plt\n",
        "import seaborn as sns\n",
        "import pandas as pd\n",
        "import umap"
      ],
      "metadata": {
        "id": "8w8fpiMg50Ig"
      },
      "execution_count": null,
      "outputs": []
    },
    {
      "cell_type": "code",
      "source": [
        "reducer = umap.UMAP()\n",
        "de_train_data = de_train.iloc[:,5:].values\n",
        "scaled_de_train_data = StandardScaler().fit_transform(de_train_data)\n",
        "embedding = reducer.fit_transform(scaled_de_train_data)"
      ],
      "metadata": {
        "id": "UuIRX8zE8u73"
      },
      "execution_count": null,
      "outputs": []
    },
    {
      "cell_type": "code",
      "source": [
        "ct_map = de_train.cell_type.map({\"NK cells\":0, \"T cells CD4+\":1, \"T regulatory cells\":2,\n",
        "                        \"T cells CD8+\":3, \"B cells\":4, \"Myeloid cells\":5})\n",
        "sns.color_palette()"
      ],
      "metadata": {
        "colab": {
          "base_uri": "https://localhost:8080/",
          "height": 77
        },
        "id": "kuY1IHgu8wxR",
        "outputId": "fd389620-bf3e-4845-b00d-6278d0cd7292"
      },
      "execution_count": null,
      "outputs": [
        {
          "output_type": "execute_result",
          "data": {
            "text/plain": [
              "[(0.12156862745098039, 0.4666666666666667, 0.7058823529411765),\n",
              " (1.0, 0.4980392156862745, 0.054901960784313725),\n",
              " (0.17254901960784313, 0.6274509803921569, 0.17254901960784313),\n",
              " (0.8392156862745098, 0.15294117647058825, 0.1568627450980392),\n",
              " (0.5803921568627451, 0.403921568627451, 0.7411764705882353),\n",
              " (0.5490196078431373, 0.33725490196078434, 0.29411764705882354),\n",
              " (0.8901960784313725, 0.4666666666666667, 0.7607843137254902),\n",
              " (0.4980392156862745, 0.4980392156862745, 0.4980392156862745),\n",
              " (0.7372549019607844, 0.7411764705882353, 0.13333333333333333),\n",
              " (0.09019607843137255, 0.7450980392156863, 0.8117647058823529)]"
            ],
            "text/html": [
              "<svg  width=\"550\" height=\"55\"><rect x=\"0\" y=\"0\" width=\"55\" height=\"55\" style=\"fill:#1f77b4;stroke-width:2;stroke:rgb(255,255,255)\"/><rect x=\"55\" y=\"0\" width=\"55\" height=\"55\" style=\"fill:#ff7f0e;stroke-width:2;stroke:rgb(255,255,255)\"/><rect x=\"110\" y=\"0\" width=\"55\" height=\"55\" style=\"fill:#2ca02c;stroke-width:2;stroke:rgb(255,255,255)\"/><rect x=\"165\" y=\"0\" width=\"55\" height=\"55\" style=\"fill:#d62728;stroke-width:2;stroke:rgb(255,255,255)\"/><rect x=\"220\" y=\"0\" width=\"55\" height=\"55\" style=\"fill:#9467bd;stroke-width:2;stroke:rgb(255,255,255)\"/><rect x=\"275\" y=\"0\" width=\"55\" height=\"55\" style=\"fill:#8c564b;stroke-width:2;stroke:rgb(255,255,255)\"/><rect x=\"330\" y=\"0\" width=\"55\" height=\"55\" style=\"fill:#e377c2;stroke-width:2;stroke:rgb(255,255,255)\"/><rect x=\"385\" y=\"0\" width=\"55\" height=\"55\" style=\"fill:#7f7f7f;stroke-width:2;stroke:rgb(255,255,255)\"/><rect x=\"440\" y=\"0\" width=\"55\" height=\"55\" style=\"fill:#bcbd22;stroke-width:2;stroke:rgb(255,255,255)\"/><rect x=\"495\" y=\"0\" width=\"55\" height=\"55\" style=\"fill:#17becf;stroke-width:2;stroke:rgb(255,255,255)\"/></svg>"
            ]
          },
          "metadata": {},
          "execution_count": 13
        }
      ]
    },
    {
      "cell_type": "code",
      "source": [
        "plt.scatter(\n",
        "    embedding[:, 0],\n",
        "    embedding[:, 1],\n",
        "    c=[sns.color_palette()[x] for x in ct_map])\n",
        "plt.gca().set_aspect('equal', 'datalim')\n",
        "plt.title('Train DE Data UMAP Projection - Cell Type', fontsize=16);"
      ],
      "metadata": {
        "colab": {
          "base_uri": "https://localhost:8080/",
          "height": 454
        },
        "id": "ZPfrmAKP9f1n",
        "outputId": "4f976f93-2c0b-4a84-e12b-3a006fa3ddba"
      },
      "execution_count": null,
      "outputs": [
        {
          "output_type": "display_data",
          "data": {
            "text/plain": [
              "<Figure size 640x480 with 1 Axes>"
            ],
            "image/png": "[encoded data removed]"
          },
          "metadata": {}
        }
      ]
    },
    {
      "cell_type": "code",
      "source": [
        "de_train[\"sm_name\"].value_counts()\n",
        "print(de_train[\"sm_name\"].value_counts()[0:10])"
      ],
      "metadata": {
        "colab": {
          "base_uri": "https://localhost:8080/"
        },
        "id": "-0OkFfM8CPrF",
        "outputId": "a1091579-a4b0-43c3-c336-72341a6826be"
      },
      "execution_count": null,
      "outputs": [
        {
          "output_type": "stream",
          "name": "stdout",
          "text": [
            "R428                        6\n",
            "MLN 2238                    6\n",
            "Dactolisib                  6\n",
            "LDN 193189                  6\n",
            "Porcn Inhibitor III         6\n",
            "O-Demethylated Adapalene    6\n",
            "Penfluridol                 6\n",
            "Dabrafenib                  6\n",
            "Linagliptin                 6\n",
            "CHIR-99021                  6\n",
            "Name: sm_name, dtype: int64\n"
          ]
        }
      ]
    },
    {
      "cell_type": "code",
      "source": [
        "chem = [\"O-Demethylated Adapalene\", \"Penfluridol\", \"Dabrafenib\", \"Linagliptin\", \"CHIR-99021\"]\n",
        "de_train_subset = de_train[de_train['sm_name'].isin(chem)]\n",
        "de_train_subset.head()"
      ],
      "metadata": {
        "colab": {
          "base_uri": "https://localhost:8080/",
          "height": 359
        },
        "id": "jseUtz-FCR7L",
        "outputId": "c528ac1c-987e-4b2d-a5b8-5f6e77f2931c"
      },
      "execution_count": null,
      "outputs": [
        {
          "output_type": "execute_result",
          "data": {
            "text/plain": [
              "        cell_type      sm_name sm_lincs_id  \\\n",
              "72        B cells  Linagliptin   LSM-45916   \n",
              "73  Myeloid cells  Linagliptin   LSM-45916   \n",
              "74       NK cells  Linagliptin   LSM-45916   \n",
              "75   T cells CD4+  Linagliptin   LSM-45916   \n",
              "76   T cells CD8+  Linagliptin   LSM-45916   \n",
              "\n",
              "                                               SMILES  control      A1BG  \\\n",
              "72  CC#CCn1c(N2CCC[C@@H](N)C2)nc2c1c(=O)n(Cc1nc(C)...    False -0.096688   \n",
              "73  CC#CCn1c(N2CCC[C@@H](N)C2)nc2c1c(=O)n(Cc1nc(C)...    False -0.463122   \n",
              "74  CC#CCn1c(N2CCC[C@@H](N)C2)nc2c1c(=O)n(Cc1nc(C)...    False -0.331659   \n",
              "75  CC#CCn1c(N2CCC[C@@H](N)C2)nc2c1c(=O)n(Cc1nc(C)...    False -0.177178   \n",
              "76  CC#CCn1c(N2CCC[C@@H](N)C2)nc2c1c(=O)n(Cc1nc(C)...    False -0.013807   \n",
              "\n",
              "    A1BG-AS1       A2M   A2M-AS1     A2MP1  ...      ZUP1      ZW10    ZWILCH  \\\n",
              "72  0.057827  0.261704  0.054919  1.010873  ... -0.130766 -0.990278 -1.384846   \n",
              "73  0.161972  0.446527 -0.244721  1.592027  ...  0.041995 -0.329927  0.301065   \n",
              "74 -0.115675  0.112144 -0.012787  0.521185  ...  0.446485 -0.074754 -1.511683   \n",
              "75 -0.124321 -0.088521  0.363095 -0.491432  ...  0.008883  0.793286 -0.344169   \n",
              "76  0.610431 -0.395224 -0.096093  0.067666  ... -0.083077 -1.286293  0.810416   \n",
              "\n",
              "       ZWINT      ZXDA      ZXDB      ZXDC    ZYG11B       ZYX     ZZEF1  \n",
              "72  0.742082 -0.349105 -0.091224 -0.721902 -0.098806 -1.570230 -0.013876  \n",
              "73  0.097764  0.016425 -0.050881 -0.414133 -0.259675  1.000058 -1.020959  \n",
              "74 -1.116065 -0.509450  0.684176 -0.010951 -0.104867  0.283101 -0.078423  \n",
              "75 -0.451554 -0.552118  1.051585 -0.359527  0.255076  0.293871 -0.797985  \n",
              "76 -0.239286 -0.239539  0.450153 -0.011120 -0.002302 -0.355698 -0.161074  \n",
              "\n",
              "[5 rows x 18216 columns]"
            ],
            "text/html": [
              "\n",
              "  <div id=\"df-a090e8c7-3798-4114-bd5e-a31ffc9d6fda\" class=\"colab-df-container\">\n",
              "    <div>\n",
              "<style scoped>\n",
              "    .dataframe tbody tr th:only-of-type {\n",
              "        vertical-align: middle;\n",
              "    }\n",
              "\n",
              "    .dataframe tbody tr th {\n",
              "        vertical-align: top;\n",
              "    }\n",
              "\n",
              "    .dataframe thead th {\n",
              "        text-align: right;\n",
              "    }\n",
              "</style>\n",
              "<table border=\"1\" class=\"dataframe\">\n",
              "  <thead>\n",
              "    <tr style=\"text-align: right;\">\n",
              "      <th></th>\n",
              "      <th>cell_type</th>\n",
              "      <th>sm_name</th>\n",
              "      <th>sm_lincs_id</th>\n",
              "      <th>SMILES</th>\n",
              "      <th>control</th>\n",
              "      <th>A1BG</th>\n",
              "      <th>A1BG-AS1</th>\n",
              "      <th>A2M</th>\n",
              "      <th>A2M-AS1</th>\n",
              "      <th>A2MP1</th>\n",
              "      <th>...</th>\n",
              "      <th>ZUP1</th>\n",
              "      <th>ZW10</th>\n",
              "      <th>ZWILCH</th>\n",
              "      <th>ZWINT</th>\n",
              "      <th>ZXDA</th>\n",
              "      <th>ZXDB</th>\n",
              "      <th>ZXDC</th>\n",
              "      <th>ZYG11B</th>\n",
              "      <th>ZYX</th>\n",
              "      <th>ZZEF1</th>\n",
              "    </tr>\n",
              "  </thead>\n",
              "  <tbody>\n",
              "    <tr>\n",
              "      <th>72</th>\n",
              "      <td>B cells</td>\n",
              "      <td>Linagliptin</td>\n",
              "      <td>LSM-45916</td>\n",
              "      <td>CC#CCn1c(N2CCC[C@@H](N)C2)nc2c1c(=O)n(Cc1nc(C)...</td>\n",
              "      <td>False</td>\n",
              "      <td>-0.096688</td>\n",
              "      <td>0.057827</td>\n",
              "      <td>0.261704</td>\n",
              "      <td>0.054919</td>\n",
              "      <td>1.010873</td>\n",
              "      <td>...</td>\n",
              "      <td>-0.130766</td>\n",
              "      <td>-0.990278</td>\n",
              "      <td>-1.384846</td>\n",
              "      <td>0.742082</td>\n",
              "      <td>-0.349105</td>\n",
              "      <td>-0.091224</td>\n",
              "      <td>-0.721902</td>\n",
              "      <td>-0.098806</td>\n",
              "      <td>-1.570230</td>\n",
              "      <td>-0.013876</td>\n",
              "    </tr>\n",
              "    <tr>\n",
              "      <th>73</th>\n",
              "      <td>Myeloid cells</td>\n",
              "      <td>Linagliptin</td>\n",
              "      <td>LSM-45916</td>\n",
              "      <td>CC#CCn1c(N2CCC[C@@H](N)C2)nc2c1c(=O)n(Cc1nc(C)...</td>\n",
              "      <td>False</td>\n",
              "      <td>-0.463122</td>\n",
              "      <td>0.161972</td>\n",
              "      <td>0.446527</td>\n",
              "      <td>-0.244721</td>\n",
              "      <td>1.592027</td>\n",
              "      <td>...</td>\n",
              "      <td>0.041995</td>\n",
              "      <td>-0.329927</td>\n",
              "      <td>0.301065</td>\n",
              "      <td>0.097764</td>\n",
              "      <td>0.016425</td>\n",
              "      <td>-0.050881</td>\n",
              "      <td>-0.414133</td>\n",
              "      <td>-0.259675</td>\n",
              "      <td>1.000058</td>\n",
              "      <td>-1.020959</td>\n",
              "    </tr>\n",
              "    <tr>\n",
              "      <th>74</th>\n",
              "      <td>NK cells</td>\n",
              "      <td>Linagliptin</td>\n",
              "      <td>LSM-45916</td>\n",
              "      <td>CC#CCn1c(N2CCC[C@@H](N)C2)nc2c1c(=O)n(Cc1nc(C)...</td>\n",
              "      <td>False</td>\n",
              "      <td>-0.331659</td>\n",
              "      <td>-0.115675</td>\n",
              "      <td>0.112144</td>\n",
              "      <td>-0.012787</td>\n",
              "      <td>0.521185</td>\n",
              "      <td>...</td>\n",
              "      <td>0.446485</td>\n",
              "      <td>-0.074754</td>\n",
              "      <td>-1.511683</td>\n",
              "      <td>-1.116065</td>\n",
              "      <td>-0.509450</td>\n",
              "      <td>0.684176</td>\n",
              "      <td>-0.010951</td>\n",
              "      <td>-0.104867</td>\n",
              "      <td>0.283101</td>\n",
              "      <td>-0.078423</td>\n",
              "    </tr>\n",
              "    <tr>\n",
              "      <th>75</th>\n",
              "      <td>T cells CD4+</td>\n",
              "      <td>Linagliptin</td>\n",
              "      <td>LSM-45916</td>\n",
              "      <td>CC#CCn1c(N2CCC[C@@H](N)C2)nc2c1c(=O)n(Cc1nc(C)...</td>\n",
              "      <td>False</td>\n",
              "      <td>-0.177178</td>\n",
              "      <td>-0.124321</td>\n",
              "      <td>-0.088521</td>\n",
              "      <td>0.363095</td>\n",
              "      <td>-0.491432</td>\n",
              "      <td>...</td>\n",
              "      <td>0.008883</td>\n",
              "      <td>0.793286</td>\n",
              "      <td>-0.344169</td>\n",
              "      <td>-0.451554</td>\n",
              "      <td>-0.552118</td>\n",
              "      <td>1.051585</td>\n",
              "      <td>-0.359527</td>\n",
              "      <td>0.255076</td>\n",
              "      <td>0.293871</td>\n",
              "      <td>-0.797985</td>\n",
              "    </tr>\n",
              "    <tr>\n",
              "      <th>76</th>\n",
              "      <td>T cells CD8+</td>\n",
              "      <td>Linagliptin</td>\n",
              "      <td>LSM-45916</td>\n",
              "      <td>CC#CCn1c(N2CCC[C@@H](N)C2)nc2c1c(=O)n(Cc1nc(C)...</td>\n",
              "      <td>False</td>\n",
              "      <td>-0.013807</td>\n",
              "      <td>0.610431</td>\n",
              "      <td>-0.395224</td>\n",
              "      <td>-0.096093</td>\n",
              "      <td>0.067666</td>\n",
              "      <td>...</td>\n",
              "      <td>-0.083077</td>\n",
              "      <td>-1.286293</td>\n",
              "      <td>0.810416</td>\n",
              "      <td>-0.239286</td>\n",
              "      <td>-0.239539</td>\n",
              "      <td>0.450153</td>\n",
              "      <td>-0.011120</td>\n",
              "      <td>-0.002302</td>\n",
              "      <td>-0.355698</td>\n",
              "      <td>-0.161074</td>\n",
              "    </tr>\n",
              "  </tbody>\n",
              "</table>\n",
              "<p>5 rows × 18216 columns</p>\n",
              "</div>\n",
              "    <div class=\"colab-df-buttons\">\n",
              "\n",
              "  <div class=\"colab-df-container\">\n",
              "    <button class=\"colab-df-convert\" onclick=\"convertToInteractive('df-a090e8c7-3798-4114-bd5e-a31ffc9d6fda')\"\n",
              "            title=\"Convert this dataframe to an interactive table.\"\n",
              "            style=\"display:none;\">\n",
              "\n",
              "  <svg xmlns=\"http://www.w3.org/2000/svg\" height=\"24px\" viewBox=\"0 -960 960 960\">\n",
              "    <path d=\"M120-120v-720h720v720H120Zm60-500h600v-160H180v160Zm220 220h160v-160H400v160Zm0 220h160v-160H400v160ZM180-400h160v-160H180v160Zm440 0h160v-160H620v160ZM180-180h160v-160H180v160Zm440 0h160v-160H620v160Z\"/>\n",
              "  </svg>\n",
              "    </button>\n",
              "\n",
              "  <style>\n",
              "    .colab-df-container {\n",
              "      display:flex;\n",
              "      gap: 12px;\n",
              "    }\n",
              "\n",
              "    .colab-df-convert {\n",
              "      background-color: #E8F0FE;\n",
              "      border: none;\n",
              "      border-radius: 50%;\n",
              "      cursor: pointer;\n",
              "      display: none;\n",
              "      fill: #1967D2;\n",
              "      height: 32px;\n",
              "      padding: 0 0 0 0;\n",
              "      width: 32px;\n",
              "    }\n",
              "\n",
              "    .colab-df-convert:hover {\n",
              "      background-color: #E2EBFA;\n",
              "      box-shadow: 0px 1px 2px rgba(60, 64, 67, 0.3), 0px 1px 3px 1px rgba(60, 64, 67, 0.15);\n",
              "      fill: #174EA6;\n",
              "    }\n",
              "\n",
              "    .colab-df-buttons div {\n",
              "      margin-bottom: 4px;\n",
              "    }\n",
              "\n",
              "    [theme=dark] .colab-df-convert {\n",
              "      background-color: #3B4455;\n",
              "      fill: #D2E3FC;\n",
              "    }\n",
              "\n",
              "    [theme=dark] .colab-df-convert:hover {\n",
              "      background-color: #434B5C;\n",
              "      box-shadow: 0px 1px 3px 1px rgba(0, 0, 0, 0.15);\n",
              "      filter: drop-shadow(0px 1px 2px rgba(0, 0, 0, 0.3));\n",
              "      fill: #FFFFFF;\n",
              "    }\n",
              "  </style>\n",
              "\n",
              "    <script>\n",
              "      const buttonEl =\n",
              "        document.querySelector('#df-a090e8c7-3798-4114-bd5e-a31ffc9d6fda button.colab-df-convert');\n",
              "      buttonEl.style.display =\n",
              "        google.colab.kernel.accessAllowed ? 'block' : 'none';\n",
              "\n",
              "      async function convertToInteractive(key) {\n",
              "        const element = document.querySelector('#df-a090e8c7-3798-4114-bd5e-a31ffc9d6fda');\n",
              "        const dataTable =\n",
              "          await google.colab.kernel.invokeFunction('convertToInteractive',\n",
              "                                                    [key], {});\n",
              "        if (!dataTable) return;\n",
              "\n",
              "        const docLinkHtml = 'Like what you see? Visit the ' +\n",
              "          '<a target=\"_blank\" href=https://colab.research.google.com/notebooks/data_table.ipynb>data table notebook</a>'\n",
              "          + ' to learn more about interactive tables.';\n",
              "        element.innerHTML = '';\n",
              "        dataTable['output_type'] = 'display_data';\n",
              "        await google.colab.output.renderOutput(dataTable, element);\n",
              "        const docLink = document.createElement('div');\n",
              "        docLink.innerHTML = docLinkHtml;\n",
              "        element.appendChild(docLink);\n",
              "      }\n",
              "    </script>\n",
              "  </div>\n",
              "\n",
              "\n",
              "<div id=\"df-35d599c1-1f69-451d-815c-b9bad30c9c2a\">\n",
              "  <button class=\"colab-df-quickchart\" onclick=\"quickchart('df-35d599c1-1f69-451d-815c-b9bad30c9c2a')\"\n",
              "            title=\"Suggest charts\"\n",
              "            style=\"display:none;\">\n",
              "\n",
              "<svg xmlns=\"http://www.w3.org/2000/svg\" height=\"24px\"viewBox=\"0 0 24 24\"\n",
              "     width=\"24px\">\n",
              "    <g>\n",
              "        <path d=\"M19 3H5c-1.1 0-2 .9-2 2v14c0 1.1.9 2 2 2h14c1.1 0 2-.9 2-2V5c0-1.1-.9-2-2-2zM9 17H7v-7h2v7zm4 0h-2V7h2v10zm4 0h-2v-4h2v4z\"/>\n",
              "    </g>\n",
              "</svg>\n",
              "  </button>\n",
              "\n",
              "<style>\n",
              "  .colab-df-quickchart {\n",
              "      --bg-color: #E8F0FE;\n",
              "      --fill-color: #1967D2;\n",
              "      --hover-bg-color: #E2EBFA;\n",
              "      --hover-fill-color: #174EA6;\n",
              "      --disabled-fill-color: #AAA;\n",
              "      --disabled-bg-color: #DDD;\n",
              "  }\n",
              "\n",
              "  [theme=dark] .colab-df-quickchart {\n",
              "      --bg-color: #3B4455;\n",
              "      --fill-color: #D2E3FC;\n",
              "      --hover-bg-color: #434B5C;\n",
              "      --hover-fill-color: #FFFFFF;\n",
              "      --disabled-bg-color: #3B4455;\n",
              "      --disabled-fill-color: #666;\n",
              "  }\n",
              "\n",
              "  .colab-df-quickchart {\n",
              "    background-color: var(--bg-color);\n",
              "    border: none;\n",
              "    border-radius: 50%;\n",
              "    cursor: pointer;\n",
              "    display: none;\n",
              "    fill: var(--fill-color);\n",
              "    height: 32px;\n",
              "    padding: 0;\n",
              "    width: 32px;\n",
              "  }\n",
              "\n",
              "  .colab-df-quickchart:hover {\n",
              "    background-color: var(--hover-bg-color);\n",
              "    box-shadow: 0 1px 2px rgba(60, 64, 67, 0.3), 0 1px 3px 1px rgba(60, 64, 67, 0.15);\n",
              "    fill: var(--button-hover-fill-color);\n",
              "  }\n",
              "\n",
              "  .colab-df-quickchart-complete:disabled,\n",
              "  .colab-df-quickchart-complete:disabled:hover {\n",
              "    background-color: var(--disabled-bg-color);\n",
              "    fill: var(--disabled-fill-color);\n",
              "    box-shadow: none;\n",
              "  }\n",
              "\n",
              "  .colab-df-spinner {\n",
              "    border: 2px solid var(--fill-color);\n",
              "    border-color: transparent;\n",
              "    border-bottom-color: var(--fill-color);\n",
              "    animation:\n",
              "      spin 1s steps(1) infinite;\n",
              "  }\n",
              "\n",
              "  @keyframes spin {\n",
              "    0% {\n",
              "      border-color: transparent;\n",
              "      border-bottom-color: var(--fill-color);\n",
              "      border-left-color: var(--fill-color);\n",
              "    }\n",
              "    20% {\n",
              "      border-color: transparent;\n",
              "      border-left-color: var(--fill-color);\n",
              "      border-top-color: var(--fill-color);\n",
              "    }\n",
              "    30% {\n",
              "      border-color: transparent;\n",
              "      border-left-color: var(--fill-color);\n",
              "      border-top-color: var(--fill-color);\n",
              "      border-right-color: var(--fill-color);\n",
              "    }\n",
              "    40% {\n",
              "      border-color: transparent;\n",
              "      border-right-color: var(--fill-color);\n",
              "      border-top-color: var(--fill-color);\n",
              "    }\n",
              "    60% {\n",
              "      border-color: transparent;\n",
              "      border-right-color: var(--fill-color);\n",
              "    }\n",
              "    80% {\n",
              "      border-color: transparent;\n",
              "      border-right-color: var(--fill-color);\n",
              "      border-bottom-color: var(--fill-color);\n",
              "    }\n",
              "    90% {\n",
              "      border-color: transparent;\n",
              "      border-bottom-color: var(--fill-color);\n",
              "    }\n",
              "  }\n",
              "</style>\n",
              "\n",
              "  <script>\n",
              "    async function quickchart(key) {\n",
              "      const quickchartButtonEl =\n",
              "        document.querySelector('#' + key + ' button');\n",
              "      quickchartButtonEl.disabled = true;  // To prevent multiple clicks.\n",
              "      quickchartButtonEl.classList.add('colab-df-spinner');\n",
              "      try {\n",
              "        const charts = await google.colab.kernel.invokeFunction(\n",
              "            'suggestCharts', [key], {});\n",
              "      } catch (error) {\n",
              "        console.error('Error during call to suggestCharts:', error);\n",
              "      }\n",
              "      quickchartButtonEl.classList.remove('colab-df-spinner');\n",
              "      quickchartButtonEl.classList.add('colab-df-quickchart-complete');\n",
              "    }\n",
              "    (() => {\n",
              "      let quickchartButtonEl =\n",
              "        document.querySelector('#df-35d599c1-1f69-451d-815c-b9bad30c9c2a button');\n",
              "      quickchartButtonEl.style.display =\n",
              "        google.colab.kernel.accessAllowed ? 'block' : 'none';\n",
              "    })();\n",
              "  </script>\n",
              "</div>\n",
              "\n",
              "    </div>\n",
              "  </div>\n"
            ]
          },
          "metadata": {},
          "execution_count": 16
        }
      ]
    },
    {
      "cell_type": "code",
      "source": [
        "chem_map = de_train_subset.sm_name.map({\"O-Demethylated Adapalene\":0, \"Penfluridol\":1, \"Dabrafenib\":2,\n",
        "                        \"Linagliptin\":3, \"CHIR-99021\":4})\n",
        "sns.color_palette()"
      ],
      "metadata": {
        "colab": {
          "base_uri": "https://localhost:8080/",
          "height": 77
        },
        "id": "IK_d-pP3CVaF",
        "outputId": "1c446759-fc48-4bf0-af5b-ca2ff48f39da"
      },
      "execution_count": null,
      "outputs": [
        {
          "output_type": "execute_result",
          "data": {
            "text/plain": [
              "[(0.12156862745098039, 0.4666666666666667, 0.7058823529411765),\n",
              " (1.0, 0.4980392156862745, 0.054901960784313725),\n",
              " (0.17254901960784313, 0.6274509803921569, 0.17254901960784313),\n",
              " (0.8392156862745098, 0.15294117647058825, 0.1568627450980392),\n",
              " (0.5803921568627451, 0.403921568627451, 0.7411764705882353),\n",
              " (0.5490196078431373, 0.33725490196078434, 0.29411764705882354),\n",
              " (0.8901960784313725, 0.4666666666666667, 0.7607843137254902),\n",
              " (0.4980392156862745, 0.4980392156862745, 0.4980392156862745),\n",
              " (0.7372549019607844, 0.7411764705882353, 0.13333333333333333),\n",
              " (0.09019607843137255, 0.7450980392156863, 0.8117647058823529)]"
            ],
            "text/html": [
              "<svg  width=\"550\" height=\"55\"><rect x=\"0\" y=\"0\" width=\"55\" height=\"55\" style=\"fill:#1f77b4;stroke-width:2;stroke:rgb(255,255,255)\"/><rect x=\"55\" y=\"0\" width=\"55\" height=\"55\" style=\"fill:#ff7f0e;stroke-width:2;stroke:rgb(255,255,255)\"/><rect x=\"110\" y=\"0\" width=\"55\" height=\"55\" style=\"fill:#2ca02c;stroke-width:2;stroke:rgb(255,255,255)\"/><rect x=\"165\" y=\"0\" width=\"55\" height=\"55\" style=\"fill:#d62728;stroke-width:2;stroke:rgb(255,255,255)\"/><rect x=\"220\" y=\"0\" width=\"55\" height=\"55\" style=\"fill:#9467bd;stroke-width:2;stroke:rgb(255,255,255)\"/><rect x=\"275\" y=\"0\" width=\"55\" height=\"55\" style=\"fill:#8c564b;stroke-width:2;stroke:rgb(255,255,255)\"/><rect x=\"330\" y=\"0\" width=\"55\" height=\"55\" style=\"fill:#e377c2;stroke-width:2;stroke:rgb(255,255,255)\"/><rect x=\"385\" y=\"0\" width=\"55\" height=\"55\" style=\"fill:#7f7f7f;stroke-width:2;stroke:rgb(255,255,255)\"/><rect x=\"440\" y=\"0\" width=\"55\" height=\"55\" style=\"fill:#bcbd22;stroke-width:2;stroke:rgb(255,255,255)\"/><rect x=\"495\" y=\"0\" width=\"55\" height=\"55\" style=\"fill:#17becf;stroke-width:2;stroke:rgb(255,255,255)\"/></svg>"
            ]
          },
          "metadata": {},
          "execution_count": 17
        }
      ]
    },
    {
      "cell_type": "code",
      "source": [
        "reducer = umap.UMAP()\n",
        "de_train_data = de_train_subset.iloc[:,5:].values\n",
        "scaled_de_train_data = StandardScaler().fit_transform(de_train_data)\n",
        "embedding = reducer.fit_transform(scaled_de_train_data)"
      ],
      "metadata": {
        "id": "_HYSF5T9DGRC"
      },
      "execution_count": null,
      "outputs": []
    },
    {
      "cell_type": "code",
      "source": [
        "plt.scatter(\n",
        "    embedding[:, 0],\n",
        "    embedding[:, 1],\n",
        "    c=[sns.color_palette()[x] for x in chem_map])\n",
        "plt.gca().set_aspect('equal', 'datalim')\n",
        "plt.title('Train DE Data UMAP Projection - Perturbagen', fontsize=16);"
      ],
      "metadata": {
        "colab": {
          "base_uri": "https://localhost:8080/",
          "height": 454
        },
        "id": "lkSdgncuDLL6",
        "outputId": "f9c4a405-0f63-4e8d-ea3f-e33a5a5cec18"
      },
      "execution_count": null,
      "outputs": [
        {
          "output_type": "display_data",
          "data": {
            "text/plain": [
              "<Figure size 640x480 with 1 Axes>"
            ],
            "image/png": "[encoded data removed]"
          },
          "metadata": {}
        }
      ]
    },
    {
      "cell_type": "code",
      "source": [
        "from sklearn.cluster import AgglomerativeClustering\n",
        "from sklearn.preprocessing import StandardScaler\n",
        "from sklearn.decomposition import PCA\n",
        "import matplotlib.pyplot as plt\n",
        "import seaborn as sns"
      ],
      "metadata": {
        "id": "VuzeHmICoN0Z"
      },
      "execution_count": null,
      "outputs": []
    },
    {
      "cell_type": "code",
      "source": [
        "de_train_subset = de_train[de_train[\"sm_name\"] == \"Penfluridol\"]\n",
        "ge = de_train_subset.iloc[:,5:].T\n",
        "scaled_ge = StandardScaler().fit_transform(ge)"
      ],
      "metadata": {
        "id": "MJDlYkAsoqob"
      },
      "execution_count": null,
      "outputs": []
    },
    {
      "cell_type": "code",
      "source": [
        "comps = 3\n",
        "pca = PCA(n_components=comps)\n",
        "pca.fit(scaled_ge)\n",
        "transformed_df = pca.fit_transform(scaled_ge)\n",
        "explained_variance = pca.explained_variance_ratio_\n",
        "plt.bar(range(1, comps + 1), explained_variance)\n",
        "plt.xlabel('Principal Component')\n",
        "plt.ylabel('Explained Variance')\n",
        "plt.title('Scree Plot')\n",
        "plt.show()\n",
        "transformed_df.shape"
      ],
      "metadata": {
        "colab": {
          "base_uri": "https://localhost:8080/",
          "height": 490
        },
        "id": "MtDFwVt5oWSU",
        "outputId": "3f806eeb-5fd0-47d1-fe70-a9b597f7b183"
      },
      "execution_count": null,
      "outputs": [
        {
          "output_type": "display_data",
          "data": {
            "text/plain": [
              "<Figure size 640x480 with 1 Axes>"
            ],
            "image/png": "[encoded data removed]"
          },
          "metadata": {}
        },
        {
          "output_type": "execute_result",
          "data": {
            "text/plain": [
              "(18211, 3)"
            ]
          },
          "metadata": {},
          "execution_count": 22
        }
      ]
    },
    {
      "cell_type": "code",
      "source": [
        "cluster = AgglomerativeClustering(n_clusters=2)\n",
        "cluster_labels = cluster.fit_predict(scaled_ge)"
      ],
      "metadata": {
        "id": "qTDsX0FIpNh5"
      },
      "execution_count": null,
      "outputs": []
    },
    {
      "cell_type": "code",
      "source": [
        "group1 = []\n",
        "group2 = []\n",
        "for i in range(len(cluster_labels)):\n",
        "  if cluster_labels[i] == 0:\n",
        "    group1.append(i)\n",
        "  else:\n",
        "    group2.append(i)"
      ],
      "metadata": {
        "id": "sAJhMgtpqmqK"
      },
      "execution_count": null,
      "outputs": []
    },
    {
      "cell_type": "code",
      "source": [
        "group1_ext = [(x, 1) for x in group1]\n",
        "group2_ext = [(x, 2) for x in group2]\n",
        "merged = group1_ext + group2_ext\n",
        "merged_sorted = sorted(merged, key=lambda x: x[0])\n",
        "color_lst = [sns.color_palette()[i] for x, i in merged_sorted]"
      ],
      "metadata": {
        "id": "J7q-QWnpqrCt"
      },
      "execution_count": null,
      "outputs": []
    },
    {
      "cell_type": "code",
      "source": [
        "plt.scatter(transformed_df[:, 0], transformed_df[:, 1], c=color_lst, alpha=0.6)\n",
        "plt.xlabel('Principal Component 1')\n",
        "plt.ylabel('Principal Component 2')\n",
        "plt.title('Genes PCA - Penfluridol')\n",
        "plt.show()"
      ],
      "metadata": {
        "colab": {
          "base_uri": "https://localhost:8080/",
          "height": 472
        },
        "id": "HonpxAdpo3wQ",
        "outputId": "37ec4013-0aff-410d-e3c7-c5eba79eecc1"
      },
      "execution_count": null,
      "outputs": [
        {
          "output_type": "display_data",
          "data": {
            "text/plain": [
              "<Figure size 640x480 with 1 Axes>"
            ],
            "image/png": "[encoded data removed]"
          },
          "metadata": {}
        }
      ]
    },
    {
      "cell_type": "code",
      "source": [
        "from sklearn.preprocessing import OneHotEncoder"
      ],
      "metadata": {
        "id": "ENEe6-G-qsqh"
      },
      "execution_count": null,
      "outputs": []
    },
    {
      "cell_type": "code",
      "source": [
        "de_train = pd.read_parquet(f\"./train/de_train.parquet\")\n",
        "scaled_de_train = pd.DataFrame(StandardScaler().fit_transform(de_train.iloc[:,5:]))"
      ],
      "metadata": {
        "id": "W8OO4efUKEUK"
      },
      "execution_count": null,
      "outputs": []
    },
    {
      "cell_type": "code",
      "source": [
        "ct_df = de_train.iloc[:,0:1]\n",
        "ohe = OneHotEncoder(handle_unknown='ignore', sparse_output=False).fit(ct_df)\n",
        "ct_ohe = ohe.transform(ct_df)\n",
        "ct_ohe = ct_ohe.tolist()\n",
        "scaled_de_train['cell_type_onehot'] = ct_ohe\n",
        "de_train['cell_type_onehot'] = ct_ohe\n",
        "de_train.head()"
      ],
      "metadata": {
        "colab": {
          "base_uri": "https://localhost:8080/",
          "height": 359
        },
        "id": "5pHpcIpIqtJX",
        "outputId": "21f7110b-3f28-4d1c-94cf-29dd2fd627cc"
      },
      "execution_count": null,
      "outputs": [
        {
          "output_type": "execute_result",
          "data": {
            "text/plain": [
              "            cell_type             sm_name sm_lincs_id  \\\n",
              "0            NK cells        Clotrimazole    LSM-5341   \n",
              "1        T cells CD4+        Clotrimazole    LSM-5341   \n",
              "2        T cells CD8+        Clotrimazole    LSM-5341   \n",
              "3  T regulatory cells        Clotrimazole    LSM-5341   \n",
              "4            NK cells  Mometasone Furoate    LSM-3349   \n",
              "\n",
              "                                              SMILES  control      A1BG  \\\n",
              "0             Clc1ccccc1C(c1ccccc1)(c1ccccc1)n1ccnc1    False  0.104720   \n",
              "1             Clc1ccccc1C(c1ccccc1)(c1ccccc1)n1ccnc1    False  0.915953   \n",
              "2             Clc1ccccc1C(c1ccccc1)(c1ccccc1)n1ccnc1    False -0.387721   \n",
              "3             Clc1ccccc1C(c1ccccc1)(c1ccccc1)n1ccnc1    False  0.232893   \n",
              "4  C[C@@H]1C[C@H]2[C@@H]3CCC4=CC(=O)C=C[C@]4(C)[C...    False  4.290652   \n",
              "\n",
              "   A1BG-AS1       A2M   A2M-AS1     A2MP1  ...      ZW10    ZWILCH     ZWINT  \\\n",
              "0 -0.077524 -1.625596 -0.144545  0.143555  ... -0.010752 -0.023881  0.674536   \n",
              "1 -0.884380  0.371834 -0.081677 -0.498266  ... -0.303419  0.304955 -0.333905   \n",
              "2 -0.305378  0.567777  0.303895 -0.022653  ... -0.033608 -0.153123  0.183597   \n",
              "3  0.129029  0.336897  0.486946  0.767661  ...  0.704643  0.015468 -0.103868   \n",
              "4 -0.063864 -0.017443 -0.541154  0.570982  ...  0.510762  0.607401 -0.123059   \n",
              "\n",
              "       ZXDA      ZXDB      ZXDC    ZYG11B       ZYX     ZZEF1  \\\n",
              "0 -0.453068  0.005164 -0.094959  0.034127  0.221377  0.368755   \n",
              "1 -0.315516 -0.369626 -0.095079  0.704780  1.096702 -0.869887   \n",
              "2 -0.555678 -1.494789 -0.213550  0.415768  0.078439 -0.259365   \n",
              "3  0.865027  0.189114  0.224700 -0.048233  0.216139 -0.085024   \n",
              "4  0.214366  0.487838 -0.819775  0.112365 -0.122193  0.676629   \n",
              "\n",
              "                 cell_type_onehot  \n",
              "0  [0.0, 0.0, 1.0, 0.0, 0.0, 0.0]  \n",
              "1  [0.0, 0.0, 0.0, 1.0, 0.0, 0.0]  \n",
              "2  [0.0, 0.0, 0.0, 0.0, 1.0, 0.0]  \n",
              "3  [0.0, 0.0, 0.0, 0.0, 0.0, 1.0]  \n",
              "4  [0.0, 0.0, 1.0, 0.0, 0.0, 0.0]  \n",
              "\n",
              "[5 rows x 18217 columns]"
            ],
            "text/html": [
              "\n",
              "  <div id=\"df-a56bf71c-ba0c-4068-bb97-b5faea7b3771\" class=\"colab-df-container\">\n",
              "    <div>\n",
              "<style scoped>\n",
              "    .dataframe tbody tr th:only-of-type {\n",
              "        vertical-align: middle;\n",
              "    }\n",
              "\n",
              "    .dataframe tbody tr th {\n",
              "        vertical-align: top;\n",
              "    }\n",
              "\n",
              "    .dataframe thead th {\n",
              "        text-align: right;\n",
              "    }\n",
              "</style>\n",
              "<table border=\"1\" class=\"dataframe\">\n",
              "  <thead>\n",
              "    <tr style=\"text-align: right;\">\n",
              "      <th></th>\n",
              "      <th>cell_type</th>\n",
              "      <th>sm_name</th>\n",
              "      <th>sm_lincs_id</th>\n",
              "      <th>SMILES</th>\n",
              "      <th>control</th>\n",
              "      <th>A1BG</th>\n",
              "      <th>A1BG-AS1</th>\n",
              "      <th>A2M</th>\n",
              "      <th>A2M-AS1</th>\n",
              "      <th>A2MP1</th>\n",
              "      <th>...</th>\n",
              "      <th>ZW10</th>\n",
              "      <th>ZWILCH</th>\n",
              "      <th>ZWINT</th>\n",
              "      <th>ZXDA</th>\n",
              "      <th>ZXDB</th>\n",
              "      <th>ZXDC</th>\n",
              "      <th>ZYG11B</th>\n",
              "      <th>ZYX</th>\n",
              "      <th>ZZEF1</th>\n",
              "      <th>cell_type_onehot</th>\n",
              "    </tr>\n",
              "  </thead>\n",
              "  <tbody>\n",
              "    <tr>\n",
              "      <th>0</th>\n",
              "      <td>NK cells</td>\n",
              "      <td>Clotrimazole</td>\n",
              "      <td>LSM-5341</td>\n",
              "      <td>Clc1ccccc1C(c1ccccc1)(c1ccccc1)n1ccnc1</td>\n",
              "      <td>False</td>\n",
              "      <td>0.104720</td>\n",
              "      <td>-0.077524</td>\n",
              "      <td>-1.625596</td>\n",
              "      <td>-0.144545</td>\n",
              "      <td>0.143555</td>\n",
              "      <td>...</td>\n",
              "      <td>-0.010752</td>\n",
              "      <td>-0.023881</td>\n",
              "      <td>0.674536</td>\n",
              "      <td>-0.453068</td>\n",
              "      <td>0.005164</td>\n",
              "      <td>-0.094959</td>\n",
              "      <td>0.034127</td>\n",
              "      <td>0.221377</td>\n",
              "      <td>0.368755</td>\n",
              "      <td>[0.0, 0.0, 1.0, 0.0, 0.0, 0.0]</td>\n",
              "    </tr>\n",
              "    <tr>\n",
              "      <th>1</th>\n",
              "      <td>T cells CD4+</td>\n",
              "      <td>Clotrimazole</td>\n",
              "      <td>LSM-5341</td>\n",
              "      <td>Clc1ccccc1C(c1ccccc1)(c1ccccc1)n1ccnc1</td>\n",
              "      <td>False</td>\n",
              "      <td>0.915953</td>\n",
              "      <td>-0.884380</td>\n",
              "      <td>0.371834</td>\n",
              "      <td>-0.081677</td>\n",
              "      <td>-0.498266</td>\n",
              "      <td>...</td>\n",
              "      <td>-0.303419</td>\n",
              "      <td>0.304955</td>\n",
              "      <td>-0.333905</td>\n",
              "      <td>-0.315516</td>\n",
              "      <td>-0.369626</td>\n",
              "      <td>-0.095079</td>\n",
              "      <td>0.704780</td>\n",
              "      <td>1.096702</td>\n",
              "      <td>-0.869887</td>\n",
              "      <td>[0.0, 0.0, 0.0, 1.0, 0.0, 0.0]</td>\n",
              "    </tr>\n",
              "    <tr>\n",
              "      <th>2</th>\n",
              "      <td>T cells CD8+</td>\n",
              "      <td>Clotrimazole</td>\n",
              "      <td>LSM-5341</td>\n",
              "      <td>Clc1ccccc1C(c1ccccc1)(c1ccccc1)n1ccnc1</td>\n",
              "      <td>False</td>\n",
              "      <td>-0.387721</td>\n",
              "      <td>-0.305378</td>\n",
              "      <td>0.567777</td>\n",
              "      <td>0.303895</td>\n",
              "      <td>-0.022653</td>\n",
              "      <td>...</td>\n",
              "      <td>-0.033608</td>\n",
              "      <td>-0.153123</td>\n",
              "      <td>0.183597</td>\n",
              "      <td>-0.555678</td>\n",
              "      <td>-1.494789</td>\n",
              "      <td>-0.213550</td>\n",
              "      <td>0.415768</td>\n",
              "      <td>0.078439</td>\n",
              "      <td>-0.259365</td>\n",
              "      <td>[0.0, 0.0, 0.0, 0.0, 1.0, 0.0]</td>\n",
              "    </tr>\n",
              "    <tr>\n",
              "      <th>3</th>\n",
              "      <td>T regulatory cells</td>\n",
              "      <td>Clotrimazole</td>\n",
              "      <td>LSM-5341</td>\n",
              "      <td>Clc1ccccc1C(c1ccccc1)(c1ccccc1)n1ccnc1</td>\n",
              "      <td>False</td>\n",
              "      <td>0.232893</td>\n",
              "      <td>0.129029</td>\n",
              "      <td>0.336897</td>\n",
              "      <td>0.486946</td>\n",
              "      <td>0.767661</td>\n",
              "      <td>...</td>\n",
              "      <td>0.704643</td>\n",
              "      <td>0.015468</td>\n",
              "      <td>-0.103868</td>\n",
              "      <td>0.865027</td>\n",
              "      <td>0.189114</td>\n",
              "      <td>0.224700</td>\n",
              "      <td>-0.048233</td>\n",
              "      <td>0.216139</td>\n",
              "      <td>-0.085024</td>\n",
              "      <td>[0.0, 0.0, 0.0, 0.0, 0.0, 1.0]</td>\n",
              "    </tr>\n",
              "    <tr>\n",
              "      <th>4</th>\n",
              "      <td>NK cells</td>\n",
              "      <td>Mometasone Furoate</td>\n",
              "      <td>LSM-3349</td>\n",
              "      <td>C[C@@H]1C[C@H]2[C@@H]3CCC4=CC(=O)C=C[C@]4(C)[C...</td>\n",
              "      <td>False</td>\n",
              "      <td>4.290652</td>\n",
              "      <td>-0.063864</td>\n",
              "      <td>-0.017443</td>\n",
              "      <td>-0.541154</td>\n",
              "      <td>0.570982</td>\n",
              "      <td>...</td>\n",
              "      <td>0.510762</td>\n",
              "      <td>0.607401</td>\n",
              "      <td>-0.123059</td>\n",
              "      <td>0.214366</td>\n",
              "      <td>0.487838</td>\n",
              "      <td>-0.819775</td>\n",
              "      <td>0.112365</td>\n",
              "      <td>-0.122193</td>\n",
              "      <td>0.676629</td>\n",
              "      <td>[0.0, 0.0, 1.0, 0.0, 0.0, 0.0]</td>\n",
              "    </tr>\n",
              "  </tbody>\n",
              "</table>\n",
              "<p>5 rows × 18217 columns</p>\n",
              "</div>\n",
              "    <div class=\"colab-df-buttons\">\n",
              "\n",
              "  <div class=\"colab-df-container\">\n",
              "    <button class=\"colab-df-convert\" onclick=\"convertToInteractive('df-a56bf71c-ba0c-4068-bb97-b5faea7b3771')\"\n",
              "            title=\"Convert this dataframe to an interactive table.\"\n",
              "            style=\"display:none;\">\n",
              "\n",
              "  <svg xmlns=\"http://www.w3.org/2000/svg\" height=\"24px\" viewBox=\"0 -960 960 960\">\n",
              "    <path d=\"M120-120v-720h720v720H120Zm60-500h600v-160H180v160Zm220 220h160v-160H400v160Zm0 220h160v-160H400v160ZM180-400h160v-160H180v160Zm440 0h160v-160H620v160ZM180-180h160v-160H180v160Zm440 0h160v-160H620v160Z\"/>\n",
              "  </svg>\n",
              "    </button>\n",
              "\n",
              "  <style>\n",
              "    .colab-df-container {\n",
              "      display:flex;\n",
              "      gap: 12px;\n",
              "    }\n",
              "\n",
              "    .colab-df-convert {\n",
              "      background-color: #E8F0FE;\n",
              "      border: none;\n",
              "      border-radius: 50%;\n",
              "      cursor: pointer;\n",
              "      display: none;\n",
              "      fill: #1967D2;\n",
              "      height: 32px;\n",
              "      padding: 0 0 0 0;\n",
              "      width: 32px;\n",
              "    }\n",
              "\n",
              "    .colab-df-convert:hover {\n",
              "      background-color: #E2EBFA;\n",
              "      box-shadow: 0px 1px 2px rgba(60, 64, 67, 0.3), 0px 1px 3px 1px rgba(60, 64, 67, 0.15);\n",
              "      fill: #174EA6;\n",
              "    }\n",
              "\n",
              "    .colab-df-buttons div {\n",
              "      margin-bottom: 4px;\n",
              "    }\n",
              "\n",
              "    [theme=dark] .colab-df-convert {\n",
              "      background-color: #3B4455;\n",
              "      fill: #D2E3FC;\n",
              "    }\n",
              "\n",
              "    [theme=dark] .colab-df-convert:hover {\n",
              "      background-color: #434B5C;\n",
              "      box-shadow: 0px 1px 3px 1px rgba(0, 0, 0, 0.15);\n",
              "      filter: drop-shadow(0px 1px 2px rgba(0, 0, 0, 0.3));\n",
              "      fill: #FFFFFF;\n",
              "    }\n",
              "  </style>\n",
              "\n",
              "    <script>\n",
              "      const buttonEl =\n",
              "        document.querySelector('#df-a56bf71c-ba0c-4068-bb97-b5faea7b3771 button.colab-df-convert');\n",
              "      buttonEl.style.display =\n",
              "        google.colab.kernel.accessAllowed ? 'block' : 'none';\n",
              "\n",
              "      async function convertToInteractive(key) {\n",
              "        const element = document.querySelector('#df-a56bf71c-ba0c-4068-bb97-b5faea7b3771');\n",
              "        const dataTable =\n",
              "          await google.colab.kernel.invokeFunction('convertToInteractive',\n",
              "                                                    [key], {});\n",
              "        if (!dataTable) return;\n",
              "\n",
              "        const docLinkHtml = 'Like what you see? Visit the ' +\n",
              "          '<a target=\"_blank\" href=https://colab.research.google.com/notebooks/data_table.ipynb>data table notebook</a>'\n",
              "          + ' to learn more about interactive tables.';\n",
              "        element.innerHTML = '';\n",
              "        dataTable['output_type'] = 'display_data';\n",
              "        await google.colab.output.renderOutput(dataTable, element);\n",
              "        const docLink = document.createElement('div');\n",
              "        docLink.innerHTML = docLinkHtml;\n",
              "        element.appendChild(docLink);\n",
              "      }\n",
              "    </script>\n",
              "  </div>\n",
              "\n",
              "\n",
              "<div id=\"df-9f419bdd-fb8a-45d1-97c3-08795a454c7e\">\n",
              "  <button class=\"colab-df-quickchart\" onclick=\"quickchart('df-9f419bdd-fb8a-45d1-97c3-08795a454c7e')\"\n",
              "            title=\"Suggest charts\"\n",
              "            style=\"display:none;\">\n",
              "\n",
              "<svg xmlns=\"http://www.w3.org/2000/svg\" height=\"24px\"viewBox=\"0 0 24 24\"\n",
              "     width=\"24px\">\n",
              "    <g>\n",
              "        <path d=\"M19 3H5c-1.1 0-2 .9-2 2v14c0 1.1.9 2 2 2h14c1.1 0 2-.9 2-2V5c0-1.1-.9-2-2-2zM9 17H7v-7h2v7zm4 0h-2V7h2v10zm4 0h-2v-4h2v4z\"/>\n",
              "    </g>\n",
              "</svg>\n",
              "  </button>\n",
              "\n",
              "<style>\n",
              "  .colab-df-quickchart {\n",
              "      --bg-color: #E8F0FE;\n",
              "      --fill-color: #1967D2;\n",
              "      --hover-bg-color: #E2EBFA;\n",
              "      --hover-fill-color: #174EA6;\n",
              "      --disabled-fill-color: #AAA;\n",
              "      --disabled-bg-color: #DDD;\n",
              "  }\n",
              "\n",
              "  [theme=dark] .colab-df-quickchart {\n",
              "      --bg-color: #3B4455;\n",
              "      --fill-color: #D2E3FC;\n",
              "      --hover-bg-color: #434B5C;\n",
              "      --hover-fill-color: #FFFFFF;\n",
              "      --disabled-bg-color: #3B4455;\n",
              "      --disabled-fill-color: #666;\n",
              "  }\n",
              "\n",
              "  .colab-df-quickchart {\n",
              "    background-color: var(--bg-color);\n",
              "    border: none;\n",
              "    border-radius: 50%;\n",
              "    cursor: pointer;\n",
              "    display: none;\n",
              "    fill: var(--fill-color);\n",
              "    height: 32px;\n",
              "    padding: 0;\n",
              "    width: 32px;\n",
              "  }\n",
              "\n",
              "  .colab-df-quickchart:hover {\n",
              "    background-color: var(--hover-bg-color);\n",
              "    box-shadow: 0 1px 2px rgba(60, 64, 67, 0.3), 0 1px 3px 1px rgba(60, 64, 67, 0.15);\n",
              "    fill: var(--button-hover-fill-color);\n",
              "  }\n",
              "\n",
              "  .colab-df-quickchart-complete:disabled,\n",
              "  .colab-df-quickchart-complete:disabled:hover {\n",
              "    background-color: var(--disabled-bg-color);\n",
              "    fill: var(--disabled-fill-color);\n",
              "    box-shadow: none;\n",
              "  }\n",
              "\n",
              "  .colab-df-spinner {\n",
              "    border: 2px solid var(--fill-color);\n",
              "    border-color: transparent;\n",
              "    border-bottom-color: var(--fill-color);\n",
              "    animation:\n",
              "      spin 1s steps(1) infinite;\n",
              "  }\n",
              "\n",
              "  @keyframes spin {\n",
              "    0% {\n",
              "      border-color: transparent;\n",
              "      border-bottom-color: var(--fill-color);\n",
              "      border-left-color: var(--fill-color);\n",
              "    }\n",
              "    20% {\n",
              "      border-color: transparent;\n",
              "      border-left-color: var(--fill-color);\n",
              "      border-top-color: var(--fill-color);\n",
              "    }\n",
              "    30% {\n",
              "      border-color: transparent;\n",
              "      border-left-color: var(--fill-color);\n",
              "      border-top-color: var(--fill-color);\n",
              "      border-right-color: var(--fill-color);\n",
              "    }\n",
              "    40% {\n",
              "      border-color: transparent;\n",
              "      border-right-color: var(--fill-color);\n",
              "      border-top-color: var(--fill-color);\n",
              "    }\n",
              "    60% {\n",
              "      border-color: transparent;\n",
              "      border-right-color: var(--fill-color);\n",
              "    }\n",
              "    80% {\n",
              "      border-color: transparent;\n",
              "      border-right-color: var(--fill-color);\n",
              "      border-bottom-color: var(--fill-color);\n",
              "    }\n",
              "    90% {\n",
              "      border-color: transparent;\n",
              "      border-bottom-color: var(--fill-color);\n",
              "    }\n",
              "  }\n",
              "</style>\n",
              "\n",
              "  <script>\n",
              "    async function quickchart(key) {\n",
              "      const quickchartButtonEl =\n",
              "        document.querySelector('#' + key + ' button');\n",
              "      quickchartButtonEl.disabled = true;  // To prevent multiple clicks.\n",
              "      quickchartButtonEl.classList.add('colab-df-spinner');\n",
              "      try {\n",
              "        const charts = await google.colab.kernel.invokeFunction(\n",
              "            'suggestCharts', [key], {});\n",
              "      } catch (error) {\n",
              "        console.error('Error during call to suggestCharts:', error);\n",
              "      }\n",
              "      quickchartButtonEl.classList.remove('colab-df-spinner');\n",
              "      quickchartButtonEl.classList.add('colab-df-quickchart-complete');\n",
              "    }\n",
              "    (() => {\n",
              "      let quickchartButtonEl =\n",
              "        document.querySelector('#df-9f419bdd-fb8a-45d1-97c3-08795a454c7e button');\n",
              "      quickchartButtonEl.style.display =\n",
              "        google.colab.kernel.accessAllowed ? 'block' : 'none';\n",
              "    })();\n",
              "  </script>\n",
              "</div>\n",
              "\n",
              "    </div>\n",
              "  </div>\n"
            ]
          },
          "metadata": {},
          "execution_count": 60
        }
      ]
    },
    {
      "cell_type": "code",
      "source": [
        "!pip install rdkit"
      ],
      "metadata": {
        "colab": {
          "base_uri": "https://localhost:8080/"
        },
        "id": "qjlR2j0Pqyh5",
        "outputId": "bc048e9d-dd5d-46b5-9726-63e2869b88a7"
      },
      "execution_count": null,
      "outputs": [
        {
          "output_type": "stream",
          "name": "stdout",
          "text": [
            "Collecting rdkit\n",
            "  Downloading rdkit-2023.9.2-cp310-cp310-manylinux_2_17_x86_64.manylinux2014_x86_64.whl (30.5 MB)\n",
            "\u001b[2K     \u001b[90m━━━━━━━━━━━━━━━━━━━━━━━━━━━━━━━━━━━━━━━━\u001b[0m \u001b[32m30.5/30.5 MB\u001b[0m \u001b[31m60.0 MB/s\u001b[0m eta \u001b[36m0:00:00\u001b[0m\n",
            "\u001b[?25hRequirement already satisfied: numpy in /usr/local/lib/python3.10/dist-packages (from rdkit) (1.23.5)\n",
            "Requirement already satisfied: Pillow in /usr/local/lib/python3.10/dist-packages (from rdkit) (9.4.0)\n",
            "Installing collected packages: rdkit\n",
            "Successfully installed rdkit-2023.9.2\n"
          ]
        }
      ]
    },
    {
      "cell_type": "code",
      "source": [
        "from rdkit import Chem\n",
        "from rdkit.Chem import RDKFingerprint"
      ],
      "metadata": {
        "id": "xN2K55wRq-u3"
      },
      "execution_count": null,
      "outputs": []
    },
    {
      "cell_type": "code",
      "source": [
        "sm_df = de_train[\"SMILES\"]\n",
        "print(len(sm_df))\n",
        "sm_df = sm_df.dropna()\n",
        "print(len(sm_df))"
      ],
      "metadata": {
        "colab": {
          "base_uri": "https://localhost:8080/"
        },
        "id": "Wk4cMuwjq_OU",
        "outputId": "2d88ea27-f9c3-4990-fd83-041260f5f478"
      },
      "execution_count": null,
      "outputs": [
        {
          "output_type": "stream",
          "name": "stdout",
          "text": [
            "614\n",
            "614\n"
          ]
        }
      ]
    },
    {
      "cell_type": "code",
      "source": [
        "cs_arr = []\n",
        "for sm in sm_df:\n",
        "  try:\n",
        "    cs = Chem.CanonSmiles(sm)\n",
        "    cs_arr.append(cs)\n",
        "  except:\n",
        "    print('Invalid SMILES: ', sm)\n",
        "print(len(cs_arr))"
      ],
      "metadata": {
        "colab": {
          "base_uri": "https://localhost:8080/"
        },
        "id": "5CkoRYw8rAgK",
        "outputId": "4a50be51-0713-4a45-b2b7-337e5012f556"
      },
      "execution_count": null,
      "outputs": [
        {
          "output_type": "stream",
          "name": "stdout",
          "text": [
            "614\n"
          ]
        }
      ]
    },
    {
      "cell_type": "code",
      "source": [
        "mols = [Chem.MolFromSmiles(x) for x in cs_arr]\n",
        "fps = [np.array(RDKFingerprint(mol)) for mol in mols]\n",
        "de_train['fingerprint'] = fps\n",
        "de_train.head()\n",
        "scaled_de_train['fingerprint'] = fps\n",
        "scaled_de_train.head()"
      ],
      "metadata": {
        "colab": {
          "base_uri": "https://localhost:8080/",
          "height": 252
        },
        "id": "LT4V1nberB_5",
        "outputId": "cc06945f-454d-452a-daf7-835773645021"
      },
      "execution_count": null,
      "outputs": [
        {
          "output_type": "error",
          "ename": "NameError",
          "evalue": "ignored",
          "traceback": [
            "\u001b[0;31m---------------------------------------------------------------------------\u001b[0m",
            "\u001b[0;31mNameError\u001b[0m                                 Traceback (most recent call last)",
            "\u001b[0;32m<ipython-input-1-b8a24b415f41>\u001b[0m in \u001b[0;36m<cell line: 1>\u001b[0;34m()\u001b[0m\n\u001b[0;32m----> 1\u001b[0;31m \u001b[0mmols\u001b[0m \u001b[0;34m=\u001b[0m \u001b[0;34m[\u001b[0m\u001b[0mChem\u001b[0m\u001b[0;34m.\u001b[0m\u001b[0mMolFromSmiles\u001b[0m\u001b[0;34m(\u001b[0m\u001b[0mx\u001b[0m\u001b[0;34m)\u001b[0m \u001b[0;32mfor\u001b[0m \u001b[0mx\u001b[0m \u001b[0;32min\u001b[0m \u001b[0mcs_arr\u001b[0m\u001b[0;34m]\u001b[0m\u001b[0;34m\u001b[0m\u001b[0;34m\u001b[0m\u001b[0m\n\u001b[0m\u001b[1;32m      2\u001b[0m \u001b[0mfps\u001b[0m \u001b[0;34m=\u001b[0m \u001b[0;34m[\u001b[0m\u001b[0mnp\u001b[0m\u001b[0;34m.\u001b[0m\u001b[0marray\u001b[0m\u001b[0;34m(\u001b[0m\u001b[0mRDKFingerprint\u001b[0m\u001b[0;34m(\u001b[0m\u001b[0mmol\u001b[0m\u001b[0;34m)\u001b[0m\u001b[0;34m)\u001b[0m \u001b[0;32mfor\u001b[0m \u001b[0mmol\u001b[0m \u001b[0;32min\u001b[0m \u001b[0mmols\u001b[0m\u001b[0;34m]\u001b[0m\u001b[0;34m\u001b[0m\u001b[0;34m\u001b[0m\u001b[0m\n\u001b[1;32m      3\u001b[0m \u001b[0mde_train\u001b[0m\u001b[0;34m[\u001b[0m\u001b[0;34m'fingerprint'\u001b[0m\u001b[0;34m]\u001b[0m \u001b[0;34m=\u001b[0m \u001b[0mfps\u001b[0m\u001b[0;34m\u001b[0m\u001b[0;34m\u001b[0m\u001b[0m\n\u001b[1;32m      4\u001b[0m \u001b[0mde_train\u001b[0m\u001b[0;34m.\u001b[0m\u001b[0mhead\u001b[0m\u001b[0;34m(\u001b[0m\u001b[0;34m)\u001b[0m\u001b[0;34m\u001b[0m\u001b[0;34m\u001b[0m\u001b[0m\n\u001b[1;32m      5\u001b[0m \u001b[0mscaled_de_train\u001b[0m\u001b[0;34m[\u001b[0m\u001b[0;34m'fingerprint'\u001b[0m\u001b[0;34m]\u001b[0m \u001b[0;34m=\u001b[0m \u001b[0mfps\u001b[0m\u001b[0;34m\u001b[0m\u001b[0;34m\u001b[0m\u001b[0m\n",
            "\u001b[0;31mNameError\u001b[0m: name 'cs_arr' is not defined"
          ]
        }
      ]
    },
    {
      "cell_type": "code",
      "source": [
        "# imports\n",
        "import torch\n",
        "from torch.utils.data import DataLoader\n",
        "from torch.utils.data import Dataset\n",
        "import torch.nn as nn\n",
        "import time\n",
        "import torch.nn.functional as F"
      ],
      "metadata": {
        "id": "0ycplLAUrgWi"
      },
      "execution_count": null,
      "outputs": []
    },
    {
      "cell_type": "code",
      "source": [
        "class CustomDataset(Dataset):\n",
        "    def __init__(self, df):\n",
        "        self.dataframe = df\n",
        "        self.ge = df.iloc[:,:-2]\n",
        "        self.ct_sm = df.iloc[:,-2:]\n",
        "\n",
        "    def __len__(self):\n",
        "        return len(self.dataframe)\n",
        "\n",
        "    def __getitem__(self, index):\n",
        "        t1 = torch.tensor(self.ct_sm.iloc[0,0])\n",
        "        t2 = torch.tensor(self.ct_sm.iloc[0,1])\n",
        "        t = torch.cat((t1, t2), dim=0)\n",
        "        # print(torch.Tensor(self.ge.iloc[index]))\n",
        "        return t, torch.Tensor(self.ge.iloc[index])"
      ],
      "metadata": {
        "id": "w9QwSPPAriK6"
      },
      "execution_count": null,
      "outputs": []
    },
    {
      "cell_type": "code",
      "source": [
        "de_train_comm = de_train[(de_train[\"cell_type\"] != \"B cells\") & (de_train[\"cell_type\"] != \"Myeloid cells\")]\n",
        "de_train_comm_t = CustomDataset(de_train_comm.iloc[:,5:])\n",
        "# de_train_comm_t = CustomDataset(de_train_comm.iloc[:,5:])\n",
        "train_size = int(0.999 * len(de_train_comm_t))\n",
        "val_size = int(len(de_train_comm_t) - train_size)\n",
        "comm_train_ds, comm_val_ds = torch.utils.data.random_split(de_train_comm_t,\n",
        " [train_size, val_size])\n",
        "print((train_size, val_size))"
      ],
      "metadata": {
        "id": "uVIobA5YEbK3",
        "colab": {
          "base_uri": "https://localhost:8080/"
        },
        "outputId": "1864734b-ef6d-489d-94f5-7456a53370bd"
      },
      "execution_count": null,
      "outputs": [
        {
          "output_type": "stream",
          "name": "stdout",
          "text": [
            "(579, 1)\n"
          ]
        }
      ]
    },
    {
      "cell_type": "code",
      "source": [
        "de_train_novel = de_train[(de_train[\"cell_type\"] == \"B cells\") | (de_train[\"cell_type\"] == \"Myeloid cells\")]\n",
        "duplicate_df = de_train_novel.copy()\n",
        "concatenated_df = pd.concat([de_train_novel, duplicate_df], ignore_index=True)\n",
        "de_train_novel_t = CustomDataset(concatenated_df.iloc[:,5:])\n",
        "train_size = int(0.9 * len(de_train_novel_t))\n",
        "val_size = int(len(de_train_novel_t) - train_size)\n",
        "novel_train_ds, novel_val_ds = torch.utils.data.random_split(de_train_novel_t,\n",
        " [train_size, val_size])\n",
        "print((train_size, val_size))"
      ],
      "metadata": {
        "id": "0uQZVp6WEWHP",
        "colab": {
          "base_uri": "https://localhost:8080/"
        },
        "outputId": "bcf2af6b-5f90-4908-e214-ab95b88a094c"
      },
      "execution_count": null,
      "outputs": [
        {
          "output_type": "stream",
          "name": "stdout",
          "text": [
            "(61, 7)\n"
          ]
        }
      ]
    },
    {
      "cell_type": "code",
      "source": [
        "train_ds = torch.utils.data.ConcatDataset([comm_train_ds, novel_train_ds])\n",
        "val_ds = torch.utils.data.ConcatDataset([comm_val_ds, novel_val_ds])"
      ],
      "metadata": {
        "id": "yrDSRdNUEhxL"
      },
      "execution_count": null,
      "outputs": []
    },
    {
      "cell_type": "code",
      "source": [
        "#de_train_torch = CustomDataset(de_train.iloc[:,5:])\n",
        "de_train_torch = CustomDataset(scaled_de_train)\n",
        "train_size = int(0.99 * len(de_train_torch))\n",
        "val_size = int(len(de_train_torch) - train_size)\n",
        "test_size = len(de_train_torch) - val_size - train_size\n",
        "train_ds, val_ds = torch.utils.data.random_split(de_train_torch,\n",
        " [train_size, val_size])\n",
        "print((train_size, val_size))"
      ],
      "metadata": {
        "colab": {
          "base_uri": "https://localhost:8080/"
        },
        "id": "wpRKI8x_rlxo",
        "outputId": "08667aa1-d061-4b6c-948a-ec03dcc82540"
      },
      "execution_count": null,
      "outputs": [
        {
          "output_type": "stream",
          "name": "stdout",
          "text": [
            "(607, 7)\n"
          ]
        }
      ]
    },
    {
      "cell_type": "code",
      "source": [
        "loss_fn = nn.MSELoss()\n",
        "epochs = 20\n",
        "learning_rate = 0.0001\n",
        "bsize = 612\n",
        "decay = 0.001"
      ],
      "metadata": {
        "id": "agreb3fGsCN_"
      },
      "execution_count": null,
      "outputs": []
    },
    {
      "cell_type": "code",
      "source": [
        "train_loader = DataLoader(\n",
        "    train_ds,\n",
        "    batch_size=bsize,\n",
        "    shuffle = True\n",
        ")\n",
        "val_loader = DataLoader(\n",
        "    val_ds,\n",
        "    batch_size=bsize,\n",
        "    shuffle = True\n",
        ")"
      ],
      "metadata": {
        "id": "gFwc5NKEsEWR"
      },
      "execution_count": null,
      "outputs": []
    },
    {
      "cell_type": "code",
      "source": [
        "for x, y in train_loader:\n",
        "  print(x.shape)\n",
        "  print(y.shape)\n",
        "  break"
      ],
      "metadata": {
        "colab": {
          "base_uri": "https://localhost:8080/"
        },
        "id": "26zkQ1FRtWiE",
        "outputId": "b3f55ff1-27bb-470e-aa5d-f1308d45c162"
      },
      "execution_count": null,
      "outputs": [
        {
          "output_type": "stream",
          "name": "stdout",
          "text": [
            "torch.Size([612, 2054])\n",
            "torch.Size([612, 18211])\n"
          ]
        }
      ]
    },
    {
      "cell_type": "code",
      "source": [
        "from tqdm import tqdm"
      ],
      "metadata": {
        "id": "g3xhoQhRtYCL"
      },
      "execution_count": null,
      "outputs": []
    },
    {
      "cell_type": "code",
      "source": [
        "# mlp\n",
        "class Net(nn.Module):\n",
        "  def __init__(self, input_size, output_size):\n",
        "    super(Net, self).__init__()\n",
        "    self.dense1 = nn.Linear(input_size, 2 * input_size)\n",
        "    self.do1 = nn.Dropout(0.5)\n",
        "    self.dense2 = nn.Linear(2 * input_size, 4 * input_size)\n",
        "    self.do2 = nn.Dropout(0.5)\n",
        "    self.dense3 = nn.Linear(4 * input_size, 8 * input_size)\n",
        "    self.do3 = nn.Dropout(0.5)\n",
        "    self.dense4 = nn.Linear(8 * input_size, output_size)\n",
        "\n",
        "  def forward(self, input_data):\n",
        "    out = F.leaky_relu(self.dense1(input_data))\n",
        "    out = self.do1(out)\n",
        "    out = F.leaky_relu(self.dense2(out))\n",
        "    out = self.do2(out)\n",
        "    out = F.leaky_relu(self.dense3(out))\n",
        "    out = self.do3(out)\n",
        "    out = self.dense4(out)\n",
        "    return out"
      ],
      "metadata": {
        "id": "EnASRAn7tZlL"
      },
      "execution_count": null,
      "outputs": []
    },
    {
      "cell_type": "code",
      "source": [
        "# init weight\n",
        "def init_weights(m):\n",
        "  if isinstance(m, nn.Linear):\n",
        "    # TODO: consider using other initialization schemes (He?)\n",
        "    torch.nn.init.xavier_uniform_(m.weight.data)\n",
        "    m.bias.data.fill_(0)"
      ],
      "metadata": {
        "id": "o6SBnktGtfOH"
      },
      "execution_count": null,
      "outputs": []
    },
    {
      "cell_type": "code",
      "source": [
        "gpu_boole = torch.cuda.is_available()\n",
        "print(gpu_boole)"
      ],
      "metadata": {
        "colab": {
          "base_uri": "https://localhost:8080/"
        },
        "id": "9AR3Y9BZtnxL",
        "outputId": "2e36fe27-ed9c-4361-c286-cd59f8a7a1df"
      },
      "execution_count": null,
      "outputs": [
        {
          "output_type": "stream",
          "name": "stdout",
          "text": [
            "True\n"
          ]
        }
      ]
    },
    {
      "cell_type": "code",
      "source": [
        "net = Net(input_size=2054, output_size=18211)\n",
        "if gpu_boole:\n",
        "  net = net.cuda()"
      ],
      "metadata": {
        "id": "tEztG7YDtfJj",
        "colab": {
          "base_uri": "https://localhost:8080/",
          "height": 216
        },
        "outputId": "835788fe-f7b9-4e8e-8ae4-28c530b778a4"
      },
      "execution_count": 1,
      "outputs": [
        {
          "output_type": "error",
          "ename": "NameError",
          "evalue": "ignored",
          "traceback": [
            "\u001b[0;31m---------------------------------------------------------------------------\u001b[0m",
            "\u001b[0;31mNameError\u001b[0m                                 Traceback (most recent call last)",
            "\u001b[0;32m<ipython-input-1-f018cd293f2a>\u001b[0m in \u001b[0;36m<cell line: 1>\u001b[0;34m()\u001b[0m\n\u001b[0;32m----> 1\u001b[0;31m \u001b[0mnet\u001b[0m \u001b[0;34m=\u001b[0m \u001b[0mNet\u001b[0m\u001b[0;34m(\u001b[0m\u001b[0minput_size\u001b[0m\u001b[0;34m=\u001b[0m\u001b[0;36m2054\u001b[0m\u001b[0;34m,\u001b[0m \u001b[0moutput_size\u001b[0m\u001b[0;34m=\u001b[0m\u001b[0;36m18211\u001b[0m\u001b[0;34m)\u001b[0m\u001b[0;34m\u001b[0m\u001b[0;34m\u001b[0m\u001b[0m\n\u001b[0m\u001b[1;32m      2\u001b[0m \u001b[0;32mif\u001b[0m \u001b[0mgpu_boole\u001b[0m\u001b[0;34m:\u001b[0m\u001b[0;34m\u001b[0m\u001b[0;34m\u001b[0m\u001b[0m\n\u001b[1;32m      3\u001b[0m   \u001b[0mnet\u001b[0m \u001b[0;34m=\u001b[0m \u001b[0mnet\u001b[0m\u001b[0;34m.\u001b[0m\u001b[0mcuda\u001b[0m\u001b[0;34m(\u001b[0m\u001b[0;34m)\u001b[0m\u001b[0;34m\u001b[0m\u001b[0;34m\u001b[0m\u001b[0m\n",
            "\u001b[0;31mNameError\u001b[0m: name 'Net' is not defined"
          ]
        }
      ]
    },
    {
      "cell_type": "code",
      "source": [
        "optim = torch.optim.AdamW(net.parameters(), lr=learning_rate, weight_decay=decay)\n",
        "#optim = torch.optim.SGD(net.parameters(), lr=learning_rate, weight_decay=decay)"
      ],
      "metadata": {
        "id": "UvR6OUwqtrnj"
      },
      "execution_count": null,
      "outputs": []
    },
    {
      "cell_type": "code",
      "source": [
        "def train(loader, model, optimizer, loss_fn, gpu_boole):\n",
        "  model.train()\n",
        "  total_loss = 0\n",
        "  for data in tqdm(loader):\n",
        "    x = data[0]\n",
        "    y = data[1]\n",
        "    if gpu_boole:\n",
        "      x = x.cuda()\n",
        "      y = y.cuda()\n",
        "    optimizer.zero_grad()\n",
        "    out = model(x)\n",
        "    loss = loss_fn(out, y)\n",
        "    total_loss += loss\n",
        "    loss.backward()\n",
        "    optimizer.step()\n",
        "  # average loss per batch\n",
        "  return total_loss / len(loader)"
      ],
      "metadata": {
        "id": "l223CZkLtuLI"
      },
      "execution_count": null,
      "outputs": []
    },
    {
      "cell_type": "code",
      "source": [
        "def evaluate(loader, model, loss_fn, gpu_boole):\n",
        "  model.eval()\n",
        "  total_loss = 0\n",
        "  with torch.no_grad():\n",
        "    for data in tqdm(loader):\n",
        "      x = data[0]\n",
        "      y = data[1]\n",
        "      if gpu_boole:\n",
        "        x = x.cuda()\n",
        "        y = y.cuda()\n",
        "      out = model(x)\n",
        "      loss = loss_fn(out, y)\n",
        "      total_loss += loss\n",
        "  return total_loss / len(loader)"
      ],
      "metadata": {
        "id": "VsgG53pUtvse"
      },
      "execution_count": null,
      "outputs": []
    },
    {
      "cell_type": "code",
      "source": [
        "net.apply(init_weights)\n",
        "loss = evaluate(val_loader, net, loss_fn, gpu_boole)\n",
        "print(\"Average validation loss per batch: \" + str(loss.cpu().data.numpy()))"
      ],
      "metadata": {
        "colab": {
          "base_uri": "https://localhost:8080/"
        },
        "id": "JhH3Y51QtzSJ",
        "outputId": "50fe5b9e-8552-4b81-9955-a46f77a67296"
      },
      "execution_count": null,
      "outputs": [
        {
          "output_type": "stream",
          "name": "stderr",
          "text": [
            "100%|██████████| 1/1 [00:00<00:00, 18.30it/s]"
          ]
        },
        {
          "output_type": "stream",
          "name": "stdout",
          "text": [
            "Average validation loss per batch: 18.506943\n"
          ]
        },
        {
          "output_type": "stream",
          "name": "stderr",
          "text": [
            "\n"
          ]
        }
      ]
    },
    {
      "cell_type": "code",
      "source": [
        "train_loss = []\n",
        "val_loss = []\n",
        "min_val_loss = float('inf')\n",
        "\n",
        "for epoch in range(epochs):\n",
        "  time1 = time.time()\n",
        "  print(\"Epoch\",epoch+1,':')\n",
        "  loss = train(train_loader, net, optim, loss_fn, gpu_boole)\n",
        "  print(\"Average train loss per batch: \" + str(loss.cpu().data.numpy()))\n",
        "  train_loss.append(loss.cpu().data.numpy())\n",
        "  loss = evaluate(val_loader, net, loss_fn, gpu_boole)\n",
        "  print(\"Average validation loss per batch: \" + str(loss.cpu().data.numpy()))\n",
        "  val_loss.append(loss.cpu().data.numpy())\n",
        "  if loss.cpu().data.numpy() < min_val_loss:\n",
        "    min_val_loss = loss.cpu().data.numpy()\n",
        "    torch.save(net.state_dict(), 'best_model_params.pt')\n",
        "\n",
        "  time2 = time.time() #timekeeping\n",
        "  print('\\nElapsed time for epoch:',time2 - time1,'s')\n",
        "  print('ETA of completion:',(time2 - time1)*(epochs - epoch - 1)/60,'minutes')\n",
        "  print()"
      ],
      "metadata": {
        "colab": {
          "base_uri": "https://localhost:8080/"
        },
        "id": "29K9Idzjt1LG",
        "outputId": "f146fdaf-1adb-4deb-cc99-6e790badf45f"
      },
      "execution_count": null,
      "outputs": [
        {
          "output_type": "stream",
          "name": "stdout",
          "text": [
            "Epoch 1 :\n"
          ]
        },
        {
          "output_type": "stream",
          "name": "stderr",
          "text": [
            "100%|██████████| 2/2 [00:02<00:00,  1.49s/it]\n"
          ]
        },
        {
          "output_type": "stream",
          "name": "stdout",
          "text": [
            "Average train loss per batch: 6.6804266\n"
          ]
        },
        {
          "output_type": "stream",
          "name": "stderr",
          "text": [
            "100%|██████████| 1/1 [00:00<00:00, 26.94it/s]\n"
          ]
        },
        {
          "output_type": "stream",
          "name": "stdout",
          "text": [
            "Average validation loss per batch: 18.338364\n",
            "\n",
            "Elapsed time for epoch: 7.580607652664185 s\n",
            "ETA of completion: 2.4005257566769918 minutes\n",
            "\n",
            "Epoch 2 :\n"
          ]
        },
        {
          "output_type": "stream",
          "name": "stderr",
          "text": [
            "100%|██████████| 2/2 [00:03<00:00,  1.51s/it]\n"
          ]
        },
        {
          "output_type": "stream",
          "name": "stdout",
          "text": [
            "Average train loss per batch: 5.6989164\n"
          ]
        },
        {
          "output_type": "stream",
          "name": "stderr",
          "text": [
            "100%|██████████| 1/1 [00:00<00:00, 24.17it/s]\n"
          ]
        },
        {
          "output_type": "stream",
          "name": "stdout",
          "text": [
            "Average validation loss per batch: 18.13774\n",
            "\n",
            "Elapsed time for epoch: 7.643613338470459 s\n",
            "ETA of completion: 2.293084001541138 minutes\n",
            "\n",
            "Epoch 3 :\n"
          ]
        },
        {
          "output_type": "stream",
          "name": "stderr",
          "text": [
            "100%|██████████| 2/2 [00:02<00:00,  1.48s/it]\n"
          ]
        },
        {
          "output_type": "stream",
          "name": "stdout",
          "text": [
            "Average train loss per batch: 9.378514\n"
          ]
        },
        {
          "output_type": "stream",
          "name": "stderr",
          "text": [
            "100%|██████████| 1/1 [00:00<00:00, 26.02it/s]\n"
          ]
        },
        {
          "output_type": "stream",
          "name": "stdout",
          "text": [
            "Average validation loss per batch: 17.73658\n",
            "\n",
            "Elapsed time for epoch: 8.17765212059021 s\n",
            "ETA of completion: 2.317001434167226 minutes\n",
            "\n",
            "Epoch 4 :\n"
          ]
        },
        {
          "output_type": "stream",
          "name": "stderr",
          "text": [
            "100%|██████████| 2/2 [00:03<00:00,  1.51s/it]\n"
          ]
        },
        {
          "output_type": "stream",
          "name": "stdout",
          "text": [
            "Average train loss per batch: 5.5913415\n"
          ]
        },
        {
          "output_type": "stream",
          "name": "stderr",
          "text": [
            "100%|██████████| 1/1 [00:00<00:00, 26.76it/s]\n"
          ]
        },
        {
          "output_type": "stream",
          "name": "stdout",
          "text": [
            "Average validation loss per batch: 17.427923\n",
            "\n",
            "Elapsed time for epoch: 9.42922067642212 s\n",
            "ETA of completion: 2.5144588470458986 minutes\n",
            "\n",
            "Epoch 5 :\n"
          ]
        },
        {
          "output_type": "stream",
          "name": "stderr",
          "text": [
            "100%|██████████| 2/2 [00:02<00:00,  1.49s/it]\n"
          ]
        },
        {
          "output_type": "stream",
          "name": "stdout",
          "text": [
            "Average train loss per batch: 4.9143767\n"
          ]
        },
        {
          "output_type": "stream",
          "name": "stderr",
          "text": [
            "100%|██████████| 1/1 [00:00<00:00, 26.61it/s]\n"
          ]
        },
        {
          "output_type": "stream",
          "name": "stdout",
          "text": [
            "Average validation loss per batch: 17.711332\n",
            "\n",
            "Elapsed time for epoch: 3.0767619609832764 s\n",
            "ETA of completion: 0.7691904902458191 minutes\n",
            "\n",
            "Epoch 6 :\n"
          ]
        },
        {
          "output_type": "stream",
          "name": "stderr",
          "text": [
            "100%|██████████| 2/2 [00:02<00:00,  1.48s/it]\n"
          ]
        },
        {
          "output_type": "stream",
          "name": "stdout",
          "text": [
            "Average train loss per batch: 4.016615\n"
          ]
        },
        {
          "output_type": "stream",
          "name": "stderr",
          "text": [
            "100%|██████████| 1/1 [00:00<00:00, 25.03it/s]\n"
          ]
        },
        {
          "output_type": "stream",
          "name": "stdout",
          "text": [
            "Average validation loss per batch: 17.595306\n",
            "\n",
            "Elapsed time for epoch: 3.0508222579956055 s\n",
            "ETA of completion: 0.7118585268656413 minutes\n",
            "\n",
            "Epoch 7 :\n"
          ]
        },
        {
          "output_type": "stream",
          "name": "stderr",
          "text": [
            "100%|██████████| 2/2 [00:02<00:00,  1.46s/it]\n"
          ]
        },
        {
          "output_type": "stream",
          "name": "stdout",
          "text": [
            "Average train loss per batch: 4.2708983\n"
          ]
        },
        {
          "output_type": "stream",
          "name": "stderr",
          "text": [
            "100%|██████████| 1/1 [00:00<00:00, 25.66it/s]\n"
          ]
        },
        {
          "output_type": "stream",
          "name": "stdout",
          "text": [
            "Average validation loss per batch: 17.3128\n",
            "\n",
            "Elapsed time for epoch: 7.6195268630981445 s\n",
            "ETA of completion: 1.650897487004598 minutes\n",
            "\n",
            "Epoch 8 :\n"
          ]
        },
        {
          "output_type": "stream",
          "name": "stderr",
          "text": [
            "100%|██████████| 2/2 [00:02<00:00,  1.49s/it]\n"
          ]
        },
        {
          "output_type": "stream",
          "name": "stdout",
          "text": [
            "Average train loss per batch: 4.676385\n"
          ]
        },
        {
          "output_type": "stream",
          "name": "stderr",
          "text": [
            "100%|██████████| 1/1 [00:00<00:00, 25.54it/s]\n"
          ]
        },
        {
          "output_type": "stream",
          "name": "stdout",
          "text": [
            "Average validation loss per batch: 17.20286\n",
            "\n",
            "Elapsed time for epoch: 7.576198101043701 s\n",
            "ETA of completion: 1.5152396202087401 minutes\n",
            "\n",
            "Epoch 9 :\n"
          ]
        },
        {
          "output_type": "stream",
          "name": "stderr",
          "text": [
            "100%|██████████| 2/2 [00:02<00:00,  1.48s/it]\n"
          ]
        },
        {
          "output_type": "stream",
          "name": "stdout",
          "text": [
            "Average train loss per batch: 4.9315634\n"
          ]
        },
        {
          "output_type": "stream",
          "name": "stderr",
          "text": [
            "100%|██████████| 1/1 [00:00<00:00, 26.79it/s]\n"
          ]
        },
        {
          "output_type": "stream",
          "name": "stdout",
          "text": [
            "Average validation loss per batch: 17.15943\n",
            "\n",
            "Elapsed time for epoch: 10.766138553619385 s\n",
            "ETA of completion: 1.973792068163554 minutes\n",
            "\n",
            "Epoch 10 :\n"
          ]
        },
        {
          "output_type": "stream",
          "name": "stderr",
          "text": [
            "100%|██████████| 2/2 [00:02<00:00,  1.47s/it]\n"
          ]
        },
        {
          "output_type": "stream",
          "name": "stdout",
          "text": [
            "Average train loss per batch: 9.2793045\n"
          ]
        },
        {
          "output_type": "stream",
          "name": "stderr",
          "text": [
            "100%|██████████| 1/1 [00:00<00:00, 24.94it/s]\n"
          ]
        },
        {
          "output_type": "stream",
          "name": "stdout",
          "text": [
            "Average validation loss per batch: 17.09315\n",
            "\n",
            "Elapsed time for epoch: 7.434345483779907 s\n",
            "ETA of completion: 1.2390575806299846 minutes\n",
            "\n",
            "Epoch 11 :\n"
          ]
        },
        {
          "output_type": "stream",
          "name": "stderr",
          "text": [
            "100%|██████████| 2/2 [00:02<00:00,  1.49s/it]\n"
          ]
        },
        {
          "output_type": "stream",
          "name": "stdout",
          "text": [
            "Average train loss per batch: 3.7015965\n"
          ]
        },
        {
          "output_type": "stream",
          "name": "stderr",
          "text": [
            "100%|██████████| 1/1 [00:00<00:00, 25.26it/s]\n"
          ]
        },
        {
          "output_type": "stream",
          "name": "stdout",
          "text": [
            "Average validation loss per batch: 17.017138\n",
            "\n",
            "Elapsed time for epoch: 9.918991327285767 s\n",
            "ETA of completion: 1.487848699092865 minutes\n",
            "\n",
            "Epoch 12 :\n"
          ]
        },
        {
          "output_type": "stream",
          "name": "stderr",
          "text": [
            "100%|██████████| 2/2 [00:02<00:00,  1.47s/it]\n"
          ]
        },
        {
          "output_type": "stream",
          "name": "stdout",
          "text": [
            "Average train loss per batch: 6.502224\n"
          ]
        },
        {
          "output_type": "stream",
          "name": "stderr",
          "text": [
            "100%|██████████| 1/1 [00:00<00:00, 24.62it/s]\n"
          ]
        },
        {
          "output_type": "stream",
          "name": "stdout",
          "text": [
            "Average validation loss per batch: 16.974566\n",
            "\n",
            "Elapsed time for epoch: 7.585461854934692 s\n",
            "ETA of completion: 1.0113949139912923 minutes\n",
            "\n",
            "Epoch 13 :\n"
          ]
        },
        {
          "output_type": "stream",
          "name": "stderr",
          "text": [
            "100%|██████████| 2/2 [00:02<00:00,  1.49s/it]\n"
          ]
        },
        {
          "output_type": "stream",
          "name": "stdout",
          "text": [
            "Average train loss per batch: 6.183755\n"
          ]
        },
        {
          "output_type": "stream",
          "name": "stderr",
          "text": [
            "100%|██████████| 1/1 [00:00<00:00, 25.79it/s]\n"
          ]
        },
        {
          "output_type": "stream",
          "name": "stdout",
          "text": [
            "Average validation loss per batch: 17.034966\n",
            "\n",
            "Elapsed time for epoch: 3.0766587257385254 s\n",
            "ETA of completion: 0.358943518002828 minutes\n",
            "\n",
            "Epoch 14 :\n"
          ]
        },
        {
          "output_type": "stream",
          "name": "stderr",
          "text": [
            "100%|██████████| 2/2 [00:02<00:00,  1.45s/it]\n"
          ]
        },
        {
          "output_type": "stream",
          "name": "stdout",
          "text": [
            "Average train loss per batch: 6.5694265\n"
          ]
        },
        {
          "output_type": "stream",
          "name": "stderr",
          "text": [
            "100%|██████████| 1/1 [00:00<00:00, 25.15it/s]\n"
          ]
        },
        {
          "output_type": "stream",
          "name": "stdout",
          "text": [
            "Average validation loss per batch: 17.477135\n",
            "\n",
            "Elapsed time for epoch: 3.0017001628875732 s\n",
            "ETA of completion: 0.30017001628875734 minutes\n",
            "\n",
            "Epoch 15 :\n"
          ]
        },
        {
          "output_type": "stream",
          "name": "stderr",
          "text": [
            "100%|██████████| 2/2 [00:02<00:00,  1.47s/it]\n"
          ]
        },
        {
          "output_type": "stream",
          "name": "stdout",
          "text": [
            "Average train loss per batch: 4.6291823\n"
          ]
        },
        {
          "output_type": "stream",
          "name": "stderr",
          "text": [
            "100%|██████████| 1/1 [00:00<00:00, 25.63it/s]\n"
          ]
        },
        {
          "output_type": "stream",
          "name": "stdout",
          "text": [
            "Average validation loss per batch: 17.868446\n",
            "\n",
            "Elapsed time for epoch: 3.035182476043701 s\n",
            "ETA of completion: 0.2529318730036418 minutes\n",
            "\n",
            "Epoch 16 :\n"
          ]
        },
        {
          "output_type": "stream",
          "name": "stderr",
          "text": [
            "100%|██████████| 2/2 [00:02<00:00,  1.47s/it]\n"
          ]
        },
        {
          "output_type": "stream",
          "name": "stdout",
          "text": [
            "Average train loss per batch: 5.5283422\n"
          ]
        },
        {
          "output_type": "stream",
          "name": "stderr",
          "text": [
            "100%|██████████| 1/1 [00:00<00:00, 24.24it/s]\n"
          ]
        },
        {
          "output_type": "stream",
          "name": "stdout",
          "text": [
            "Average validation loss per batch: 17.51718\n",
            "\n",
            "Elapsed time for epoch: 3.047353982925415 s\n",
            "ETA of completion: 0.20315693219502767 minutes\n",
            "\n",
            "Epoch 17 :\n"
          ]
        },
        {
          "output_type": "stream",
          "name": "stderr",
          "text": [
            "100%|██████████| 2/2 [00:02<00:00,  1.45s/it]\n"
          ]
        },
        {
          "output_type": "stream",
          "name": "stdout",
          "text": [
            "Average train loss per batch: 5.9919243\n"
          ]
        },
        {
          "output_type": "stream",
          "name": "stderr",
          "text": [
            "100%|██████████| 1/1 [00:00<00:00, 25.21it/s]\n"
          ]
        },
        {
          "output_type": "stream",
          "name": "stdout",
          "text": [
            "Average validation loss per batch: 17.209238\n",
            "\n",
            "Elapsed time for epoch: 2.9943623542785645 s\n",
            "ETA of completion: 0.14971811771392823 minutes\n",
            "\n",
            "Epoch 18 :\n"
          ]
        },
        {
          "output_type": "stream",
          "name": "stderr",
          "text": [
            "100%|██████████| 2/2 [00:02<00:00,  1.45s/it]\n"
          ]
        },
        {
          "output_type": "stream",
          "name": "stdout",
          "text": [
            "Average train loss per batch: 9.732882\n"
          ]
        },
        {
          "output_type": "stream",
          "name": "stderr",
          "text": [
            "100%|██████████| 1/1 [00:00<00:00, 26.11it/s]\n"
          ]
        },
        {
          "output_type": "stream",
          "name": "stdout",
          "text": [
            "Average validation loss per batch: 17.347725\n",
            "\n",
            "Elapsed time for epoch: 3.0082497596740723 s\n",
            "ETA of completion: 0.10027499198913574 minutes\n",
            "\n",
            "Epoch 19 :\n"
          ]
        },
        {
          "output_type": "stream",
          "name": "stderr",
          "text": [
            "100%|██████████| 2/2 [00:02<00:00,  1.46s/it]\n"
          ]
        },
        {
          "output_type": "stream",
          "name": "stdout",
          "text": [
            "Average train loss per batch: 5.073471\n"
          ]
        },
        {
          "output_type": "stream",
          "name": "stderr",
          "text": [
            "100%|██████████| 1/1 [00:00<00:00, 24.75it/s]\n"
          ]
        },
        {
          "output_type": "stream",
          "name": "stdout",
          "text": [
            "Average validation loss per batch: 18.225973\n",
            "\n",
            "Elapsed time for epoch: 3.017261028289795 s\n",
            "ETA of completion: 0.05028768380482992 minutes\n",
            "\n",
            "Epoch 20 :\n"
          ]
        },
        {
          "output_type": "stream",
          "name": "stderr",
          "text": [
            "100%|██████████| 2/2 [00:02<00:00,  1.46s/it]\n"
          ]
        },
        {
          "output_type": "stream",
          "name": "stdout",
          "text": [
            "Average train loss per batch: 5.4072127\n"
          ]
        },
        {
          "output_type": "stream",
          "name": "stderr",
          "text": [
            "100%|██████████| 1/1 [00:00<00:00, 26.37it/s]"
          ]
        },
        {
          "output_type": "stream",
          "name": "stdout",
          "text": [
            "Average validation loss per batch: 19.474396\n",
            "\n",
            "Elapsed time for epoch: 3.027172803878784 s\n",
            "ETA of completion: 0.0 minutes\n",
            "\n"
          ]
        },
        {
          "output_type": "stream",
          "name": "stderr",
          "text": [
            "\n"
          ]
        }
      ]
    },
    {
      "cell_type": "code",
      "source": [
        "plt.plot(train_loss, '-o', label = 'train_loss', color = 'blue')\n",
        "plt.plot(val_loss, '-o', label = 'validation_loss', color = 'gray')\n",
        "plt.xlabel('Epoch')\n",
        "plt.ylabel('Average Loss per Batch')\n",
        "plt.legend()\n",
        "plt.show()"
      ],
      "metadata": {
        "colab": {
          "base_uri": "https://localhost:8080/",
          "height": 449
        },
        "id": "UFJsMR5Nu5za",
        "outputId": "f6cb64f7-24a5-4c64-9ba4-d1c4159dad29"
      },
      "execution_count": null,
      "outputs": [
        {
          "output_type": "display_data",
          "data": {
            "text/plain": [
              "<Figure size 640x480 with 1 Axes>"
            ],
            "image/png": "[encoded data removed]"
          },
          "metadata": {}
        }
      ]
    },
    {
      "cell_type": "code",
      "source": [
        "id_map = pd.read_csv(\"./train/id_map.csv\", sep=\",\", dtype=str)\n",
        "id_map.columns\n",
        "id_map.head()"
      ],
      "metadata": {
        "id": "9j5mpXBw15hi"
      },
      "execution_count": null,
      "outputs": []
    },
    {
      "cell_type": "code",
      "source": [
        "ohe_col = []\n",
        "for x in id_map.cell_type:\n",
        "  if x == \"B cells\":\n",
        "    ohe_col.append([1.0, 0.0, 0.0, 0.0, 0.0, 0.0])\n",
        "  else:\n",
        "    ohe_col.append([0.0, 1.0, 0.0, 0.0, 0.0, 0.0])\n",
        "id_map[\"ohe_col\"] = ohe_col\n",
        "id_map.head()"
      ],
      "metadata": {
        "id": "VUMh5Fej19Ih"
      },
      "execution_count": null,
      "outputs": []
    },
    {
      "cell_type": "code",
      "source": [
        "pert_df = de_train[[\"sm_name\", \"fingerprint\"]]\n",
        "pert_df['fingerprint'] = pert_df['fingerprint'].apply(tuple)\n",
        "pert_df = pert_df.drop_duplicates()\n",
        "len(pert_df)\n",
        "pert_df['fingerprint'] = pert_df['fingerprint'].apply(tuple)"
      ],
      "metadata": {
        "id": "C4ZWbft01-vU"
      },
      "execution_count": null,
      "outputs": []
    },
    {
      "cell_type": "code",
      "source": [
        "def convert_to_array(lst):\n",
        "    return np.array(lst)"
      ],
      "metadata": {
        "id": "rRztiOkf2AMW"
      },
      "execution_count": null,
      "outputs": []
    },
    {
      "cell_type": "code",
      "source": [
        "pert_df['fingerprint'] = pert_df['fingerprint'].apply(convert_to_array)\n",
        "pert_df.head()"
      ],
      "metadata": {
        "id": "7sW7Bojd2C0d"
      },
      "execution_count": null,
      "outputs": []
    },
    {
      "cell_type": "code",
      "source": [
        "id_map_merged = pd.merge(id_map, pert_df, on=\"sm_name\", how='inner')\n",
        "id_map_merged.head()"
      ],
      "metadata": {
        "id": "G2SoXcWp2E6m"
      },
      "execution_count": null,
      "outputs": []
    },
    {
      "cell_type": "code",
      "source": [
        "genes = np.array(de_train.columns[5:18216])"
      ],
      "metadata": {
        "id": "vflOuRmA2C57"
      },
      "execution_count": null,
      "outputs": []
    },
    {
      "cell_type": "code",
      "source": [
        "out_fh = open(\"./submission.csv\", 'w')\n",
        "out_fh.write(\"id\")\n",
        "for g in genes:\n",
        "  out_fh.write(\",\" + g)\n",
        "out_fh.write(\"\\n\")"
      ],
      "metadata": {
        "id": "8rpNoUwY2Ice"
      },
      "execution_count": null,
      "outputs": []
    },
    {
      "cell_type": "code",
      "source": [
        "net_opt = Net(input_size=2054, output_size=18211)\n",
        "net_opt.load_state_dict(torch.load('best_model_params.pt'))\n",
        "net_opt.eval()"
      ],
      "metadata": {
        "id": "sXWXDTbc2UJd"
      },
      "execution_count": null,
      "outputs": []
    },
    {
      "cell_type": "code",
      "source": [
        "if gpu_boole:\n",
        "  net_opt = net_opt.cuda()"
      ],
      "metadata": {
        "id": "KpRXXvR-2V5Z"
      },
      "execution_count": null,
      "outputs": []
    },
    {
      "cell_type": "code",
      "source": [
        "for index, row in id_map_merged.iterrows():\n",
        "  t1 = torch.tensor(row['ohe_col'])\n",
        "  t2 = torch.tensor(row['fingerprint'])\n",
        "  t = torch.cat((t1, t2), dim=0)\n",
        "  if gpu_boole:\n",
        "    t = t.cuda()\n",
        "  t = t.reshape(1, -1)\n",
        "  # out = net(t)\n",
        "  out = net_opt(t)\n",
        "  out_fh.write(str(index))\n",
        "  out_np = out.cpu().data.numpy().flatten()\n",
        "  for x in out_np:\n",
        "    out_fh.write(\",\" + str(x))\n",
        "  out_fh.write(\"\\n\")"
      ],
      "metadata": {
        "id": "iR7jHPXw2ak_"
      },
      "execution_count": null,
      "outputs": []
    },
    {
      "cell_type": "code",
      "source": [
        "out_fh.close()"
      ],
      "metadata": {
        "id": "ehkggHE22boU"
      },
      "execution_count": null,
      "outputs": []
    }
  ]
}